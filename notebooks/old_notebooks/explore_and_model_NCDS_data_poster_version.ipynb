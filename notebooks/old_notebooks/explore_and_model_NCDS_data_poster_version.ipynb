{
 "cells": [
  {
   "cell_type": "markdown",
   "metadata": {},
   "source": [
    "# CS 109A Data Science: Project\n",
    "**Harvard University**<br>\n",
    "**Fall 2016**<br>\n",
    "**Team member:** Becerra, Fernando; Mayo, Andrew Wayne; Ding, Yi; Cao, Xinrui<br>\n",
    "**Project topic:** Predicting Seizures and Epilepsy"
   ]
  },
  {
   "cell_type": "code",
   "execution_count": 44,
   "metadata": {
    "collapsed": true
   },
   "outputs": [],
   "source": [
    "import numpy as np\n",
    "import pandas as pd\n",
    "import scipy as sp\n",
    "import time\n",
    "from scipy.stats import mode\n",
    "from sklearn import linear_model\n",
    "import sklearn.linear_model as sk\n",
    "import matplotlib\n",
    "import matplotlib.pyplot as plt\n",
    "from sklearn import discriminant_analysis\n",
    "import sklearn.discriminant_analysis as da\n",
    "from sklearn.decomposition import PCA\n",
    "from sklearn.neighbors import KNeighborsClassifier as KNN\n",
    "from sklearn import preprocessing\n",
    "from sklearn.preprocessing import PolynomialFeatures\n",
    "\n",
    "from sklearn.linear_model import LogisticRegression\n",
    "from sklearn.discriminant_analysis import LinearDiscriminantAnalysis as LDA\n",
    "from sklearn.discriminant_analysis import QuadraticDiscriminantAnalysis as QDA\n",
    "from sklearn.tree import DecisionTreeClassifier as DecisionTree\n",
    "from sklearn.ensemble import RandomForestClassifier as RandomForest\n",
    "from sklearn.svm import SVC\n",
    "from sklearn.cross_validation import train_test_split\n",
    "from sklearn.metrics import confusion_matrix\n",
    "from sklearn.preprocessing import OneHotEncoder\n",
    "\n",
    "%matplotlib inline"
   ]
  },
  {
   "cell_type": "markdown",
   "metadata": {},
   "source": [
    "# Cleaning"
   ]
  },
  {
   "cell_type": "code",
   "execution_count": 45,
   "metadata": {
    "collapsed": false
   },
   "outputs": [],
   "source": [
    "# Read in data set UKDA-2024-tab\n",
    "UKDA16 = pd.read_table('./datasets/NCDS/ncds0123.tab')"
   ]
  },
  {
   "cell_type": "code",
   "execution_count": 46,
   "metadata": {
    "collapsed": false
   },
   "outputs": [],
   "source": [
    "#sweep 1\n",
    "# reason for special education\n",
    "a = (UKDA16['n390'] =='10') | (UKDA16['n391'] =='10') | (UKDA16['n392'] =='10')\n",
    "# Epileptic condition\n",
    "b = (UKDA16['n415'] =='3') | (UKDA16['n415'] =='4')| (UKDA16['n415'] =='5') | (UKDA16['n415'] =='6')\n",
    "# Fit or convulsion in 1st year of life\n",
    "c = (UKDA16['n274'] == '2')\n",
    "# Fit or convulsion after 1st year\n",
    "d = (UKDA16['n275'] == '2')\n",
    "# Epilepsy identification\n",
    "e = (UKDA16['n1842']=='5')\n",
    "s1 =a|b|c|d|e"
   ]
  },
  {
   "cell_type": "code",
   "execution_count": 47,
   "metadata": {
    "collapsed": false
   },
   "outputs": [],
   "source": [
    "# sweep 2\n",
    "# Has child had epilepsy attacks\n",
    "a = (UKDA16['n1307']=='1')|(UKDA16['n1307']=='2')|(UKDA16['n1307']=='3')|(UKDA16['n1307']=='4')|(UKDA16['n1307']=='5')\n",
    "# Age at most recent epilepsy attack\n",
    "UKDA16['n1314']\n",
    "# Age at 1st epilepsy attack\n",
    "UKDA16['n1317']\n",
    "# Reason for special education\n",
    "b = (UKDA16['n1477'] =='7') | (UKDA16['n1478'] =='7') | (UKDA16['n1479'] =='7')\n",
    "# Reason for absence from school\n",
    "c = (UKDA16['n1321']=='8') |(UKDA16['n1322']=='8')|(UKDA16['n1323']=='8')|(UKDA16['n1324']=='8')|(UKDA16['n1325']=='8') \n",
    "# Reason for prescription\n",
    "d = (UKDA16['n1337']=='1') |(UKDA16['n1338']=='1')\n",
    "# Ever seen specialist-convulsions,fits\n",
    "e = (UKDA16['n1394']=='2')|(UKDA16['n1394']=='3')|(UKDA16['n1394']=='5')\n",
    "# Has child ever had convulsions\n",
    "f = (UKDA16['n1502'] =='2')| (UKDA16['n1502'] =='3')|(UKDA16['n1502'] =='4')\n",
    "s2 = a|b|c|d|e\n",
    "s1s2 =s1|s2"
   ]
  },
  {
   "cell_type": "code",
   "execution_count": 48,
   "metadata": {
    "collapsed": false
   },
   "outputs": [],
   "source": [
    "# sweep 3\n",
    "# Type hcap for which will require help\n",
    "a = (UKDA16['n2416'] =='7')\n",
    "# Nature of child-s disability-\n",
    "b = (UKDA16['n2663'] =='7')|(UKDA16['n2664'] =='7')|(UKDA16['n2665'] =='7')|(UKDA16['n2666'] =='7')|(UKDA16['n2667'] =='7')\n",
    "# Category of child's handicap\n",
    "c = (UKDA16['n1893'] =='8')|(UKDA16['n1894'] =='8')|(UKDA16['n1895'] =='8')\n",
    "# Reason for hosp admiss last 12 mnths\n",
    "d = (UKDA16['n1904'] =='17')\n",
    "# Reason hosp outpatient last yr\n",
    "e = (UKDA16['n1910'] =='17')\n",
    "# Epilepsy\n",
    "#f = (UKDA16['n2032'] =='17')\n",
    "# Reason for absence from school\n",
    "g = (UKDA16['n2554'] =='11')|(UKDA16['n2556'] =='11')|(UKDA16['n2557'] =='11')|(UKDA16['n2558'] =='11')|(UKDA16['n2559'] =='11')\n",
    "# Hospital admissions\n",
    "h = (UKDA16['n2598'] =='7') | (UKDA16['n2599'] =='7') | (UKDA16['n2600'] =='7') | (UKDA16['n2601'] =='7') \n",
    "# Hosp outpatient,diagnosed cond\n",
    "j = (UKDA16['n2603'] =='10')|(UKDA16['n2604'] =='10')|(UKDA16['n2605'] =='10')|(UKDA16['n2606'] =='10')|(UKDA16['n2607'] =='10')|(UKDA16['n2608'] =='10')\n",
    "# Convulsions,fits-unconsciousness\n",
    "k = (UKDA16['n2614'] =='1')\n",
    "# When convulsions,fits 1st occured\n",
    "(UKDA16['n2615'] =='5')|(UKDA16['n2615'] =='5')\n",
    "# Convulsions-most recent occurrence\n",
    "l = (UKDA16['n2616'] =='1')|(UKDA16['n2616'] =='2')|(UKDA16['n2616'] =='3')|(UKDA16['n2616'] =='4')\n",
    "s3 = d|e|g|h|j|l"
   ]
  },
  {
   "cell_type": "markdown",
   "metadata": {},
   "source": [
    "- From Sweep 1 and Sweep 2, we extract all children who had any sign of epilepsy and convulsion. \n",
    "- From Sweep 3, we extract all children who had any sign of epilepsy and convulsion after age 11 (eg. hospitalization for convulsion or epilepsy, recent occurence of convulsion within 7 years)\n",
    "- We take the join of s1s2 and s3, which include all children who have sign of epilepsy before 11 and had recurrence after 11."
   ]
  },
  {
   "cell_type": "code",
   "execution_count": 49,
   "metadata": {
    "collapsed": false
   },
   "outputs": [
    {
     "data": {
      "text/plain": [
       "1026"
      ]
     },
     "execution_count": 49,
     "metadata": {},
     "output_type": "execute_result"
    }
   ],
   "source": [
    "sum(s1s2)"
   ]
  },
  {
   "cell_type": "code",
   "execution_count": 50,
   "metadata": {
    "collapsed": false,
    "scrolled": true
   },
   "outputs": [
    {
     "data": {
      "text/plain": [
       "250"
      ]
     },
     "execution_count": 50,
     "metadata": {},
     "output_type": "execute_result"
    }
   ],
   "source": [
    "sum(s1s2 & s3)"
   ]
  },
  {
   "cell_type": "markdown",
   "metadata": {},
   "source": [
    "- select social economic status and medical status variables from three sweep and combine"
   ]
  },
  {
   "cell_type": "code",
   "execution_count": 51,
   "metadata": {
    "collapsed": false
   },
   "outputs": [
    {
     "name": "stdout",
     "output_type": "stream",
     "text": [
      "126\n"
     ]
    }
   ],
   "source": [
    "filename = \"./datasets/NCDS/sweep1_new.txt\"\n",
    "s1_variable = []\n",
    "for line in open(filename):\n",
    "    if 'Pos.' in line:\n",
    "        name = line.rstrip().replace(\"\\t\",' ').split(' ')[5]\n",
    "        s1_variable.append(name)\n",
    "        \n",
    "print len(s1_variable)"
   ]
  },
  {
   "cell_type": "code",
   "execution_count": 52,
   "metadata": {
    "collapsed": false
   },
   "outputs": [
    {
     "name": "stdout",
     "output_type": "stream",
     "text": [
      "44\n"
     ]
    }
   ],
   "source": [
    "filename = \"./datasets/NCDS/sweep2_new.txt\"\n",
    "s2_variable = []\n",
    "for line in open(filename):\n",
    "    if 'Pos.' in line:\n",
    "        name = line.rstrip().replace(\"\\t\",' ').split(' ')[5]\n",
    "        s2_variable.append(name)\n",
    "        \n",
    "print len(s2_variable)"
   ]
  },
  {
   "cell_type": "code",
   "execution_count": 53,
   "metadata": {
    "collapsed": false
   },
   "outputs": [
    {
     "name": "stdout",
     "output_type": "stream",
     "text": [
      "37\n"
     ]
    }
   ],
   "source": [
    "filename = \"./datasets/NCDS/sweep3_new.txt\"\n",
    "s3_variable = []\n",
    "for line in open(filename):\n",
    "    if 'Pos.' in line:\n",
    "        name = line.rstrip().replace(\"\\t\",' ').split(' ')[5]\n",
    "        s3_variable.append(name)\n",
    "        \n",
    "print len(s3_variable)"
   ]
  },
  {
   "cell_type": "code",
   "execution_count": 54,
   "metadata": {
    "collapsed": true
   },
   "outputs": [],
   "source": [
    "variables = s1_variable + s2_variable + s3_variable"
   ]
  },
  {
   "cell_type": "markdown",
   "metadata": {},
   "source": [
    "### Here comes our final dataset!"
   ]
  },
  {
   "cell_type": "code",
   "execution_count": 55,
   "metadata": {
    "collapsed": false
   },
   "outputs": [],
   "source": [
    "data = UKDA16[variables][s1s2]"
   ]
  },
  {
   "cell_type": "markdown",
   "metadata": {},
   "source": [
    "- Count missing rate"
   ]
  },
  {
   "cell_type": "code",
   "execution_count": 56,
   "metadata": {
    "collapsed": false
   },
   "outputs": [
    {
     "data": {
      "text/plain": [
       "188"
      ]
     },
     "execution_count": 56,
     "metadata": {},
     "output_type": "execute_result"
    }
   ],
   "source": [
    "a = (data=='-1').sum(axis =0)/1046\n",
    "b = (data==' ').sum(axis =0)/1046\n",
    "sum(a+b<0.5)"
   ]
  },
  {
   "cell_type": "code",
   "execution_count": 57,
   "metadata": {
    "collapsed": false
   },
   "outputs": [],
   "source": [
    "#drop data with >0.5 missing rate\n",
    "data = data[list(data.columns[np.where(a+b<0.5)])]\n",
    "\n",
    "# fill in the blanks as '-1'\n",
    "for col in data.columns:\n",
    "    value = data[col]\n",
    "    missing_index = (value == ' ')\n",
    "    data[col][missing_index] = '-1'"
   ]
  },
  {
   "cell_type": "code",
   "execution_count": 58,
   "metadata": {
    "collapsed": false
   },
   "outputs": [
    {
     "name": "stderr",
     "output_type": "stream",
     "text": [
      "/Users/Jessica/anaconda/lib/python2.7/site-packages/ipykernel/__main__.py:1: FutureWarning:\n",
      "\n",
      "convert_objects is deprecated.  Use the data-type specific converters pd.to_datetime, pd.to_timedelta and pd.to_numeric.\n",
      "\n"
     ]
    },
    {
     "data": {
      "text/plain": [
       "(1026, 188)"
      ]
     },
     "execution_count": 58,
     "metadata": {},
     "output_type": "execute_result"
    }
   ],
   "source": [
    "data = data.convert_objects(convert_numeric=True)\n",
    "data.shape"
   ]
  },
  {
   "cell_type": "code",
   "execution_count": 59,
   "metadata": {
    "collapsed": false
   },
   "outputs": [
    {
     "name": "stderr",
     "output_type": "stream",
     "text": [
      "/Users/Jessica/anaconda/lib/python2.7/site-packages/ipykernel/__main__.py:8: SettingWithCopyWarning:\n",
      "\n",
      "\n",
      "A value is trying to be set on a copy of a slice from a DataFrame\n",
      "\n",
      "See the caveats in the documentation: http://pandas.pydata.org/pandas-docs/stable/indexing.html#indexing-view-versus-copy\n",
      "\n"
     ]
    }
   ],
   "source": [
    "# fill in the missing data\n",
    "# randomly choose a value from the same colunm\n",
    "for col in data.columns:\n",
    "    value = data[col]\n",
    "    if(len(np.unique(value))>20):\n",
    "        missing_index = (value == -1)\n",
    "        filled_index = (value != -1)\n",
    "        data[col][missing_index] = np.mean(value[filled_index])"
   ]
  },
  {
   "cell_type": "code",
   "execution_count": 60,
   "metadata": {
    "collapsed": false
   },
   "outputs": [
    {
     "data": {
      "text/plain": [
       "(1026, 1284)"
      ]
     },
     "execution_count": 60,
     "metadata": {},
     "output_type": "execute_result"
    }
   ],
   "source": [
    "data_dummy=pd.DataFrame()\n",
    "\n",
    "for i in data.columns:\n",
    "    if len(np.unique(data[i]))<=20:\n",
    "        data_dummy=pd.concat([data_dummy, pd.get_dummies(data[i])], axis=1)\n",
    "    else:\n",
    "        data_dummy=pd.concat([data_dummy, data[i]], axis=1)\n",
    "\n",
    "data_dummy.shape"
   ]
  },
  {
   "cell_type": "code",
   "execution_count": 61,
   "metadata": {
    "collapsed": false
   },
   "outputs": [],
   "source": [
    "# create response\n",
    "y = np.zeros(len(UKDA16))\n",
    "y = pd.DataFrame(y, index = UKDA16.index)\n",
    "y[s1s2&s3] = 1\n",
    "y = y[s1s2]\n",
    "y = y.astype(int)"
   ]
  },
  {
   "cell_type": "code",
   "execution_count": 62,
   "metadata": {
    "collapsed": false
   },
   "outputs": [],
   "source": [
    "y = y[0] # This is required so that y has the right shape"
   ]
  },
  {
   "cell_type": "markdown",
   "metadata": {},
   "source": [
    "# Model\n",
    "\n",
    "Predictors are in `data`, response is in `y`\n"
   ]
  },
  {
   "cell_type": "code",
   "execution_count": 63,
   "metadata": {
    "collapsed": true
   },
   "outputs": [],
   "source": [
    "def calculate_model(x_train, y_train, x_test, y_test, x, model):\n",
    "    model.fit(x_train, y_train)\n",
    "    y_pred = model.predict(x)\n",
    "    score_train = model.score(x_train, y_train)\n",
    "    score_test = model.score(x_test, y_test)\n",
    "    return score_train, score_test, y_pred\n",
    "\n",
    "def print_info(title, train, test, cm):\n",
    "    print '*** ' + title + ' ***'\n",
    "    print 'Training score: %.3f, Testing score: %.3f' %(train.mean(), test.mean())\n",
    "    print 'Non-relapse accuracy: %.3f, relapse accuracy: %.3f' %(float(cm[0, 0]) / cm[0].sum(), float(cm[1, 1]) / cm[1].sum())"
   ]
  },
  {
   "cell_type": "code",
   "execution_count": 64,
   "metadata": {
    "collapsed": true
   },
   "outputs": [],
   "source": [
    "def find_feature(position, index, features):\n",
    "    n = len(features)\n",
    "    for i in range(n-1):\n",
    "        if position in range(index[i],index[i+1]):\n",
    "            break\n",
    "    return features[i]\n",
    "    "
   ]
  },
  {
   "cell_type": "code",
   "execution_count": 65,
   "metadata": {
    "collapsed": false
   },
   "outputs": [
    {
     "data": {
      "text/plain": [
       "'n0region'"
      ]
     },
     "execution_count": 65,
     "metadata": {},
     "output_type": "execute_result"
    }
   ],
   "source": [
    "index = [0]\n",
    "i = 0\n",
    "for col in data.columns:\n",
    "    x = np.unique(data[col])\n",
    "    if len(x)<=20:\n",
    "        i = i+len(x)\n",
    "    else:\n",
    "        i = i+1\n",
    "    index = index + [i]\n",
    "    \n",
    "features = list(data.columns)\n",
    "\n",
    "find_feature(3, index, features)"
   ]
  },
  {
   "cell_type": "markdown",
   "metadata": {},
   "source": [
    "## A broad view of all methods"
   ]
  },
  {
   "cell_type": "code",
   "execution_count": 66,
   "metadata": {
    "collapsed": false,
    "scrolled": false
   },
   "outputs": [
    {
     "name": "stdout",
     "output_type": "stream",
     "text": [
      "Iteration 0\n",
      "Iteration 1\n",
      "Iteration 2\n",
      "Iteration 3\n",
      "Iteration 4\n",
      "Iteration 5\n",
      "Iteration 6\n",
      "Iteration 7\n",
      "Iteration 8\n",
      "Iteration 9\n",
      "*** LogReg ***\n",
      "Training score: 1.000, Testing score: 0.688\n",
      "Non-relapse accuracy: 0.997, relapse accuracy: 0.840\n",
      "*** LDA ***\n",
      "Training score: 0.984, Testing score: 0.629\n",
      "Non-relapse accuracy: 0.996, relapse accuracy: 0.864\n",
      "*** QDA ***\n",
      "Training score: 1.000, Testing score: 0.655\n",
      "Non-relapse accuracy: 1.000, relapse accuracy: 0.828\n",
      "*** DT ***\n",
      "Training score: 1.000, Testing score: 0.682\n",
      "Non-relapse accuracy: 1.000, relapse accuracy: 0.876\n",
      "Depth  1\n",
      "*** RF ***\n",
      "Training score: 0.982, Testing score: 0.737\n",
      "Non-relapse accuracy: 1.000, relapse accuracy: 0.616\n",
      "Depth  2\n",
      "*** SVC linear ***\n",
      "Training score: 1.000, Testing score: 0.685\n",
      "Non-relapse accuracy: 0.996, relapse accuracy: 0.860\n",
      "*** SVC quad ***\n",
      "Training score: 0.953, Testing score: 0.721\n",
      "Non-relapse accuracy: 0.999, relapse accuracy: 0.488\n"
     ]
    }
   ],
   "source": [
    "n_iter = 10\n",
    "n_rows = data_dummy.shape[0]\n",
    "depths = range(1,3)\n",
    "n_depths = len(depths)\n",
    "#Cs = [0.1, 1, 10, 100]\n",
    "#n_Cs = len(Cs)\n",
    "C = 10\n",
    "\n",
    "logreg_test = np.zeros(n_iter)\n",
    "logreg_train = np.zeros(n_iter)\n",
    "logreg_pred = np.zeros(n_rows)\n",
    "dt_test = np.zeros((n_iter, n_depths))\n",
    "dt_train = np.zeros((n_iter, n_depths))\n",
    "dt_pred = np.zeros((n_rows, n_depths))\n",
    "lda_test = np.zeros(n_iter)\n",
    "lda_train = np.zeros(n_iter)\n",
    "lda_pred = np.zeros(n_rows)\n",
    "qda_test = np.zeros(n_iter)\n",
    "qda_train = np.zeros(n_iter)\n",
    "qda_pred = np.zeros(n_rows)\n",
    "rf_test = np.zeros((n_iter, n_depths))\n",
    "rf_train = np.zeros((n_iter, n_depths))\n",
    "rf_pred = np.zeros((n_rows, n_depths))\n",
    "svc_linear_test = np.zeros(n_iter)\n",
    "svc_linear_train = np.zeros(n_iter)\n",
    "svc_linear_pred = np.zeros(n_rows)\n",
    "svc_quad_test = np.zeros(n_iter)\n",
    "svc_quad_train = np.zeros(n_iter)\n",
    "svc_quad_pred = np.zeros(n_rows)\n",
    "\n",
    "\n",
    "for i in range(n_iter):\n",
    "\n",
    "    print 'Iteration %i' %i\n",
    "\n",
    "    x_train, x_test, y_train, y_test = train_test_split(data_dummy, y, train_size=0.6)\n",
    "\n",
    "    logreg = LogisticRegression(C=1000)\n",
    "    logreg_train[i], logreg_test[i], y_pred = calculate_model(x_train, y_train, x_test, y_test, data_dummy, logreg)\n",
    "    logreg_pred += y_pred\n",
    "\n",
    "    lda = LDA()\n",
    "    lda_train[i], lda_test[i], y_pred = calculate_model(x_train, y_train, x_test, y_test, data_dummy, lda)\n",
    "    lda_pred += y_pred\n",
    "\n",
    "    qda = QDA()\n",
    "    qda_train[i], qda_test[i], y_pred = calculate_model(x_train, y_train, x_test, y_test, data_dummy, qda)\n",
    "    qda_pred += y_pred\n",
    "\n",
    "    for depth in depths:\n",
    "\n",
    "        dt = DecisionTree()\n",
    "        dt_train[i, depth-1], dt_test[i, depth-1], y_pred = calculate_model(x_train, y_train, x_test, y_test, data_dummy, dt)\n",
    "        dt_pred[:, depth-1] += y_pred\n",
    "\n",
    "        rf = RandomForest()\n",
    "        rf_train[i, depth-1], rf_test[i, depth-1], y_pred = calculate_model(x_train, y_train, x_test, y_test, data_dummy, rf)\n",
    "        rf_pred[:, depth-1] += y_pred\n",
    "\n",
    "\n",
    "    svc_linear = SVC(C=C, kernel='linear') #, class_weight=weights)\n",
    "    svc_linear_train[i], svc_linear_test[i], y_pred = calculate_model(x_train, y_train, x_test, y_test, data_dummy, svc_linear)\n",
    "    svc_linear_pred += y_pred \n",
    "\n",
    "    svc_quad = SVC(C=C, kernel='rbf') #, class_weight=weights)\n",
    "    svc_quad_train[i], svc_quad_test[i], y_pred = calculate_model(x_train, y_train, x_test, y_test, data_dummy, svc_quad)\n",
    "    svc_quad_pred += y_pred \n",
    "\n",
    "# Choose depth with maximum test score\n",
    "dt_idx = np.argmax(dt_test.mean(axis=0))\n",
    "rf_idx = np.argmax(rf_test.mean(axis=0))\n",
    "\n",
    "# Choose C with maximum test score\n",
    "svc_linear_idx = np.argmax(svc_linear_test.mean(axis=0))\n",
    "svc_quad_idx = np.argmax(svc_quad_test.mean(axis=0))\n",
    "\n",
    "# Take majority vote\n",
    "logreg_pred = [1 if pred > n_iter/2. else 0 for pred in logreg_pred]\n",
    "lda_pred = [1 if pred > n_iter/2. else 0 for pred in lda_pred]\n",
    "qda_pred = [1 if pred > n_iter/2. else 0 for pred in qda_pred]\n",
    "dt_pred = [1 if pred > n_iter/2. else 0 for pred in dt_pred[:, dt_idx]]\n",
    "rf_pred = [1 if pred > n_iter/2. else 0 for pred in rf_pred[:, rf_idx]]\n",
    "svc_linear_pred = [1 if pred > n_iter/2. else 0 for pred in svc_linear_pred]\n",
    "svc_quad_pred = [1 if pred > n_iter/2. else 0 for pred in svc_quad_pred]\n",
    "\n",
    "# Calculate accuracies\n",
    "logreg_cm = confusion_matrix(y, logreg_pred)\n",
    "lda_cm = confusion_matrix(y, lda_pred)\n",
    "qda_cm = confusion_matrix(y, qda_pred)\n",
    "dt_cm = confusion_matrix(y, dt_pred)\n",
    "rf_cm = confusion_matrix(y, rf_pred)\n",
    "svc_linear_cm = confusion_matrix(y, svc_linear_pred)\n",
    "svc_quad_cm = confusion_matrix(y, svc_quad_pred)\n",
    "\n",
    "print_info('LogReg', logreg_train, logreg_test, logreg_cm)\n",
    "print_info('LDA', lda_train, lda_test, lda_cm)\n",
    "print_info('QDA', qda_train, qda_test, qda_cm)\n",
    "print_info('DT', dt_train[:, dt_idx], dt_test[:, dt_idx], dt_cm)\n",
    "print 'Depth ', depths[dt_idx]\n",
    "print_info('RF', rf_train[:, rf_idx], rf_test[:, rf_idx], rf_cm)\n",
    "print 'Depth ', depths[rf_idx]\n",
    "print_info('SVC linear', svc_linear_train, svc_linear_test, svc_linear_cm)\n",
    "print_info('SVC quad', svc_quad_train, svc_quad_test, svc_quad_cm)"
   ]
  },
  {
   "cell_type": "markdown",
   "metadata": {},
   "source": [
    "Non-relapse and relapse accuracies are based on the *whole* dataset -- It is basically a misclassification rate. To calculate the prediction we use a majority vote based on `n_iter = 10`, just like we did in previous homework. For the case of decision tree and random forest, we also calculate the optimal depth."
   ]
  },
  {
   "cell_type": "markdown",
   "metadata": {},
   "source": [
    "## optimize decision tree method"
   ]
  },
  {
   "cell_type": "code",
   "execution_count": 67,
   "metadata": {
    "collapsed": false
   },
   "outputs": [],
   "source": [
    "##KFold corss validation to determine optimal regular parameter\n",
    "x_train, x_test, y_train, y_test = train_test_split(data_dummy, y, train_size=0.6)\n",
    "from sklearn.cross_validation import KFold\n",
    "\n",
    "y_cv = y_train\n",
    "x_cv = x_train\n",
    "y_cv.index = range(len(y_train))\n",
    "x_cv.index = range(len(y_train))\n",
    "\n",
    "score_train = np.zeros([100,5])\n",
    "score_test = np.zeros([100,5])\n",
    "accuracy_0 = np.zeros([100,5])\n",
    "accuracy_1 = np.zeros([100,5])\n",
    "\n",
    "score_K = np.zeros([100,4])\n",
    "\n",
    "kf = KFold(len(y_cv),5, shuffle=True)\n",
    "j=0 #index the jth fold\n",
    "\n",
    "for train_idx, test_idx in kf:\n",
    "    \n",
    "    # get training and testing sets \n",
    "    y_train, x_train = y_cv.ix[train_idx, ], x_cv.ix[train_idx, ]\n",
    "    y_test , x_test  = y_cv.ix[test_idx, ], x_cv.ix[test_idx, ]\n",
    "\n",
    "    # fit Lasso regression with varying lambda\n",
    "    for i in range(1,100):\n",
    "        dt = DecisionTree(max_depth= i)\n",
    "        dt.fit(x_train, y_train)\n",
    "        score_train[i,j] = dt.score(x_train, y_train)\n",
    "        score_test[i,j] = dt.score(x_test, y_test)\n",
    "        accuracy_0[i,j] = dt.score(x_test[y_test==0], y_test[y_test==0])\n",
    "        accuracy_1[i,j] = dt.score(x_test[y_test==1], y_test[y_test==1])\n",
    "    \n",
    "    # calculate r-squared mean across five fold for each lamda\n",
    "    for i in range(1,100):\n",
    "        score_K[i,0]=score_train[i,:].mean()\n",
    "        score_K[i,1]=score_test[i,:].mean()\n",
    "        score_K[i,2]=accuracy_0[i,:].mean()\n",
    "        score_K[i,3]=accuracy_1[i,:].mean()\n",
    "    \n",
    "    j=j+1  "
   ]
  },
  {
   "cell_type": "code",
   "execution_count": 68,
   "metadata": {
    "collapsed": false
   },
   "outputs": [
    {
     "data": {
      "image/png": "[encoded data removed]",
      "text/plain": [
       "<matplotlib.figure.Figure at 0x1186a3f90>"
      ]
     },
     "metadata": {},
     "output_type": "display_data"
    }
   ],
   "source": [
    "plt.figure(figsize=(8,6))\n",
    "plt.plot(range(1,100),score_K[1:100,0],'ro-', label ='train set')          \n",
    "plt.plot(range(1,100),score_K[1:100,1],'bo-', label ='test set') \n",
    "plt.plot(range(1,100),score_K[1:100,2],'rs-', label ='test set: Non-relapse') \n",
    "plt.plot(range(1,100),score_K[1:100,3],'bs-', label ='train set: relapse') \n",
    "\n",
    "plt.xlabel('depth')        \n",
    "plt.ylabel('accuracy') \n",
    "plt.legend(loc = 'best')         \n",
    "\n",
    "plt.show()"
   ]
  },
  {
   "cell_type": "markdown",
   "metadata": {},
   "source": [
    "## balance dataset"
   ]
  },
  {
   "cell_type": "code",
   "execution_count": 81,
   "metadata": {
    "collapsed": true
   },
   "outputs": [],
   "source": [
    "x_train, x_test, y_train, y_test = train_test_split(data_dummy, y, train_size=0.7)\n",
    "\n",
    "n=500\n",
    "ind0 = np.random.choice(y_train[y_train==0].index, n, replace=True)\n",
    "ind1 = np.random.choice(y_train[y_train==1].index, n, replace=True)\n",
    "x_frames = [x_train.ix[ind0,], x_train.ix[ind1, ]]\n",
    "x_train_sub = pd.concat(x_frames, axis = 0)\n",
    "y_frames = [y_train[ind0], y_train[ind1]]\n",
    "y_train_sub = pd.concat(y_frames, axis = 0)"
   ]
  },
  {
   "cell_type": "code",
   "execution_count": 82,
   "metadata": {
    "collapsed": false
   },
   "outputs": [],
   "source": [
    "pred_matrix = np.zeros((len(y_test),100))\n",
    "importance_matrix = np.zeros((1284, 100))\n",
    "for i in range(100):\n",
    "    dt = DecisionTree(max_depth = 30)\n",
    "    dt.fit(x_train_sub, y_train_sub)\n",
    "    pred_matrix[:,i] = dt.predict(x_test)\n",
    "    importance_matrix[:,i] = dt.feature_importances_"
   ]
  },
  {
   "cell_type": "code",
   "execution_count": 83,
   "metadata": {
    "collapsed": false
   },
   "outputs": [
    {
     "name": "stdout",
     "output_type": "stream",
     "text": [
      "accuracy of non-relapse:\n",
      "0.734439834025\n",
      "accuracy of relapse:\n",
      "0.55223880597\n"
     ]
    }
   ],
   "source": [
    "results = pred_matrix.mean(axis =1)\n",
    "results[results > 0.5 ]=1\n",
    "results[results < 0.5 ]=0\n",
    "results[results ==0.5] = np.random.choice([0,1])\n",
    "print('accuracy of non-relapse:')\n",
    "print np.mean((results == y_test)[y_test ==0])\n",
    "print('accuracy of relapse:')\n",
    "print np.mean((results == y_test)[y_test ==1])"
   ]
  },
  {
   "cell_type": "markdown",
   "metadata": {},
   "source": [
    "## get important features"
   ]
  },
  {
   "cell_type": "code",
   "execution_count": 84,
   "metadata": {
    "collapsed": false
   },
   "outputs": [
    {
     "name": "stdout",
     "output_type": "stream",
     "text": [
      "['n2531', 'n1454', 'n450', 'n1175', 'n504', 'n1175', 'n442', 'n496', 'n455', 'n497', 'n504', 'n283', 'n139', 'n1008', 'n1001', 'n1004', 'n121', 'n1447', 'n977', 'n526']\n",
      "[ 0.23954294  0.04898613  0.03048835  0.03021799  0.02682018  0.02347774\n",
      "  0.02188833  0.02184882  0.02141849  0.02116068  0.01952153  0.01733439\n",
      "  0.01641455  0.01608044  0.01339704  0.01327163  0.0118031   0.01179467\n",
      "  0.01159309  0.01138344]\n"
     ]
    }
   ],
   "source": [
    "importance = importance_matrix.mean(axis =1)\n",
    "indices = np.argsort(importance)[::-1][0:20]\n",
    "\n",
    "namelist = []\n",
    "for ind in indices:\n",
    "    name = find_feature(ind, index, features)\n",
    "    namelist.append(name)\n",
    "print namelist\n",
    "print importance[indices]"
   ]
  },
  {
   "cell_type": "code",
   "execution_count": 85,
   "metadata": {
    "collapsed": false
   },
   "outputs": [
    {
     "data": {
      "text/html": [
       "<iframe id=\"igraph\" scrolling=\"no\" style=\"border:none;\" seamless=\"seamless\" src=\"https://plot.ly/~JessicaCao84de/19.embed\" height=\"525px\" width=\"100%\"></iframe>"
      ],
      "text/plain": [
       "<plotly.tools.PlotlyDisplay object>"
      ]
     },
     "execution_count": 85,
     "metadata": {},
     "output_type": "execute_result"
    }
   ],
   "source": [
    "import plotly.plotly as py\n",
    "import plotly.graph_objs as go\n",
    "\n",
    "# non-relapse accuracy\n",
    "trace0 = go.Bar(\n",
    "    x=['LogReg', 'LDA', 'QDA', 'DT', 'RF', 'SVC linear','SVC quadratic'],\n",
    "    y=[float(logreg_cm[0, 0]) / logreg_cm[0].sum(), float(lda_cm[0, 0]) / lda_cm[0].sum(),\n",
    "      float(qda_cm[0, 0]) / qda_cm[0].sum(), float(dt_cm[0, 0]) / dt_cm[0].sum(),\n",
    "      float(rf_cm[0, 0]) / rf_cm[0].sum(), float(svc_linear_cm[0, 0]) / svc_linear_cm[0].sum(),\n",
    "      float(svc_quad_cm[0, 0]) / svc_quad_cm[0].sum()],\n",
    "    name='Non-replase Accuracies',\n",
    "    marker=dict(\n",
    "        color='rgb(49,130,189)'\n",
    "    )\n",
    ")\n",
    "# replase accuracy\n",
    "trace1 = go.Bar(\n",
    "    x=['LogReg', 'LDA', 'QDA', 'DT', 'RF', 'SVC linear','SVC quadratic'],\n",
    "    y=[float(logreg_cm[1, 1]) / logreg_cm[1].sum(), float(lda_cm[1, 1]) / lda_cm[1].sum(),\n",
    "      float(qda_cm[1, 1]) / qda_cm[1].sum(), float(dt_cm[1, 1]) / dt_cm[1].sum(),\n",
    "      float(rf_cm[1, 1]) / rf_cm[1].sum(), float(svc_linear_cm[1, 1]) / svc_linear_cm[1].sum(),\n",
    "      float(svc_quad_cm[1, 1]) / svc_quad_cm[1].sum()],\n",
    "    name='Replase Accuracies',\n",
    "    marker=dict(\n",
    "        color='rgb(204,204,204)',\n",
    "    )\n",
    ")\n",
    "\n",
    "data1 = [trace0, trace1]\n",
    "layout = go.Layout(\n",
    "    xaxis=dict(tickangle=-45),\n",
    "    barmode='group',\n",
    ")\n",
    "\n",
    "fig = go.Figure(data=data1, layout=layout)\n",
    "py.iplot(fig, filename='angled-text-bar')"
   ]
  },
  {
   "cell_type": "code",
   "execution_count": 86,
   "metadata": {
    "collapsed": false
   },
   "outputs": [
    {
     "name": "stdout",
     "output_type": "stream",
     "text": [
      "Feature ranking:\n",
      "1. feature 1218 (0.239543)\n",
      "2. feature 898 (0.048986)\n",
      "3. feature 797 (0.030488)\n",
      "4. feature 938 (0.030218)\n",
      "5. feature 180 (0.026820)\n",
      "6. feature 930 (0.023478)\n",
      "7. feature 761 (0.021888)\n",
      "8. feature 132 (0.021849)\n",
      "9. feature 823 (0.021418)\n",
      "10. feature 134 (0.021161)\n",
      "11. feature 185 (0.019522)\n",
      "12. feature 585 (0.017334)\n",
      "13. feature 486 (0.016415)\n",
      "14. feature 980 (0.016080)\n",
      "15. feature 983 (0.013397)\n",
      "16. feature 1062 (0.013272)\n",
      "17. feature 414 (0.011803)\n",
      "18. feature 868 (0.011795)\n",
      "19. feature 1100 (0.011593)\n",
      "20. feature 99 (0.011383)\n"
     ]
    },
    {
     "data": {
      "image/png": "[encoded data removed]",
      "text/plain": [
       "<matplotlib.figure.Figure at 0x117882e10>"
      ]
     },
     "metadata": {},
     "output_type": "display_data"
    }
   ],
   "source": [
    "# Compute the feature importances for decision tree\n",
    "# Print the feature ranking\n",
    "print(\"Feature ranking:\")\n",
    "\n",
    "#for f in range(x_train.shape[1]):\n",
    "for f in range(20):\n",
    "    print(\"%d. feature %d (%f)\" % (f + 1, indices[f], importance[indices[f]]))\n",
    "\n",
    "# Plot the feature importances of the forest\n",
    "plt.figure(figsize = (10,5))\n",
    "plt.title(\"Feature importances\")\n",
    "\n",
    "#Bar plot of the frequencies of the top words\n",
    "plt.bar(range(20), importance[indices], color='red', alpha=0.5)\n",
    "\n",
    "#Label the bars with the top words\n",
    "plt.xticks(range(20), indices)\n",
    "plt.show()"
   ]
  },
  {
   "cell_type": "code",
   "execution_count": 109,
   "metadata": {
    "collapsed": false
   },
   "outputs": [],
   "source": [
    "import plotly\n",
    "plotly.tools.set_credentials_file(username='xinruicao', api_key='GBPqjuPjh3Gwc6Q3L9Te')"
   ]
  },
  {
   "cell_type": "code",
   "execution_count": 122,
   "metadata": {
    "collapsed": false
   },
   "outputs": [
    {
     "name": "stdout",
     "output_type": "stream",
     "text": [
      "High five! You successfuly sent some data to your account on plotly. View your plot in your browser at https://plot.ly/~xinruicao/0 or inside your plot.ly account where it is named 'bar plot'\n"
     ]
    },
    {
     "data": {
      "text/html": [
       "<iframe id=\"igraph\" scrolling=\"no\" style=\"border:none;\" seamless=\"seamless\" src=\"https://plot.ly/~xinruicao/0.embed\" height=\"525px\" width=\"100%\"></iframe>"
      ],
      "text/plain": [
       "<plotly.tools.PlotlyDisplay object>"
      ]
     },
     "execution_count": 122,
     "metadata": {},
     "output_type": "execute_result"
    }
   ],
   "source": [
    "import plotly.plotly as py\n",
    "import plotly.graph_objs as go\n",
    "\n",
    "y = ['Fearful of new situations','Is child irritable', 'Inconsequential behaviour',\n",
    "    'Male head\\'s socio-economic grp', 'Parity', 'male head\\'s socio-economic grp',\n",
    "    'Writing off adults&standrds', 'Mother\\'s weight in stones', 'total score all syndromes',\n",
    "    'Gestation period', 'parity', 'Close relative-congenital heart cond.', 'Continually worried',\n",
    "    'Total score all syndromes', 'Total score inconsequential Behavior',  \n",
    "    'Total score miscellaneous symptoms', 'Child normally active', 'Difficulty settling to anything',\n",
    "    'Total score withdrawal syndrome', 'Mothers fathers social class']\n",
    "y_short = ['Fearful of new','Irritable', 'Inconsequential behave',\n",
    "    'Father socio-economic', 'Parity', 'father socio-economic',\n",
    "    'Writing off adults', 'Mother weight', 'Score all syndromes',\n",
    "    'Gestation period', 'parity', 'Relative heart cond.', 'Continually worried',\n",
    "    'score all syndromes', 'Inconsequential Behave',  \n",
    "    'Score miscellaneous', 'Child active', 'Difficulty settling',\n",
    "    'Score withdrawal', 'Family social class']\n",
    "\n",
    "trace0 = go.Bar(\n",
    "    y= y_short,\n",
    "    x= list(importance[indices]),\n",
    "    text=list(namelist),\n",
    "    marker=dict(\n",
    "        color='rgb(158,202,225)',\n",
    "        line=dict(\n",
    "            color='rgb(8,48,107)',\n",
    "            width=1.0,\n",
    "        )\n",
    "    ),\n",
    "    orientation = 'h',\n",
    "    hoverinfo ='x+y',\n",
    "    opacity=0.6\n",
    ")\n",
    "\n",
    "data1 = [trace0]\n",
    "layout = go.Layout(\n",
    "    title='Feature importances',\n",
    "    yaxis=dict(\n",
    "        showgrid=True,\n",
    "        gridcolor='#bdbdbd',\n",
    "        gridwidth=2,     \n",
    "        showticklabels=True,\n",
    "        tickangle=45,\n",
    "        tickfont=dict(\n",
    "            family='Old Standard TT, serif',\n",
    "            size=10,\n",
    "            color='black'\n",
    "        )\n",
    "    )\n",
    ")\n",
    "\n",
    "fig = go.Figure(data=data1, layout=layout)\n",
    "py.iplot(fig, filename='bar plot')"
   ]
  },
  {
   "cell_type": "code",
   "execution_count": 90,
   "metadata": {
    "collapsed": false
   },
   "outputs": [
    {
     "name": "stdout",
     "output_type": "stream",
     "text": [
      "1026\n",
      "1026\n"
     ]
    },
    {
     "data": {
      "text/html": [
       "<div>\n",
       "<table border=\"1\" class=\"dataframe\">\n",
       "  <thead>\n",
       "    <tr style=\"text-align: right;\">\n",
       "      <th></th>\n",
       "      <th>Haematological</th>\n",
       "      <th>y</th>\n",
       "    </tr>\n",
       "  </thead>\n",
       "  <tbody>\n",
       "    <tr>\n",
       "      <th>7</th>\n",
       "      <td>1</td>\n",
       "      <td>0</td>\n",
       "    </tr>\n",
       "    <tr>\n",
       "      <th>25</th>\n",
       "      <td>1</td>\n",
       "      <td>0</td>\n",
       "    </tr>\n",
       "    <tr>\n",
       "      <th>34</th>\n",
       "      <td>2</td>\n",
       "      <td>0</td>\n",
       "    </tr>\n",
       "    <tr>\n",
       "      <th>56</th>\n",
       "      <td>-1</td>\n",
       "      <td>0</td>\n",
       "    </tr>\n",
       "    <tr>\n",
       "      <th>61</th>\n",
       "      <td>-1</td>\n",
       "      <td>0</td>\n",
       "    </tr>\n",
       "  </tbody>\n",
       "</table>\n",
       "</div>"
      ],
      "text/plain": [
       "    Haematological  y\n",
       "7                1  0\n",
       "25               1  0\n",
       "34               2  0\n",
       "56              -1  0\n",
       "61              -1  0"
      ]
     },
     "execution_count": 90,
     "metadata": {},
     "output_type": "execute_result"
    }
   ],
   "source": [
    "# # Pie chart on varialbe 'n2030'\n",
    "# haematological = list(data['n2030'])\n",
    "# print len(haematological)\n",
    "# print len(y)\n",
    "\n",
    "# d = {'Haematological': haematological, 'y': y}\n",
    "# demo_haematological = pd.DataFrame(data=d)\n",
    "# demo_haematological.head()"
   ]
  },
  {
   "cell_type": "code",
   "execution_count": 91,
   "metadata": {
    "collapsed": false
   },
   "outputs": [
    {
     "name": "stdout",
     "output_type": "stream",
     "text": [
      "776 250\n"
     ]
    }
   ],
   "source": [
    "# demo_haematological0 = demo_haematological.query('y == 0')\n",
    "# demo_haematological1 = demo_haematological.query('y == 1')\n",
    "# total_y0 = len(demo_haematological0)\n",
    "# total_y1 = len(demo_haematological1)\n",
    "# print total_y0, total_y1"
   ]
  },
  {
   "cell_type": "code",
   "execution_count": 92,
   "metadata": {
    "collapsed": true
   },
   "outputs": [],
   "source": [
    "# y0 = np.zeros(shape = (8,1))\n",
    "# y1 = np.zeros(shape = (8,1))\n",
    "\n",
    "# for i in range(1,8):\n",
    "#     y0[i-1] = float(sum(demo_haematological0['Haematological']==i)/float(total_y0))\n",
    "#     y1[i-1] = float(sum(demo_haematological1['Haematological']==i)/float(total_y1))\n",
    "    \n",
    "# y0[7] = float(sum(demo_haematological0['Haematological']==-1)/float(total_y0))\n",
    "# y1[7] = float(sum(demo_haematological1['Haematological']==-1)/float(total_y1))"
   ]
  },
  {
   "cell_type": "code",
   "execution_count": 93,
   "metadata": {
    "collapsed": false
   },
   "outputs": [
    {
     "data": {
      "text/html": [
       "<iframe id=\"igraph\" scrolling=\"no\" style=\"border:none;\" seamless=\"seamless\" src=\"https://plot.ly/~JessicaCao84de/49.embed\" height=\"525px\" width=\"100%\"></iframe>"
      ],
      "text/plain": [
       "<plotly.tools.PlotlyDisplay object>"
      ]
     },
     "execution_count": 93,
     "metadata": {},
     "output_type": "execute_result"
    }
   ],
   "source": [
    "# # Pie chart variable 'n2030', Variable label = 3M Haematological abnormality\n",
    "# fig = {\n",
    "#     'data': [\n",
    "#         {\n",
    "#             'labels': ['No abnormality', 'Cond uncertain', 'Cond,no handcp', 'Slight handicap',\n",
    "#                         'Moderate handicp', 'Severe handicap', 'Cond,DK degree', 'NA'],\n",
    "#             'values': y0,\n",
    "#             'type': 'pie',\n",
    "#             'name': 'no relapse',\n",
    "#              'domain': {'x': [0, .48],\n",
    "#                        'y': [0, .49]},\n",
    "#             'hoverinfo':'label+percent+name'\n",
    "#         },\n",
    "#         {\n",
    "#             'labels': ['No abnormality', 'Cond uncertain', 'Cond,no handcp', 'Slight handicap',\n",
    "#                         'Moderate handicp', 'Severe handicap', 'Cond,DK degree', 'NA'],\n",
    "#             'values': y1,\n",
    "#             'type': 'pie',\n",
    "#             'name':'relapse',\n",
    "#             'domain': {'x': [.52, 1],\n",
    "#                        'y': [0, .49]},\n",
    "#             'hoverinfo':'label+percent+name'\n",
    "#         }],\n",
    "#     'layout': {'title': 'Category proportions of Haematological abnormality by relapse status'}\n",
    "#      }\n",
    "\n",
    "# py.iplot(fig)"
   ]
  },
  {
   "cell_type": "code",
   "execution_count": 143,
   "metadata": {
    "collapsed": false
   },
   "outputs": [
    {
     "name": "stdout",
     "output_type": "stream",
     "text": [
      "1026\n",
      "1026\n"
     ]
    },
    {
     "data": {
      "text/html": [
       "<div>\n",
       "<table border=\"1\" class=\"dataframe\">\n",
       "  <thead>\n",
       "    <tr style=\"text-align: right;\">\n",
       "      <th></th>\n",
       "      <th>fearful</th>\n",
       "      <th>y</th>\n",
       "    </tr>\n",
       "  </thead>\n",
       "  <tbody>\n",
       "    <tr>\n",
       "      <th>7</th>\n",
       "      <td>1</td>\n",
       "      <td>0</td>\n",
       "    </tr>\n",
       "    <tr>\n",
       "      <th>25</th>\n",
       "      <td>2</td>\n",
       "      <td>0</td>\n",
       "    </tr>\n",
       "    <tr>\n",
       "      <th>34</th>\n",
       "      <td>1</td>\n",
       "      <td>0</td>\n",
       "    </tr>\n",
       "    <tr>\n",
       "      <th>56</th>\n",
       "      <td>-1</td>\n",
       "      <td>0</td>\n",
       "    </tr>\n",
       "    <tr>\n",
       "      <th>61</th>\n",
       "      <td>-1</td>\n",
       "      <td>0</td>\n",
       "    </tr>\n",
       "  </tbody>\n",
       "</table>\n",
       "</div>"
      ],
      "text/plain": [
       "    fearful  y\n",
       "7         1  0\n",
       "25        2  0\n",
       "34        1  0\n",
       "56       -1  0\n",
       "61       -1  0"
      ]
     },
     "execution_count": 143,
     "metadata": {},
     "output_type": "execute_result"
    }
   ],
   "source": [
    "# Pie chart on varialbe 'n2030'\n",
    "fearful = list(data['n2531'])\n",
    "print len(fearful)\n",
    "y = np.zeros(len(UKDA16))\n",
    "y = pd.DataFrame(y, index = UKDA16.index)\n",
    "y[s1s2&s3] = 1\n",
    "y = y[s1s2]\n",
    "y = y.astype(int)\n",
    "y = y[0]\n",
    "print len(y)\n",
    "\n",
    "d = {'fearful': fearful, 'y': y}\n",
    "demo_fearful = pd.DataFrame(data=d)\n",
    "demo_fearful.head()"
   ]
  },
  {
   "cell_type": "code",
   "execution_count": 144,
   "metadata": {
    "collapsed": false
   },
   "outputs": [
    {
     "name": "stdout",
     "output_type": "stream",
     "text": [
      "776 250\n"
     ]
    }
   ],
   "source": [
    "demo_fearful0 = demo_fearful.query('y == 0')\n",
    "demo_fearful1 = demo_fearful.query('y == 1')\n",
    "total_y0 = len(demo_fearful0)\n",
    "total_y1 = len(demo_fearful1)\n",
    "print total_y0, total_y1\n"
   ]
  },
  {
   "cell_type": "code",
   "execution_count": 145,
   "metadata": {
    "collapsed": true
   },
   "outputs": [],
   "source": [
    "y0 = np.zeros(shape = (4,1))\n",
    "y1 = np.zeros(shape = (4,1))\n",
    "\n",
    "for i in range(1,4):\n",
    "    y0[i-1] = float(sum(demo_fearful0['fearful']==i)/float(total_y0))\n",
    "    y1[i-1] = float(sum(demo_fearful1['fearful']==i)/float(total_y1))\n",
    "    \n",
    "y0[3] = float(sum(demo_fearful0['fearful']==-1)/float(total_y0))\n",
    "y1[3] = float(sum(demo_fearful1['fearful']==-1)/float(total_y1))"
   ]
  },
  {
   "cell_type": "code",
   "execution_count": 147,
   "metadata": {
    "collapsed": false
   },
   "outputs": [
    {
     "data": {
      "text/html": [
       "<iframe id=\"igraph\" scrolling=\"no\" style=\"border:none;\" seamless=\"seamless\" src=\"https://plot.ly/~xinruicao/8.embed\" height=\"525px\" width=\"100%\"></iframe>"
      ],
      "text/plain": [
       "<plotly.tools.PlotlyDisplay object>"
      ]
     },
     "execution_count": 147,
     "metadata": {},
     "output_type": "execute_result"
    }
   ],
   "source": [
    "# Pie chart variable 'n2513', Variable label = 3P Fearful of new situations or things\n",
    "fig = {\n",
    "    'data': [\n",
    "        {\n",
    "            'labels': ['Does not apply', 'Applies somewhat', 'Certainly applies', 'NA'],\n",
    "            'values': y0,\n",
    "            'type': 'pie',\n",
    "            'name': 'no relapse',\n",
    "             'domain': {'x': [0, .48],\n",
    "                       'y': [0, .49]},\n",
    "            'hoverinfo':'label+percent+name'\n",
    "        },\n",
    "        {\n",
    "            'labels': ['Does not apply', 'Applies somewhat', 'Certainly applies', 'NA'],\n",
    "            'values': y1,\n",
    "            'type': 'pie',\n",
    "            'name':'relapse',\n",
    "            'domain': {'x': [.52, 1],\n",
    "                       'y': [0, .49]},\n",
    "            'hoverinfo':'label+percent+name'\n",
    "        }],\n",
    "    'layout': {'title': 'Category proportions of \"Fearful of new situations abnormality\" by relapse status'}\n",
    "     }\n",
    "\n",
    "py.iplot(fig)"
   ]
  },
  {
   "cell_type": "code",
   "execution_count": 151,
   "metadata": {
    "collapsed": false
   },
   "outputs": [
    {
     "data": {
      "text/html": [
       "<iframe id=\"igraph\" scrolling=\"no\" style=\"border:none;\" seamless=\"seamless\" src=\"https://plot.ly/~xinruicao/16.embed\" height=\"525px\" width=\"100%\"></iframe>"
      ],
      "text/plain": [
       "<plotly.tools.PlotlyDisplay object>"
      ]
     },
     "execution_count": 151,
     "metadata": {},
     "output_type": "execute_result"
    }
   ],
   "source": [
    "# donut\n",
    "fig = {\n",
    "  \"data\": [\n",
    "    {\n",
    "      \"values\": y0,\n",
    "      \"labels\": ['Does not apply', 'Applies somewhat', 'Certainly applies', 'NA'],\n",
    "      \"domain\": {\"x\": [0, .48]},\n",
    "      \"name\": \"No relapse\",\n",
    "      \"hoverinfo\":\"label+percent+name\",\n",
    "      \"hole\": .4,\n",
    "      \"type\": \"pie\"\n",
    "    },     \n",
    "    {\n",
    "      \"values\": y1,\n",
    "      'labels': ['Does not apply', 'Applies somewhat', 'Certainly applies', 'NA'],\n",
    "      \"textposition\":\"inside\",\n",
    "      \"domain\": {\"x\": [.52, 1]},\n",
    "      \"name\": \"Relapse\",\n",
    "      \"hoverinfo\":\"label+percent+name\",\n",
    "      \"hole\": .4,\n",
    "      \"type\": \"pie\"\n",
    "    }],\n",
    "  \"layout\": {\n",
    "        \"title\": 'Category proportions of \"Fearful of new situations abnormality\" by relapse status',\n",
    "        \"annotations\": [\n",
    "            {\n",
    "                \"font\": {\n",
    "                    \"size\": 20\n",
    "                },\n",
    "                \"showarrow\": False,\n",
    "                \"text\": \"No Relapse\",\n",
    "                \"x\": 0.17,\n",
    "                \"y\": 0.5\n",
    "            },\n",
    "            {\n",
    "                \"font\": {\n",
    "                    \"size\": 20\n",
    "                },\n",
    "                \"showarrow\": False,\n",
    "                \"text\": \"Relapse\",\n",
    "                \"x\": 0.82,\n",
    "                \"y\": 0.5\n",
    "            }\n",
    "        ]\n",
    "    }\n",
    "}\n",
    "py.iplot(fig)\n"
   ]
  },
  {
   "cell_type": "code",
   "execution_count": 136,
   "metadata": {
    "collapsed": false
   },
   "outputs": [
    {
     "name": "stdout",
     "output_type": "stream",
     "text": [
      "1026\n"
     ]
    },
    {
     "data": {
      "text/html": [
       "<div>\n",
       "<table border=\"1\" class=\"dataframe\">\n",
       "  <thead>\n",
       "    <tr style=\"text-align: right;\">\n",
       "      <th></th>\n",
       "      <th>irritable</th>\n",
       "      <th>y</th>\n",
       "    </tr>\n",
       "  </thead>\n",
       "  <tbody>\n",
       "    <tr>\n",
       "      <th>7</th>\n",
       "      <td>3</td>\n",
       "      <td>0</td>\n",
       "    </tr>\n",
       "    <tr>\n",
       "      <th>25</th>\n",
       "      <td>1</td>\n",
       "      <td>0</td>\n",
       "    </tr>\n",
       "    <tr>\n",
       "      <th>34</th>\n",
       "      <td>1</td>\n",
       "      <td>0</td>\n",
       "    </tr>\n",
       "    <tr>\n",
       "      <th>56</th>\n",
       "      <td>-1</td>\n",
       "      <td>0</td>\n",
       "    </tr>\n",
       "    <tr>\n",
       "      <th>61</th>\n",
       "      <td>1</td>\n",
       "      <td>0</td>\n",
       "    </tr>\n",
       "  </tbody>\n",
       "</table>\n",
       "</div>"
      ],
      "text/plain": [
       "    irritable  y\n",
       "7           3  0\n",
       "25          1  0\n",
       "34          1  0\n",
       "56         -1  0\n",
       "61          1  0"
      ]
     },
     "execution_count": 136,
     "metadata": {},
     "output_type": "execute_result"
    }
   ],
   "source": [
    "# Pie chart variable 'n1454', Variable label = Is child irritable, quick tempered\n",
    "irritable = list(data['n1454'])\n",
    "print len(irritable)\n",
    "\n",
    "d = {'irritable': irritable, 'y': y}\n",
    "demo_irritable = pd.DataFrame(data=d)\n",
    "demo_irritable.head()"
   ]
  },
  {
   "cell_type": "code",
   "execution_count": 137,
   "metadata": {
    "collapsed": false
   },
   "outputs": [
    {
     "name": "stdout",
     "output_type": "stream",
     "text": [
      "776 250\n"
     ]
    }
   ],
   "source": [
    "demo_irritable0 = demo_irritable.query('y == 0')\n",
    "demo_irritable1 = demo_irritable.query('y == 1')\n",
    "total_y0 = len(demo_irritable0)\n",
    "total_y1 = len(demo_irritable1)\n",
    "print total_y0, total_y1"
   ]
  },
  {
   "cell_type": "code",
   "execution_count": 138,
   "metadata": {
    "collapsed": true
   },
   "outputs": [],
   "source": [
    "y0 = np.zeros(shape = (6,1))\n",
    "y1 = np.zeros(shape = (6,1))\n",
    "\n",
    "for i in range(1,5):\n",
    "    y0[i-1] = float(sum(demo_irritable0['irritable']==i)/float(total_y0))\n",
    "    y1[i-1] = float(sum(demo_irritable1['irritable']==i)/float(total_y1))\n",
    "    \n",
    "y0[4] = float(sum(demo_irritable0['irritable']==9)/float(total_y0))\n",
    "y1[4] = float(sum(demo_irritable1['irritable']==9)/float(total_y1))\n",
    "\n",
    "y0[5] = float(sum(demo_irritable0['irritable']==-1)/float(total_y0))\n",
    "y1[5] = float(sum(demo_irritable1['irritable']==-1)/float(total_y1))"
   ]
  },
  {
   "cell_type": "code",
   "execution_count": 139,
   "metadata": {
    "collapsed": false
   },
   "outputs": [
    {
     "data": {
      "text/html": [
       "<iframe id=\"igraph\" scrolling=\"no\" style=\"border:none;\" seamless=\"seamless\" src=\"https://plot.ly/~xinruicao/6.embed\" height=\"525px\" width=\"100%\"></iframe>"
      ],
      "text/plain": [
       "<plotly.tools.PlotlyDisplay object>"
      ]
     },
     "execution_count": 139,
     "metadata": {},
     "output_type": "execute_result"
    }
   ],
   "source": [
    "fig = {\n",
    "    'data': [\n",
    "        {\n",
    "            'labels': ['No, never', 'Yes, sometimes', 'Yes, frequently', 'Do not know', \n",
    "                       'Inapplicable', 'Not applicable'],\n",
    "            'values': y0,\n",
    "            'type': 'pie',\n",
    "            'name': 'no relapse',\n",
    "             'domain': {'x': [0, .48],\n",
    "                       'y': [0, .49]},\n",
    "            'hoverinfo':'label+percent+name'\n",
    "        },\n",
    "        {\n",
    "            'labels': ['No, never', 'Yes, sometimes', 'Yes, frequently', 'Do not know', \n",
    "                       'Inapplicable', 'Not applicable'],\n",
    "            'values': y1,\n",
    "            'type': 'pie',\n",
    "            'name':'relapse',\n",
    "            'domain': {'x': [.52, 1],\n",
    "                       'y': [0, .49]},\n",
    "            'hoverinfo':'label+percent+name'\n",
    "        }],\n",
    "    'layout': {'title': 'Category proportions of \"Fearful of new situations abnormality\" by relapse status'}\n",
    "     }\n",
    "\n",
    "py.iplot(fig)"
   ]
  },
  {
   "cell_type": "code",
   "execution_count": null,
   "metadata": {
    "collapsed": true
   },
   "outputs": [],
   "source": []
  }
 ],
 "metadata": {
  "anaconda-cloud": {},
  "kernelspec": {
   "display_name": "Python 2",
   "language": "python",
   "name": "python2"
  },
  "language_info": {
   "codemirror_mode": {
    "name": "ipython",
    "version": 2
   },
   "file_extension": ".py",
   "mimetype": "text/x-python",
   "name": "python",
   "nbconvert_exporter": "python",
   "pygments_lexer": "ipython2",
   "version": "2.7.11"
  }
 },
 "nbformat": 4,
 "nbformat_minor": 0
}
