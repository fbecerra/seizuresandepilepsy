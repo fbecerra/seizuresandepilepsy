{
 "cells": [
  {
   "cell_type": "markdown",
   "metadata": {},
   "source": [
    "# CS 109A Data Science: Project\n",
    "**Harvard University**<br>\n",
    "**Fall 2016**<br>\n",
    "**Team member:** Becerra, Fernando; Mayo, Andrew Wayne; Ding, Yi; Cao, Xinrui<br>\n",
    "**Project topic:** Predicting Seizures and Epilepsy"
   ]
  },
  {
   "cell_type": "code",
   "execution_count": 3,
   "metadata": {
    "collapsed": false
   },
   "outputs": [],
   "source": [
    "import numpy as np\n",
    "import pandas as pd\n",
    "import scipy as sp\n",
    "import time\n",
    "from scipy.stats import mode\n",
    "from sklearn import linear_model\n",
    "import sklearn.linear_model as sk\n",
    "import matplotlib\n",
    "import matplotlib.pyplot as plt\n",
    "from sklearn import discriminant_analysis\n",
    "import sklearn.discriminant_analysis as da\n",
    "from sklearn.decomposition import PCA\n",
    "from sklearn.neighbors import KNeighborsClassifier as KNN\n",
    "from sklearn import preprocessing\n",
    "from sklearn.preprocessing import PolynomialFeatures\n",
    "\n",
    "from sklearn.linear_model import LogisticRegression\n",
    "from sklearn.discriminant_analysis import LinearDiscriminantAnalysis as LDA\n",
    "from sklearn.discriminant_analysis import QuadraticDiscriminantAnalysis as QDA\n",
    "from sklearn.tree import DecisionTreeClassifier as DecisionTree\n",
    "from sklearn.ensemble import RandomForestClassifier as RandomForest\n",
    "from sklearn.svm import SVC\n",
    "from sklearn.cross_validation import train_test_split\n",
    "from sklearn.metrics import confusion_matrix\n",
    "from sklearn.preprocessing import OneHotEncoder\n",
    "from sklearn.cross_validation import KFold\n",
    "from sklearn.svm import LinearSVC\n",
    "#import seaborn\n",
    "\n",
    "%matplotlib inline"
   ]
  },
  {
   "cell_type": "markdown",
   "metadata": {},
   "source": [
    "# 1 Data Cleaning"
   ]
  },
  {
   "cell_type": "code",
   "execution_count": 4,
   "metadata": {
    "collapsed": false,
    "scrolled": true
   },
   "outputs": [
    {
     "name": "stderr",
     "output_type": "stream",
     "text": [
      "/Users/Jessica/anaconda/lib/python2.7/site-packages/IPython/core/interactiveshell.py:2723: DtypeWarning: Columns (1,2,3,4,5,1756,1757,1758,1759,1760,1761,1762,1763,1764) have mixed types. Specify dtype option on import or set low_memory=False.\n",
      "  interactivity=interactivity, compiler=compiler, result=result)\n"
     ]
    }
   ],
   "source": [
    "# Read in data set UKDA-2024-tab\n",
    "UKDA16 = pd.read_table('./datasets/NCDS/ncds0123.tab')"
   ]
  },
  {
   "cell_type": "markdown",
   "metadata": {},
   "source": [
    "## 1.1 identify seizure individuals and relapse individuals"
   ]
  },
  {
   "cell_type": "code",
   "execution_count": 5,
   "metadata": {
    "collapsed": false
   },
   "outputs": [],
   "source": [
    "#sweep 1\n",
    "# reason for special education\n",
    "a = (UKDA16['n390'] =='10') | (UKDA16['n391'] =='10') | (UKDA16['n392'] =='10')\n",
    "# Epileptic condition\n",
    "b = (UKDA16['n415'] =='3') | (UKDA16['n415'] =='4')| (UKDA16['n415'] =='5') | (UKDA16['n415'] =='6')\n",
    "# Fit or convulsion in 1st year of life\n",
    "c = (UKDA16['n274'] == '2')\n",
    "# Fit or convulsion after 1st year\n",
    "d = (UKDA16['n275'] == '2')\n",
    "# Epilepsy identification\n",
    "e = (UKDA16['n1842']=='5')\n",
    "s1 =a|b|c|d|e"
   ]
  },
  {
   "cell_type": "code",
   "execution_count": 6,
   "metadata": {
    "collapsed": false
   },
   "outputs": [],
   "source": [
    "# sweep 2\n",
    "# Has child had epilepsy attacks\n",
    "a = (UKDA16['n1307']=='1')|(UKDA16['n1307']=='2')|(UKDA16['n1307']=='3')|(UKDA16['n1307']=='4')|(UKDA16['n1307']=='5')\n",
    "# Age at most recent epilepsy attack\n",
    "UKDA16['n1314']\n",
    "# Age at 1st epilepsy attack\n",
    "UKDA16['n1317']\n",
    "# Reason for special education\n",
    "b = (UKDA16['n1477'] =='7') | (UKDA16['n1478'] =='7') | (UKDA16['n1479'] =='7')\n",
    "# Reason for absence from school\n",
    "c = (UKDA16['n1321']=='8') |(UKDA16['n1322']=='8')|(UKDA16['n1323']=='8')|(UKDA16['n1324']=='8')|(UKDA16['n1325']=='8') \n",
    "# Reason for prescription\n",
    "d = (UKDA16['n1337']=='1') |(UKDA16['n1338']=='1')\n",
    "# Ever seen specialist-convulsions,fits\n",
    "e = (UKDA16['n1394']=='2')|(UKDA16['n1394']=='3')|(UKDA16['n1394']=='5')\n",
    "# Has child ever had convulsions\n",
    "f = (UKDA16['n1502'] =='2')| (UKDA16['n1502'] =='3')|(UKDA16['n1502'] =='4')\n",
    "s2 = a|b|c|d|e\n",
    "s1s2 =s1|s2"
   ]
  },
  {
   "cell_type": "code",
   "execution_count": 7,
   "metadata": {
    "collapsed": false
   },
   "outputs": [],
   "source": [
    "# sweep 3\n",
    "# Type hcap for which will require help\n",
    "a = (UKDA16['n2416'] =='7')\n",
    "# Nature of child-s disability-\n",
    "b = (UKDA16['n2663'] =='7')|(UKDA16['n2664'] =='7')|(UKDA16['n2665'] =='7')|(UKDA16['n2666'] =='7')|(UKDA16['n2667'] =='7')\n",
    "# Category of child's handicap\n",
    "c = (UKDA16['n1893'] =='8')|(UKDA16['n1894'] =='8')|(UKDA16['n1895'] =='8')\n",
    "# Reason for hosp admiss last 12 mnths\n",
    "d = (UKDA16['n1904'] =='17')\n",
    "# Reason hosp outpatient last yr\n",
    "e = (UKDA16['n1910'] =='17')\n",
    "# Epilepsy\n",
    "#f = (UKDA16['n2032'] =='17')\n",
    "# Reason for absence from school\n",
    "g = (UKDA16['n2554'] =='11')|(UKDA16['n2556'] =='11')|(UKDA16['n2557'] =='11')|(UKDA16['n2558'] =='11')|(UKDA16['n2559'] =='11')\n",
    "# Hospital admissions\n",
    "h = (UKDA16['n2598'] =='7') | (UKDA16['n2599'] =='7') | (UKDA16['n2600'] =='7') | (UKDA16['n2601'] =='7') \n",
    "# Hosp outpatient,diagnosed cond\n",
    "j = (UKDA16['n2603'] =='10')|(UKDA16['n2604'] =='10')|(UKDA16['n2605'] =='10')|(UKDA16['n2606'] =='10')|(UKDA16['n2607'] =='10')|(UKDA16['n2608'] =='10')\n",
    "# Convulsions,fits-unconsciousness\n",
    "k = (UKDA16['n2614'] =='1')\n",
    "# When convulsions,fits 1st occured\n",
    "(UKDA16['n2615'] =='5')|(UKDA16['n2615'] =='5')\n",
    "# Convulsions-most recent occurrence\n",
    "l = (UKDA16['n2616'] =='1')|(UKDA16['n2616'] =='2')|(UKDA16['n2616'] =='3')|(UKDA16['n2616'] =='4')\n",
    "s3 = d|e|g|h|j|l"
   ]
  },
  {
   "cell_type": "code",
   "execution_count": 8,
   "metadata": {
    "collapsed": false
   },
   "outputs": [],
   "source": [
    "# create response\n",
    "y = np.zeros(len(UKDA16))\n",
    "y = pd.DataFrame(y, index = UKDA16.index)\n",
    "y[s1s2&s3] = 1\n",
    "y = y[s1s2]\n",
    "y = y.astype(int)\n",
    "y = y[0] # This is required so that y has the right shape"
   ]
  },
  {
   "cell_type": "code",
   "execution_count": 9,
   "metadata": {
    "collapsed": false
   },
   "outputs": [
    {
     "name": "stdout",
     "output_type": "stream",
     "text": [
      "1026 kids developed seizure before age 11, and \n",
      "250 of them relaped by age 16.\n"
     ]
    }
   ],
   "source": [
    "print str(len(y))+' kids developed seizure before age 11, and '\n",
    "print str(sum(y==1))+' of them relaped by age 16.'"
   ]
  },
  {
   "cell_type": "markdown",
   "metadata": {},
   "source": [
    "- From Sweep 1 and Sweep 2, we extract all children who had any sign of epilepsy and convulsion. \n",
    "- From Sweep 3, we extract all children who had any sign of epilepsy and convulsion after age 11 (eg. hospitalization for convulsion or epilepsy, recent occurence of convulsion within 7 years)\n",
    "- We take the join of s1s2 and s3, which include all children who have sign of epilepsy before 11 and had recurrence after 11.\n",
    "\n",
    "- Finally, we got 1026 kids who developed seizure before age 11 and 250 of them relapsed by age 16."
   ]
  },
  {
   "cell_type": "markdown",
   "metadata": {},
   "source": [
    "## 1.2 select predictors for model building"
   ]
  },
  {
   "cell_type": "markdown",
   "metadata": {},
   "source": [
    "The high missingness in the data may interfere our analysis if they are not missing at random. Some irrelevant variables like date of survey may not help our model building, but the missingness will bias our model, so we conduct a process for preliminary screening.\n",
    "- The dataset contains 1765 variables at first.\n",
    "- Based on subject matter knowledge, we select social economic status and medical records relevant variates, 207 variables remains after this process.\n",
    "- variables with missing rate > 0.5 were dropped, 188 variables remains.\n",
    "- Impute missing data\n",
    "- Access colinearity\n",
    "## Add something here\n"
   ]
  },
  {
   "cell_type": "markdown",
   "metadata": {},
   "source": [
    "### 1.2.1 Select based on subject matter knowledge"
   ]
  },
  {
   "cell_type": "code",
   "execution_count": 10,
   "metadata": {
    "collapsed": false
   },
   "outputs": [
    {
     "name": "stdout",
     "output_type": "stream",
     "text": [
      "126 variables are selected from sweep 1\n"
     ]
    }
   ],
   "source": [
    "filename = \"./datasets/NCDS/sweep1_new.txt\"\n",
    "s1_variable = []\n",
    "for line in open(filename):\n",
    "    if 'Pos.' in line:\n",
    "        name = line.rstrip().replace(\"\\t\",' ').split(' ')[5]\n",
    "        s1_variable.append(name)\n",
    "        \n",
    "print str(len(s1_variable)) + ' variables are selected from sweep 1'"
   ]
  },
  {
   "cell_type": "code",
   "execution_count": 11,
   "metadata": {
    "collapsed": false
   },
   "outputs": [
    {
     "name": "stdout",
     "output_type": "stream",
     "text": [
      "44 variables are selected from sweep 2\n"
     ]
    }
   ],
   "source": [
    "filename = \"./datasets/NCDS/sweep2_new.txt\"\n",
    "s2_variable = []\n",
    "for line in open(filename):\n",
    "    if 'Pos.' in line:\n",
    "        name = line.rstrip().replace(\"\\t\",' ').split(' ')[5]\n",
    "        s2_variable.append(name)\n",
    "        \n",
    "print str(len(s2_variable)) + ' variables are selected from sweep 2'"
   ]
  },
  {
   "cell_type": "code",
   "execution_count": 12,
   "metadata": {
    "collapsed": false
   },
   "outputs": [
    {
     "name": "stdout",
     "output_type": "stream",
     "text": [
      "37 variables are selected from sweep 3\n"
     ]
    }
   ],
   "source": [
    "filename = \"./datasets/NCDS/sweep3_new.txt\"\n",
    "s3_variable = []\n",
    "for line in open(filename):\n",
    "    if 'Pos.' in line:\n",
    "        name = line.rstrip().replace(\"\\t\",' ').split(' ')[5]\n",
    "        s3_variable.append(name)\n",
    "        \n",
    "print str(len(s3_variable)) + ' variables are selected from sweep 3'"
   ]
  },
  {
   "cell_type": "code",
   "execution_count": 13,
   "metadata": {
    "collapsed": false
   },
   "outputs": [
    {
     "name": "stdout",
     "output_type": "stream",
     "text": [
      "207 variables were selected in total\n"
     ]
    }
   ],
   "source": [
    "variables = s1_variable + s2_variable + s3_variable\n",
    "print str(len(variables))+' variables were selected in total'"
   ]
  },
  {
   "cell_type": "markdown",
   "metadata": {},
   "source": [
    "### 1.2.2 Missing rate"
   ]
  },
  {
   "cell_type": "markdown",
   "metadata": {},
   "source": [
    "For continuous variables, missing values are filled in as column mean.      \n",
    "For categorical variables, missing values are tried in two ways:   \n",
    "- 1) Fill in the most frequent category   \n",
    "- 2) Fill in as 'missing category'    \n",
    "\n",
    "It turns out that the accuracy for the second approach is better than the first on the whole, so we fill in the missing categorical data as 'missing category'"
   ]
  },
  {
   "cell_type": "code",
   "execution_count": 14,
   "metadata": {
    "collapsed": false
   },
   "outputs": [],
   "source": [
    "data = UKDA16[variables][s1s2]"
   ]
  },
  {
   "cell_type": "code",
   "execution_count": 15,
   "metadata": {
    "collapsed": false
   },
   "outputs": [
    {
     "data": {
      "text/plain": [
       "188"
      ]
     },
     "execution_count": 15,
     "metadata": {},
     "output_type": "execute_result"
    }
   ],
   "source": [
    "a = (data=='-1').sum(axis =0)/1046\n",
    "b = (data==' ').sum(axis =0)/1046\n",
    "sum(a+b<0.5)"
   ]
  },
  {
   "cell_type": "code",
   "execution_count": 16,
   "metadata": {
    "collapsed": false
   },
   "outputs": [],
   "source": [
    "#drop data with >0.5 missing rate\n",
    "data = data[list(data.columns[np.where(a+b<0.5)])]\n",
    "\n",
    "# fill in the blanks as '-1'\n",
    "for col in data.columns:\n",
    "    value = data[col]\n",
    "    missing_index = (value == ' ')\n",
    "    data[col][missing_index] = '-1'"
   ]
  },
  {
   "cell_type": "code",
   "execution_count": 17,
   "metadata": {
    "collapsed": false,
    "scrolled": true
   },
   "outputs": [
    {
     "name": "stderr",
     "output_type": "stream",
     "text": [
      "/Users/Jessica/anaconda/lib/python2.7/site-packages/ipykernel/__main__.py:1: FutureWarning: convert_objects is deprecated.  Use the data-type specific converters pd.to_datetime, pd.to_timedelta and pd.to_numeric.\n",
      "  if __name__ == '__main__':\n"
     ]
    },
    {
     "data": {
      "text/plain": [
       "(1026, 188)"
      ]
     },
     "execution_count": 17,
     "metadata": {},
     "output_type": "execute_result"
    }
   ],
   "source": [
    "data = data.convert_objects(convert_numeric=True)\n",
    "data.shape"
   ]
  },
  {
   "cell_type": "code",
   "execution_count": 18,
   "metadata": {
    "collapsed": false
   },
   "outputs": [
    {
     "name": "stderr",
     "output_type": "stream",
     "text": [
      "/Users/Jessica/anaconda/lib/python2.7/site-packages/ipykernel/__main__.py:7: SettingWithCopyWarning: \n",
      "A value is trying to be set on a copy of a slice from a DataFrame\n",
      "\n",
      "See the caveats in the documentation: http://pandas.pydata.org/pandas-docs/stable/indexing.html#indexing-view-versus-copy\n"
     ]
    }
   ],
   "source": [
    "# fill in the missing data\n",
    "for col in data.columns:\n",
    "    value = data[col]\n",
    "    if(len(np.unique(value))>20):\n",
    "        missing_index = (value == -1)\n",
    "        filled_index = (value != -1)\n",
    "        data[col][missing_index] = np.mean(value[filled_index])"
   ]
  },
  {
   "cell_type": "markdown",
   "metadata": {},
   "source": [
    "### 1.2.3 Access colinearity"
   ]
  },
  {
   "cell_type": "code",
   "execution_count": 47,
   "metadata": {
    "collapsed": true
   },
   "outputs": [],
   "source": [
    "from statsmodels.stats.outliers_influence import variance_inflation_factor\n",
    "\n",
    "def calculate_vif_(X):\n",
    "    thresh = 10.0\n",
    "    variables = range(X.shape[1])\n",
    "\n",
    "    for i in np.arange(0, len(variables)):\n",
    "        vif = [variance_inflation_factor(X[variables].values, ix) for ix in range(X[variables].shape[1])]\n",
    "        #print(vif)\n",
    "        maxloc = vif.index(max(vif))\n",
    "        if max(vif) > thresh:\n",
    "            #print('dropping \\'' + X[variables].columns[maxloc] + '\\' at index: ' + str(maxloc))\n",
    "            del variables[maxloc]\n",
    "\n",
    "    print('Remaining variables:')\n",
    "    print(X.columns[variables])\n",
    "    return X"
   ]
  },
  {
   "cell_type": "code",
   "execution_count": 48,
   "metadata": {
    "collapsed": false
   },
   "outputs": [
    {
     "name": "stdout",
     "output_type": "stream",
     "text": [
      "Remaining variables:\n",
      "Index([u'n622', u'n0region', u'n3region', u'n490', u'n492', u'n524', u'n526',\n",
      "       u'n496', u'n500', u'n502', u'n503', u'n504', u'n548', u'n518', u'n519',\n",
      "       u'n522', u'n527', u'n528', u'n529', u'n531', u'n534', u'n535', u'n556',\n",
      "       u'n646', u'n516', u'n660', u'n505', u'n507', u'n509', u'n121', u'n658',\n",
      "       u'n659', u'n183', u'n1811', u'n403', u'n434', u'n436', u'n438', u'n440',\n",
      "       u'n442', u'n444', u'n446', u'n448', u'n450', u'n452', u'n454', u'n1287',\n",
      "       u'n1396', u'n1397', u'n1447', u'n1448', u'n1449', u'n1452', u'n1453',\n",
      "       u'n1454', u'n1458', u'n1171', u'n1176', u'n1212', u'n1523', u'n1001',\n",
      "       u'n1005', u'n983', u'n992', u'n995', u'n989', u'n986', u'n1004',\n",
      "       u'n998', u'n974', u'n980', u'n977', u'n2385', u'n2400', u'n2401',\n",
      "       u'n2452', u'n2504', u'n2517', u'n2522', u'n2523', u'n2531', u'n2560',\n",
      "       u'n2624', u'n2631', u'n2020', u'n2021', u'n2029', u'n2030'],\n",
      "      dtype='object')\n"
     ]
    },
    {
     "data": {
      "text/html": [
       "<div>\n",
       "<table border=\"1\" class=\"dataframe\">\n",
       "  <thead>\n",
       "    <tr style=\"text-align: right;\">\n",
       "      <th></th>\n",
       "      <th>n622</th>\n",
       "      <th>n0region</th>\n",
       "      <th>n1region</th>\n",
       "      <th>n2region</th>\n",
       "      <th>n3region</th>\n",
       "      <th>n545</th>\n",
       "      <th>n490</th>\n",
       "      <th>n492</th>\n",
       "      <th>n524</th>\n",
       "      <th>n526</th>\n",
       "      <th>...</th>\n",
       "      <th>n2531</th>\n",
       "      <th>n2534</th>\n",
       "      <th>n2560</th>\n",
       "      <th>n2624</th>\n",
       "      <th>n2631</th>\n",
       "      <th>n2020</th>\n",
       "      <th>n2021</th>\n",
       "      <th>n2029</th>\n",
       "      <th>n2030</th>\n",
       "      <th>n2034</th>\n",
       "    </tr>\n",
       "  </thead>\n",
       "  <tbody>\n",
       "    <tr>\n",
       "      <th>7</th>\n",
       "      <td>1</td>\n",
       "      <td>10</td>\n",
       "      <td>-1</td>\n",
       "      <td>10</td>\n",
       "      <td>10</td>\n",
       "      <td>4</td>\n",
       "      <td>3</td>\n",
       "      <td>6</td>\n",
       "      <td>-1</td>\n",
       "      <td>-1</td>\n",
       "      <td>...</td>\n",
       "      <td>1</td>\n",
       "      <td>2</td>\n",
       "      <td>7</td>\n",
       "      <td>1</td>\n",
       "      <td>5</td>\n",
       "      <td>1</td>\n",
       "      <td>1</td>\n",
       "      <td>1</td>\n",
       "      <td>1</td>\n",
       "      <td>1</td>\n",
       "    </tr>\n",
       "    <tr>\n",
       "      <th>25</th>\n",
       "      <td>1</td>\n",
       "      <td>2</td>\n",
       "      <td>10</td>\n",
       "      <td>10</td>\n",
       "      <td>10</td>\n",
       "      <td>4</td>\n",
       "      <td>5</td>\n",
       "      <td>3</td>\n",
       "      <td>1</td>\n",
       "      <td>4</td>\n",
       "      <td>...</td>\n",
       "      <td>2</td>\n",
       "      <td>1</td>\n",
       "      <td>7</td>\n",
       "      <td>1</td>\n",
       "      <td>1</td>\n",
       "      <td>1</td>\n",
       "      <td>1</td>\n",
       "      <td>1</td>\n",
       "      <td>1</td>\n",
       "      <td>1</td>\n",
       "    </tr>\n",
       "    <tr>\n",
       "      <th>34</th>\n",
       "      <td>1</td>\n",
       "      <td>9</td>\n",
       "      <td>8</td>\n",
       "      <td>8</td>\n",
       "      <td>8</td>\n",
       "      <td>4</td>\n",
       "      <td>4</td>\n",
       "      <td>4</td>\n",
       "      <td>-1</td>\n",
       "      <td>10</td>\n",
       "      <td>...</td>\n",
       "      <td>1</td>\n",
       "      <td>1</td>\n",
       "      <td>11</td>\n",
       "      <td>1</td>\n",
       "      <td>1</td>\n",
       "      <td>1</td>\n",
       "      <td>1</td>\n",
       "      <td>1</td>\n",
       "      <td>2</td>\n",
       "      <td>1</td>\n",
       "    </tr>\n",
       "    <tr>\n",
       "      <th>56</th>\n",
       "      <td>2</td>\n",
       "      <td>5</td>\n",
       "      <td>8</td>\n",
       "      <td>-1</td>\n",
       "      <td>-1</td>\n",
       "      <td>4</td>\n",
       "      <td>5</td>\n",
       "      <td>3</td>\n",
       "      <td>10</td>\n",
       "      <td>4</td>\n",
       "      <td>...</td>\n",
       "      <td>-1</td>\n",
       "      <td>-1</td>\n",
       "      <td>-1</td>\n",
       "      <td>-1</td>\n",
       "      <td>-1</td>\n",
       "      <td>-1</td>\n",
       "      <td>-1</td>\n",
       "      <td>-1</td>\n",
       "      <td>-1</td>\n",
       "      <td>-1</td>\n",
       "    </tr>\n",
       "    <tr>\n",
       "      <th>61</th>\n",
       "      <td>2</td>\n",
       "      <td>7</td>\n",
       "      <td>7</td>\n",
       "      <td>7</td>\n",
       "      <td>7</td>\n",
       "      <td>4</td>\n",
       "      <td>2</td>\n",
       "      <td>5</td>\n",
       "      <td>3</td>\n",
       "      <td>6</td>\n",
       "      <td>...</td>\n",
       "      <td>-1</td>\n",
       "      <td>-1</td>\n",
       "      <td>-1</td>\n",
       "      <td>-1</td>\n",
       "      <td>-1</td>\n",
       "      <td>-1</td>\n",
       "      <td>-1</td>\n",
       "      <td>-1</td>\n",
       "      <td>-1</td>\n",
       "      <td>-1</td>\n",
       "    </tr>\n",
       "    <tr>\n",
       "      <th>64</th>\n",
       "      <td>1</td>\n",
       "      <td>7</td>\n",
       "      <td>7</td>\n",
       "      <td>7</td>\n",
       "      <td>7</td>\n",
       "      <td>4</td>\n",
       "      <td>5</td>\n",
       "      <td>3</td>\n",
       "      <td>7</td>\n",
       "      <td>4</td>\n",
       "      <td>...</td>\n",
       "      <td>1</td>\n",
       "      <td>1</td>\n",
       "      <td>11</td>\n",
       "      <td>1</td>\n",
       "      <td>1</td>\n",
       "      <td>1</td>\n",
       "      <td>1</td>\n",
       "      <td>1</td>\n",
       "      <td>1</td>\n",
       "      <td>1</td>\n",
       "    </tr>\n",
       "    <tr>\n",
       "      <th>91</th>\n",
       "      <td>2</td>\n",
       "      <td>2</td>\n",
       "      <td>2</td>\n",
       "      <td>2</td>\n",
       "      <td>2</td>\n",
       "      <td>4</td>\n",
       "      <td>5</td>\n",
       "      <td>3</td>\n",
       "      <td>1</td>\n",
       "      <td>4</td>\n",
       "      <td>...</td>\n",
       "      <td>-1</td>\n",
       "      <td>-1</td>\n",
       "      <td>-1</td>\n",
       "      <td>-1</td>\n",
       "      <td>-1</td>\n",
       "      <td>1</td>\n",
       "      <td>1</td>\n",
       "      <td>1</td>\n",
       "      <td>1</td>\n",
       "      <td>1</td>\n",
       "    </tr>\n",
       "    <tr>\n",
       "      <th>98</th>\n",
       "      <td>2</td>\n",
       "      <td>11</td>\n",
       "      <td>11</td>\n",
       "      <td>11</td>\n",
       "      <td>11</td>\n",
       "      <td>4</td>\n",
       "      <td>1</td>\n",
       "      <td>4</td>\n",
       "      <td>2</td>\n",
       "      <td>5</td>\n",
       "      <td>...</td>\n",
       "      <td>1</td>\n",
       "      <td>1</td>\n",
       "      <td>7</td>\n",
       "      <td>1</td>\n",
       "      <td>1</td>\n",
       "      <td>1</td>\n",
       "      <td>1</td>\n",
       "      <td>1</td>\n",
       "      <td>1</td>\n",
       "      <td>1</td>\n",
       "    </tr>\n",
       "    <tr>\n",
       "      <th>102</th>\n",
       "      <td>2</td>\n",
       "      <td>3</td>\n",
       "      <td>3</td>\n",
       "      <td>3</td>\n",
       "      <td>3</td>\n",
       "      <td>4</td>\n",
       "      <td>1</td>\n",
       "      <td>4</td>\n",
       "      <td>1</td>\n",
       "      <td>4</td>\n",
       "      <td>...</td>\n",
       "      <td>-1</td>\n",
       "      <td>-1</td>\n",
       "      <td>-1</td>\n",
       "      <td>-1</td>\n",
       "      <td>-1</td>\n",
       "      <td>-1</td>\n",
       "      <td>-1</td>\n",
       "      <td>-1</td>\n",
       "      <td>-1</td>\n",
       "      <td>-1</td>\n",
       "    </tr>\n",
       "    <tr>\n",
       "      <th>138</th>\n",
       "      <td>2</td>\n",
       "      <td>1</td>\n",
       "      <td>1</td>\n",
       "      <td>1</td>\n",
       "      <td>1</td>\n",
       "      <td>4</td>\n",
       "      <td>5</td>\n",
       "      <td>3</td>\n",
       "      <td>9</td>\n",
       "      <td>4</td>\n",
       "      <td>...</td>\n",
       "      <td>1</td>\n",
       "      <td>1</td>\n",
       "      <td>11</td>\n",
       "      <td>3</td>\n",
       "      <td>1</td>\n",
       "      <td>1</td>\n",
       "      <td>1</td>\n",
       "      <td>1</td>\n",
       "      <td>1</td>\n",
       "      <td>1</td>\n",
       "    </tr>\n",
       "    <tr>\n",
       "      <th>165</th>\n",
       "      <td>1</td>\n",
       "      <td>11</td>\n",
       "      <td>11</td>\n",
       "      <td>11</td>\n",
       "      <td>11</td>\n",
       "      <td>4</td>\n",
       "      <td>1</td>\n",
       "      <td>4</td>\n",
       "      <td>-1</td>\n",
       "      <td>-1</td>\n",
       "      <td>...</td>\n",
       "      <td>1</td>\n",
       "      <td>1</td>\n",
       "      <td>11</td>\n",
       "      <td>1</td>\n",
       "      <td>1</td>\n",
       "      <td>1</td>\n",
       "      <td>1</td>\n",
       "      <td>1</td>\n",
       "      <td>1</td>\n",
       "      <td>1</td>\n",
       "    </tr>\n",
       "    <tr>\n",
       "      <th>173</th>\n",
       "      <td>1</td>\n",
       "      <td>3</td>\n",
       "      <td>3</td>\n",
       "      <td>3</td>\n",
       "      <td>3</td>\n",
       "      <td>4</td>\n",
       "      <td>1</td>\n",
       "      <td>4</td>\n",
       "      <td>12</td>\n",
       "      <td>3</td>\n",
       "      <td>...</td>\n",
       "      <td>1</td>\n",
       "      <td>1</td>\n",
       "      <td>11</td>\n",
       "      <td>1</td>\n",
       "      <td>1</td>\n",
       "      <td>1</td>\n",
       "      <td>1</td>\n",
       "      <td>1</td>\n",
       "      <td>1</td>\n",
       "      <td>1</td>\n",
       "    </tr>\n",
       "    <tr>\n",
       "      <th>174</th>\n",
       "      <td>2</td>\n",
       "      <td>7</td>\n",
       "      <td>7</td>\n",
       "      <td>-1</td>\n",
       "      <td>-1</td>\n",
       "      <td>4</td>\n",
       "      <td>7</td>\n",
       "      <td>4</td>\n",
       "      <td>-1</td>\n",
       "      <td>10</td>\n",
       "      <td>...</td>\n",
       "      <td>-1</td>\n",
       "      <td>-1</td>\n",
       "      <td>-1</td>\n",
       "      <td>-1</td>\n",
       "      <td>-1</td>\n",
       "      <td>-1</td>\n",
       "      <td>-1</td>\n",
       "      <td>-1</td>\n",
       "      <td>-1</td>\n",
       "      <td>-1</td>\n",
       "    </tr>\n",
       "    <tr>\n",
       "      <th>188</th>\n",
       "      <td>2</td>\n",
       "      <td>3</td>\n",
       "      <td>3</td>\n",
       "      <td>-1</td>\n",
       "      <td>3</td>\n",
       "      <td>4</td>\n",
       "      <td>6</td>\n",
       "      <td>3</td>\n",
       "      <td>14</td>\n",
       "      <td>4</td>\n",
       "      <td>...</td>\n",
       "      <td>3</td>\n",
       "      <td>1</td>\n",
       "      <td>7</td>\n",
       "      <td>1</td>\n",
       "      <td>1</td>\n",
       "      <td>-1</td>\n",
       "      <td>-1</td>\n",
       "      <td>-1</td>\n",
       "      <td>-1</td>\n",
       "      <td>-1</td>\n",
       "    </tr>\n",
       "    <tr>\n",
       "      <th>203</th>\n",
       "      <td>2</td>\n",
       "      <td>3</td>\n",
       "      <td>3</td>\n",
       "      <td>3</td>\n",
       "      <td>3</td>\n",
       "      <td>4</td>\n",
       "      <td>1</td>\n",
       "      <td>4</td>\n",
       "      <td>2</td>\n",
       "      <td>5</td>\n",
       "      <td>...</td>\n",
       "      <td>3</td>\n",
       "      <td>1</td>\n",
       "      <td>3</td>\n",
       "      <td>1</td>\n",
       "      <td>5</td>\n",
       "      <td>1</td>\n",
       "      <td>4</td>\n",
       "      <td>1</td>\n",
       "      <td>1</td>\n",
       "      <td>1</td>\n",
       "    </tr>\n",
       "    <tr>\n",
       "      <th>205</th>\n",
       "      <td>2</td>\n",
       "      <td>11</td>\n",
       "      <td>11</td>\n",
       "      <td>11</td>\n",
       "      <td>-1</td>\n",
       "      <td>4</td>\n",
       "      <td>1</td>\n",
       "      <td>4</td>\n",
       "      <td>1</td>\n",
       "      <td>4</td>\n",
       "      <td>...</td>\n",
       "      <td>-1</td>\n",
       "      <td>-1</td>\n",
       "      <td>-1</td>\n",
       "      <td>-1</td>\n",
       "      <td>-1</td>\n",
       "      <td>-1</td>\n",
       "      <td>-1</td>\n",
       "      <td>-1</td>\n",
       "      <td>-1</td>\n",
       "      <td>-1</td>\n",
       "    </tr>\n",
       "    <tr>\n",
       "      <th>207</th>\n",
       "      <td>1</td>\n",
       "      <td>4</td>\n",
       "      <td>4</td>\n",
       "      <td>4</td>\n",
       "      <td>4</td>\n",
       "      <td>4</td>\n",
       "      <td>1</td>\n",
       "      <td>4</td>\n",
       "      <td>-1</td>\n",
       "      <td>10</td>\n",
       "      <td>...</td>\n",
       "      <td>1</td>\n",
       "      <td>1</td>\n",
       "      <td>11</td>\n",
       "      <td>1</td>\n",
       "      <td>1</td>\n",
       "      <td>-1</td>\n",
       "      <td>-1</td>\n",
       "      <td>-1</td>\n",
       "      <td>-1</td>\n",
       "      <td>-1</td>\n",
       "    </tr>\n",
       "    <tr>\n",
       "      <th>280</th>\n",
       "      <td>2</td>\n",
       "      <td>7</td>\n",
       "      <td>7</td>\n",
       "      <td>7</td>\n",
       "      <td>7</td>\n",
       "      <td>4</td>\n",
       "      <td>10</td>\n",
       "      <td>4</td>\n",
       "      <td>1</td>\n",
       "      <td>4</td>\n",
       "      <td>...</td>\n",
       "      <td>2</td>\n",
       "      <td>-1</td>\n",
       "      <td>5</td>\n",
       "      <td>1</td>\n",
       "      <td>6</td>\n",
       "      <td>1</td>\n",
       "      <td>1</td>\n",
       "      <td>1</td>\n",
       "      <td>1</td>\n",
       "      <td>1</td>\n",
       "    </tr>\n",
       "    <tr>\n",
       "      <th>292</th>\n",
       "      <td>2</td>\n",
       "      <td>3</td>\n",
       "      <td>3</td>\n",
       "      <td>3</td>\n",
       "      <td>3</td>\n",
       "      <td>4</td>\n",
       "      <td>1</td>\n",
       "      <td>4</td>\n",
       "      <td>3</td>\n",
       "      <td>6</td>\n",
       "      <td>...</td>\n",
       "      <td>-1</td>\n",
       "      <td>-1</td>\n",
       "      <td>-1</td>\n",
       "      <td>-1</td>\n",
       "      <td>-1</td>\n",
       "      <td>-1</td>\n",
       "      <td>-1</td>\n",
       "      <td>-1</td>\n",
       "      <td>-1</td>\n",
       "      <td>-1</td>\n",
       "    </tr>\n",
       "    <tr>\n",
       "      <th>303</th>\n",
       "      <td>2</td>\n",
       "      <td>11</td>\n",
       "      <td>11</td>\n",
       "      <td>11</td>\n",
       "      <td>11</td>\n",
       "      <td>4</td>\n",
       "      <td>3</td>\n",
       "      <td>6</td>\n",
       "      <td>2</td>\n",
       "      <td>5</td>\n",
       "      <td>...</td>\n",
       "      <td>1</td>\n",
       "      <td>1</td>\n",
       "      <td>11</td>\n",
       "      <td>1</td>\n",
       "      <td>1</td>\n",
       "      <td>-1</td>\n",
       "      <td>-1</td>\n",
       "      <td>-1</td>\n",
       "      <td>-1</td>\n",
       "      <td>-1</td>\n",
       "    </tr>\n",
       "    <tr>\n",
       "      <th>312</th>\n",
       "      <td>1</td>\n",
       "      <td>4</td>\n",
       "      <td>4</td>\n",
       "      <td>4</td>\n",
       "      <td>4</td>\n",
       "      <td>4</td>\n",
       "      <td>1</td>\n",
       "      <td>4</td>\n",
       "      <td>1</td>\n",
       "      <td>4</td>\n",
       "      <td>...</td>\n",
       "      <td>3</td>\n",
       "      <td>2</td>\n",
       "      <td>4</td>\n",
       "      <td>1</td>\n",
       "      <td>5</td>\n",
       "      <td>1</td>\n",
       "      <td>6</td>\n",
       "      <td>1</td>\n",
       "      <td>1</td>\n",
       "      <td>1</td>\n",
       "    </tr>\n",
       "    <tr>\n",
       "      <th>341</th>\n",
       "      <td>1</td>\n",
       "      <td>7</td>\n",
       "      <td>7</td>\n",
       "      <td>7</td>\n",
       "      <td>7</td>\n",
       "      <td>4</td>\n",
       "      <td>1</td>\n",
       "      <td>4</td>\n",
       "      <td>5</td>\n",
       "      <td>3</td>\n",
       "      <td>...</td>\n",
       "      <td>1</td>\n",
       "      <td>2</td>\n",
       "      <td>11</td>\n",
       "      <td>1</td>\n",
       "      <td>1</td>\n",
       "      <td>1</td>\n",
       "      <td>1</td>\n",
       "      <td>1</td>\n",
       "      <td>2</td>\n",
       "      <td>1</td>\n",
       "    </tr>\n",
       "    <tr>\n",
       "      <th>360</th>\n",
       "      <td>1</td>\n",
       "      <td>7</td>\n",
       "      <td>7</td>\n",
       "      <td>7</td>\n",
       "      <td>7</td>\n",
       "      <td>4</td>\n",
       "      <td>2</td>\n",
       "      <td>5</td>\n",
       "      <td>2</td>\n",
       "      <td>5</td>\n",
       "      <td>...</td>\n",
       "      <td>1</td>\n",
       "      <td>1</td>\n",
       "      <td>7</td>\n",
       "      <td>1</td>\n",
       "      <td>1</td>\n",
       "      <td>5</td>\n",
       "      <td>1</td>\n",
       "      <td>1</td>\n",
       "      <td>1</td>\n",
       "      <td>1</td>\n",
       "    </tr>\n",
       "    <tr>\n",
       "      <th>393</th>\n",
       "      <td>2</td>\n",
       "      <td>1</td>\n",
       "      <td>1</td>\n",
       "      <td>-1</td>\n",
       "      <td>-1</td>\n",
       "      <td>4</td>\n",
       "      <td>1</td>\n",
       "      <td>4</td>\n",
       "      <td>1</td>\n",
       "      <td>4</td>\n",
       "      <td>...</td>\n",
       "      <td>-1</td>\n",
       "      <td>-1</td>\n",
       "      <td>-1</td>\n",
       "      <td>-1</td>\n",
       "      <td>-1</td>\n",
       "      <td>-1</td>\n",
       "      <td>-1</td>\n",
       "      <td>-1</td>\n",
       "      <td>-1</td>\n",
       "      <td>-1</td>\n",
       "    </tr>\n",
       "    <tr>\n",
       "      <th>413</th>\n",
       "      <td>1</td>\n",
       "      <td>7</td>\n",
       "      <td>7</td>\n",
       "      <td>7</td>\n",
       "      <td>7</td>\n",
       "      <td>4</td>\n",
       "      <td>3</td>\n",
       "      <td>6</td>\n",
       "      <td>1</td>\n",
       "      <td>4</td>\n",
       "      <td>...</td>\n",
       "      <td>1</td>\n",
       "      <td>1</td>\n",
       "      <td>11</td>\n",
       "      <td>1</td>\n",
       "      <td>1</td>\n",
       "      <td>1</td>\n",
       "      <td>1</td>\n",
       "      <td>1</td>\n",
       "      <td>1</td>\n",
       "      <td>1</td>\n",
       "    </tr>\n",
       "    <tr>\n",
       "      <th>426</th>\n",
       "      <td>1</td>\n",
       "      <td>5</td>\n",
       "      <td>5</td>\n",
       "      <td>5</td>\n",
       "      <td>5</td>\n",
       "      <td>5</td>\n",
       "      <td>14</td>\n",
       "      <td>12</td>\n",
       "      <td>2</td>\n",
       "      <td>5</td>\n",
       "      <td>...</td>\n",
       "      <td>-1</td>\n",
       "      <td>-1</td>\n",
       "      <td>-1</td>\n",
       "      <td>-1</td>\n",
       "      <td>-1</td>\n",
       "      <td>-1</td>\n",
       "      <td>-1</td>\n",
       "      <td>-1</td>\n",
       "      <td>-1</td>\n",
       "      <td>-1</td>\n",
       "    </tr>\n",
       "    <tr>\n",
       "      <th>491</th>\n",
       "      <td>1</td>\n",
       "      <td>7</td>\n",
       "      <td>7</td>\n",
       "      <td>7</td>\n",
       "      <td>-1</td>\n",
       "      <td>4</td>\n",
       "      <td>3</td>\n",
       "      <td>6</td>\n",
       "      <td>14</td>\n",
       "      <td>4</td>\n",
       "      <td>...</td>\n",
       "      <td>-1</td>\n",
       "      <td>-1</td>\n",
       "      <td>-1</td>\n",
       "      <td>-1</td>\n",
       "      <td>-1</td>\n",
       "      <td>-1</td>\n",
       "      <td>-1</td>\n",
       "      <td>-1</td>\n",
       "      <td>-1</td>\n",
       "      <td>-1</td>\n",
       "    </tr>\n",
       "    <tr>\n",
       "      <th>505</th>\n",
       "      <td>2</td>\n",
       "      <td>1</td>\n",
       "      <td>1</td>\n",
       "      <td>1</td>\n",
       "      <td>1</td>\n",
       "      <td>4</td>\n",
       "      <td>5</td>\n",
       "      <td>3</td>\n",
       "      <td>2</td>\n",
       "      <td>5</td>\n",
       "      <td>...</td>\n",
       "      <td>2</td>\n",
       "      <td>1</td>\n",
       "      <td>11</td>\n",
       "      <td>1</td>\n",
       "      <td>1</td>\n",
       "      <td>2</td>\n",
       "      <td>2</td>\n",
       "      <td>2</td>\n",
       "      <td>2</td>\n",
       "      <td>2</td>\n",
       "    </tr>\n",
       "    <tr>\n",
       "      <th>509</th>\n",
       "      <td>2</td>\n",
       "      <td>7</td>\n",
       "      <td>7</td>\n",
       "      <td>9</td>\n",
       "      <td>9</td>\n",
       "      <td>4</td>\n",
       "      <td>5</td>\n",
       "      <td>3</td>\n",
       "      <td>1</td>\n",
       "      <td>4</td>\n",
       "      <td>...</td>\n",
       "      <td>1</td>\n",
       "      <td>1</td>\n",
       "      <td>1</td>\n",
       "      <td>1</td>\n",
       "      <td>1</td>\n",
       "      <td>1</td>\n",
       "      <td>1</td>\n",
       "      <td>1</td>\n",
       "      <td>1</td>\n",
       "      <td>1</td>\n",
       "    </tr>\n",
       "    <tr>\n",
       "      <th>510</th>\n",
       "      <td>2</td>\n",
       "      <td>7</td>\n",
       "      <td>7</td>\n",
       "      <td>7</td>\n",
       "      <td>7</td>\n",
       "      <td>5</td>\n",
       "      <td>14</td>\n",
       "      <td>12</td>\n",
       "      <td>1</td>\n",
       "      <td>4</td>\n",
       "      <td>...</td>\n",
       "      <td>3</td>\n",
       "      <td>1</td>\n",
       "      <td>3</td>\n",
       "      <td>1</td>\n",
       "      <td>1</td>\n",
       "      <td>1</td>\n",
       "      <td>1</td>\n",
       "      <td>1</td>\n",
       "      <td>1</td>\n",
       "      <td>1</td>\n",
       "    </tr>\n",
       "    <tr>\n",
       "      <th>...</th>\n",
       "      <td>...</td>\n",
       "      <td>...</td>\n",
       "      <td>...</td>\n",
       "      <td>...</td>\n",
       "      <td>...</td>\n",
       "      <td>...</td>\n",
       "      <td>...</td>\n",
       "      <td>...</td>\n",
       "      <td>...</td>\n",
       "      <td>...</td>\n",
       "      <td>...</td>\n",
       "      <td>...</td>\n",
       "      <td>...</td>\n",
       "      <td>...</td>\n",
       "      <td>...</td>\n",
       "      <td>...</td>\n",
       "      <td>...</td>\n",
       "      <td>...</td>\n",
       "      <td>...</td>\n",
       "      <td>...</td>\n",
       "      <td>...</td>\n",
       "    </tr>\n",
       "    <tr>\n",
       "      <th>17941</th>\n",
       "      <td>2</td>\n",
       "      <td>7</td>\n",
       "      <td>7</td>\n",
       "      <td>7</td>\n",
       "      <td>7</td>\n",
       "      <td>4</td>\n",
       "      <td>1</td>\n",
       "      <td>4</td>\n",
       "      <td>-1</td>\n",
       "      <td>10</td>\n",
       "      <td>...</td>\n",
       "      <td>-1</td>\n",
       "      <td>-1</td>\n",
       "      <td>-1</td>\n",
       "      <td>-1</td>\n",
       "      <td>-1</td>\n",
       "      <td>1</td>\n",
       "      <td>1</td>\n",
       "      <td>1</td>\n",
       "      <td>1</td>\n",
       "      <td>1</td>\n",
       "    </tr>\n",
       "    <tr>\n",
       "      <th>17961</th>\n",
       "      <td>1</td>\n",
       "      <td>1</td>\n",
       "      <td>5</td>\n",
       "      <td>3</td>\n",
       "      <td>3</td>\n",
       "      <td>4</td>\n",
       "      <td>5</td>\n",
       "      <td>3</td>\n",
       "      <td>2</td>\n",
       "      <td>5</td>\n",
       "      <td>...</td>\n",
       "      <td>1</td>\n",
       "      <td>1</td>\n",
       "      <td>11</td>\n",
       "      <td>1</td>\n",
       "      <td>1</td>\n",
       "      <td>1</td>\n",
       "      <td>1</td>\n",
       "      <td>1</td>\n",
       "      <td>1</td>\n",
       "      <td>1</td>\n",
       "    </tr>\n",
       "    <tr>\n",
       "      <th>18002</th>\n",
       "      <td>1</td>\n",
       "      <td>2</td>\n",
       "      <td>2</td>\n",
       "      <td>2</td>\n",
       "      <td>2</td>\n",
       "      <td>4</td>\n",
       "      <td>1</td>\n",
       "      <td>4</td>\n",
       "      <td>12</td>\n",
       "      <td>3</td>\n",
       "      <td>...</td>\n",
       "      <td>1</td>\n",
       "      <td>1</td>\n",
       "      <td>1</td>\n",
       "      <td>1</td>\n",
       "      <td>1</td>\n",
       "      <td>-1</td>\n",
       "      <td>-1</td>\n",
       "      <td>-1</td>\n",
       "      <td>-1</td>\n",
       "      <td>-1</td>\n",
       "    </tr>\n",
       "    <tr>\n",
       "      <th>18019</th>\n",
       "      <td>1</td>\n",
       "      <td>7</td>\n",
       "      <td>7</td>\n",
       "      <td>7</td>\n",
       "      <td>6</td>\n",
       "      <td>4</td>\n",
       "      <td>3</td>\n",
       "      <td>6</td>\n",
       "      <td>3</td>\n",
       "      <td>6</td>\n",
       "      <td>...</td>\n",
       "      <td>1</td>\n",
       "      <td>1</td>\n",
       "      <td>11</td>\n",
       "      <td>1</td>\n",
       "      <td>1</td>\n",
       "      <td>-1</td>\n",
       "      <td>-1</td>\n",
       "      <td>-1</td>\n",
       "      <td>-1</td>\n",
       "      <td>-1</td>\n",
       "    </tr>\n",
       "    <tr>\n",
       "      <th>18025</th>\n",
       "      <td>2</td>\n",
       "      <td>7</td>\n",
       "      <td>7</td>\n",
       "      <td>7</td>\n",
       "      <td>-1</td>\n",
       "      <td>4</td>\n",
       "      <td>5</td>\n",
       "      <td>3</td>\n",
       "      <td>5</td>\n",
       "      <td>3</td>\n",
       "      <td>...</td>\n",
       "      <td>-1</td>\n",
       "      <td>-1</td>\n",
       "      <td>-1</td>\n",
       "      <td>-1</td>\n",
       "      <td>-1</td>\n",
       "      <td>-1</td>\n",
       "      <td>-1</td>\n",
       "      <td>-1</td>\n",
       "      <td>-1</td>\n",
       "      <td>-1</td>\n",
       "    </tr>\n",
       "    <tr>\n",
       "      <th>18071</th>\n",
       "      <td>1</td>\n",
       "      <td>10</td>\n",
       "      <td>10</td>\n",
       "      <td>10</td>\n",
       "      <td>10</td>\n",
       "      <td>4</td>\n",
       "      <td>2</td>\n",
       "      <td>5</td>\n",
       "      <td>1</td>\n",
       "      <td>4</td>\n",
       "      <td>...</td>\n",
       "      <td>1</td>\n",
       "      <td>1</td>\n",
       "      <td>-1</td>\n",
       "      <td>-1</td>\n",
       "      <td>1</td>\n",
       "      <td>-1</td>\n",
       "      <td>-1</td>\n",
       "      <td>-1</td>\n",
       "      <td>-1</td>\n",
       "      <td>-1</td>\n",
       "    </tr>\n",
       "    <tr>\n",
       "      <th>18122</th>\n",
       "      <td>1</td>\n",
       "      <td>3</td>\n",
       "      <td>7</td>\n",
       "      <td>7</td>\n",
       "      <td>7</td>\n",
       "      <td>4</td>\n",
       "      <td>8</td>\n",
       "      <td>4</td>\n",
       "      <td>10</td>\n",
       "      <td>4</td>\n",
       "      <td>...</td>\n",
       "      <td>1</td>\n",
       "      <td>2</td>\n",
       "      <td>4</td>\n",
       "      <td>1</td>\n",
       "      <td>1</td>\n",
       "      <td>1</td>\n",
       "      <td>1</td>\n",
       "      <td>1</td>\n",
       "      <td>1</td>\n",
       "      <td>1</td>\n",
       "    </tr>\n",
       "    <tr>\n",
       "      <th>18132</th>\n",
       "      <td>2</td>\n",
       "      <td>7</td>\n",
       "      <td>2</td>\n",
       "      <td>2</td>\n",
       "      <td>2</td>\n",
       "      <td>4</td>\n",
       "      <td>8</td>\n",
       "      <td>4</td>\n",
       "      <td>1</td>\n",
       "      <td>4</td>\n",
       "      <td>...</td>\n",
       "      <td>3</td>\n",
       "      <td>1</td>\n",
       "      <td>11</td>\n",
       "      <td>1</td>\n",
       "      <td>4</td>\n",
       "      <td>1</td>\n",
       "      <td>1</td>\n",
       "      <td>1</td>\n",
       "      <td>1</td>\n",
       "      <td>1</td>\n",
       "    </tr>\n",
       "    <tr>\n",
       "      <th>18144</th>\n",
       "      <td>1</td>\n",
       "      <td>4</td>\n",
       "      <td>4</td>\n",
       "      <td>4</td>\n",
       "      <td>4</td>\n",
       "      <td>4</td>\n",
       "      <td>3</td>\n",
       "      <td>6</td>\n",
       "      <td>1</td>\n",
       "      <td>4</td>\n",
       "      <td>...</td>\n",
       "      <td>1</td>\n",
       "      <td>1</td>\n",
       "      <td>7</td>\n",
       "      <td>1</td>\n",
       "      <td>1</td>\n",
       "      <td>1</td>\n",
       "      <td>1</td>\n",
       "      <td>1</td>\n",
       "      <td>1</td>\n",
       "      <td>1</td>\n",
       "    </tr>\n",
       "    <tr>\n",
       "      <th>18160</th>\n",
       "      <td>1</td>\n",
       "      <td>2</td>\n",
       "      <td>2</td>\n",
       "      <td>2</td>\n",
       "      <td>2</td>\n",
       "      <td>4</td>\n",
       "      <td>1</td>\n",
       "      <td>4</td>\n",
       "      <td>5</td>\n",
       "      <td>3</td>\n",
       "      <td>...</td>\n",
       "      <td>1</td>\n",
       "      <td>1</td>\n",
       "      <td>11</td>\n",
       "      <td>1</td>\n",
       "      <td>1</td>\n",
       "      <td>-1</td>\n",
       "      <td>-1</td>\n",
       "      <td>-1</td>\n",
       "      <td>-1</td>\n",
       "      <td>-1</td>\n",
       "    </tr>\n",
       "    <tr>\n",
       "      <th>18182</th>\n",
       "      <td>1</td>\n",
       "      <td>1</td>\n",
       "      <td>1</td>\n",
       "      <td>1</td>\n",
       "      <td>2</td>\n",
       "      <td>4</td>\n",
       "      <td>11</td>\n",
       "      <td>3</td>\n",
       "      <td>13</td>\n",
       "      <td>5</td>\n",
       "      <td>...</td>\n",
       "      <td>1</td>\n",
       "      <td>1</td>\n",
       "      <td>1</td>\n",
       "      <td>1</td>\n",
       "      <td>1</td>\n",
       "      <td>1</td>\n",
       "      <td>1</td>\n",
       "      <td>3</td>\n",
       "      <td>1</td>\n",
       "      <td>1</td>\n",
       "    </tr>\n",
       "    <tr>\n",
       "      <th>18194</th>\n",
       "      <td>2</td>\n",
       "      <td>10</td>\n",
       "      <td>2</td>\n",
       "      <td>2</td>\n",
       "      <td>-1</td>\n",
       "      <td>4</td>\n",
       "      <td>13</td>\n",
       "      <td>2</td>\n",
       "      <td>3</td>\n",
       "      <td>6</td>\n",
       "      <td>...</td>\n",
       "      <td>-1</td>\n",
       "      <td>-1</td>\n",
       "      <td>-1</td>\n",
       "      <td>-1</td>\n",
       "      <td>-1</td>\n",
       "      <td>-1</td>\n",
       "      <td>-1</td>\n",
       "      <td>-1</td>\n",
       "      <td>-1</td>\n",
       "      <td>-1</td>\n",
       "    </tr>\n",
       "    <tr>\n",
       "      <th>18218</th>\n",
       "      <td>1</td>\n",
       "      <td>1</td>\n",
       "      <td>1</td>\n",
       "      <td>1</td>\n",
       "      <td>1</td>\n",
       "      <td>4</td>\n",
       "      <td>2</td>\n",
       "      <td>5</td>\n",
       "      <td>-1</td>\n",
       "      <td>-1</td>\n",
       "      <td>...</td>\n",
       "      <td>2</td>\n",
       "      <td>1</td>\n",
       "      <td>7</td>\n",
       "      <td>1</td>\n",
       "      <td>1</td>\n",
       "      <td>1</td>\n",
       "      <td>1</td>\n",
       "      <td>1</td>\n",
       "      <td>1</td>\n",
       "      <td>1</td>\n",
       "    </tr>\n",
       "    <tr>\n",
       "      <th>18228</th>\n",
       "      <td>1</td>\n",
       "      <td>7</td>\n",
       "      <td>7</td>\n",
       "      <td>7</td>\n",
       "      <td>7</td>\n",
       "      <td>4</td>\n",
       "      <td>1</td>\n",
       "      <td>4</td>\n",
       "      <td>12</td>\n",
       "      <td>3</td>\n",
       "      <td>...</td>\n",
       "      <td>-1</td>\n",
       "      <td>-1</td>\n",
       "      <td>-1</td>\n",
       "      <td>-1</td>\n",
       "      <td>-1</td>\n",
       "      <td>-1</td>\n",
       "      <td>-1</td>\n",
       "      <td>-1</td>\n",
       "      <td>-1</td>\n",
       "      <td>-1</td>\n",
       "    </tr>\n",
       "    <tr>\n",
       "      <th>18235</th>\n",
       "      <td>2</td>\n",
       "      <td>4</td>\n",
       "      <td>4</td>\n",
       "      <td>4</td>\n",
       "      <td>4</td>\n",
       "      <td>4</td>\n",
       "      <td>5</td>\n",
       "      <td>3</td>\n",
       "      <td>10</td>\n",
       "      <td>4</td>\n",
       "      <td>...</td>\n",
       "      <td>1</td>\n",
       "      <td>1</td>\n",
       "      <td>1</td>\n",
       "      <td>1</td>\n",
       "      <td>1</td>\n",
       "      <td>1</td>\n",
       "      <td>1</td>\n",
       "      <td>1</td>\n",
       "      <td>1</td>\n",
       "      <td>1</td>\n",
       "    </tr>\n",
       "    <tr>\n",
       "      <th>18251</th>\n",
       "      <td>2</td>\n",
       "      <td>1</td>\n",
       "      <td>1</td>\n",
       "      <td>1</td>\n",
       "      <td>1</td>\n",
       "      <td>4</td>\n",
       "      <td>7</td>\n",
       "      <td>4</td>\n",
       "      <td>3</td>\n",
       "      <td>6</td>\n",
       "      <td>...</td>\n",
       "      <td>2</td>\n",
       "      <td>1</td>\n",
       "      <td>3</td>\n",
       "      <td>1</td>\n",
       "      <td>1</td>\n",
       "      <td>1</td>\n",
       "      <td>1</td>\n",
       "      <td>1</td>\n",
       "      <td>2</td>\n",
       "      <td>1</td>\n",
       "    </tr>\n",
       "    <tr>\n",
       "      <th>18256</th>\n",
       "      <td>2</td>\n",
       "      <td>-2</td>\n",
       "      <td>8</td>\n",
       "      <td>8</td>\n",
       "      <td>8</td>\n",
       "      <td>-1</td>\n",
       "      <td>-1</td>\n",
       "      <td>-1</td>\n",
       "      <td>-1</td>\n",
       "      <td>-1</td>\n",
       "      <td>...</td>\n",
       "      <td>2</td>\n",
       "      <td>1</td>\n",
       "      <td>11</td>\n",
       "      <td>1</td>\n",
       "      <td>1</td>\n",
       "      <td>1</td>\n",
       "      <td>1</td>\n",
       "      <td>1</td>\n",
       "      <td>1</td>\n",
       "      <td>1</td>\n",
       "    </tr>\n",
       "    <tr>\n",
       "      <th>18269</th>\n",
       "      <td>2</td>\n",
       "      <td>5</td>\n",
       "      <td>5</td>\n",
       "      <td>5</td>\n",
       "      <td>5</td>\n",
       "      <td>4</td>\n",
       "      <td>13</td>\n",
       "      <td>2</td>\n",
       "      <td>6</td>\n",
       "      <td>3</td>\n",
       "      <td>...</td>\n",
       "      <td>2</td>\n",
       "      <td>1</td>\n",
       "      <td>1</td>\n",
       "      <td>1</td>\n",
       "      <td>1</td>\n",
       "      <td>1</td>\n",
       "      <td>1</td>\n",
       "      <td>1</td>\n",
       "      <td>2</td>\n",
       "      <td>1</td>\n",
       "    </tr>\n",
       "    <tr>\n",
       "      <th>18289</th>\n",
       "      <td>2</td>\n",
       "      <td>7</td>\n",
       "      <td>7</td>\n",
       "      <td>7</td>\n",
       "      <td>7</td>\n",
       "      <td>4</td>\n",
       "      <td>1</td>\n",
       "      <td>4</td>\n",
       "      <td>1</td>\n",
       "      <td>4</td>\n",
       "      <td>...</td>\n",
       "      <td>1</td>\n",
       "      <td>1</td>\n",
       "      <td>3</td>\n",
       "      <td>1</td>\n",
       "      <td>1</td>\n",
       "      <td>1</td>\n",
       "      <td>1</td>\n",
       "      <td>1</td>\n",
       "      <td>1</td>\n",
       "      <td>1</td>\n",
       "    </tr>\n",
       "    <tr>\n",
       "      <th>18328</th>\n",
       "      <td>1</td>\n",
       "      <td>3</td>\n",
       "      <td>3</td>\n",
       "      <td>3</td>\n",
       "      <td>3</td>\n",
       "      <td>4</td>\n",
       "      <td>-1</td>\n",
       "      <td>9</td>\n",
       "      <td>1</td>\n",
       "      <td>4</td>\n",
       "      <td>...</td>\n",
       "      <td>1</td>\n",
       "      <td>1</td>\n",
       "      <td>11</td>\n",
       "      <td>1</td>\n",
       "      <td>1</td>\n",
       "      <td>-1</td>\n",
       "      <td>-1</td>\n",
       "      <td>-1</td>\n",
       "      <td>-1</td>\n",
       "      <td>-1</td>\n",
       "    </tr>\n",
       "    <tr>\n",
       "      <th>18382</th>\n",
       "      <td>2</td>\n",
       "      <td>4</td>\n",
       "      <td>4</td>\n",
       "      <td>4</td>\n",
       "      <td>3</td>\n",
       "      <td>4</td>\n",
       "      <td>1</td>\n",
       "      <td>4</td>\n",
       "      <td>7</td>\n",
       "      <td>4</td>\n",
       "      <td>...</td>\n",
       "      <td>1</td>\n",
       "      <td>2</td>\n",
       "      <td>3</td>\n",
       "      <td>1</td>\n",
       "      <td>1</td>\n",
       "      <td>1</td>\n",
       "      <td>1</td>\n",
       "      <td>1</td>\n",
       "      <td>1</td>\n",
       "      <td>1</td>\n",
       "    </tr>\n",
       "    <tr>\n",
       "      <th>18389</th>\n",
       "      <td>1</td>\n",
       "      <td>7</td>\n",
       "      <td>-1</td>\n",
       "      <td>6</td>\n",
       "      <td>6</td>\n",
       "      <td>5</td>\n",
       "      <td>14</td>\n",
       "      <td>12</td>\n",
       "      <td>6</td>\n",
       "      <td>3</td>\n",
       "      <td>...</td>\n",
       "      <td>2</td>\n",
       "      <td>1</td>\n",
       "      <td>11</td>\n",
       "      <td>1</td>\n",
       "      <td>1</td>\n",
       "      <td>5</td>\n",
       "      <td>1</td>\n",
       "      <td>1</td>\n",
       "      <td>1</td>\n",
       "      <td>1</td>\n",
       "    </tr>\n",
       "    <tr>\n",
       "      <th>18428</th>\n",
       "      <td>2</td>\n",
       "      <td>4</td>\n",
       "      <td>4</td>\n",
       "      <td>4</td>\n",
       "      <td>4</td>\n",
       "      <td>4</td>\n",
       "      <td>5</td>\n",
       "      <td>3</td>\n",
       "      <td>12</td>\n",
       "      <td>3</td>\n",
       "      <td>...</td>\n",
       "      <td>2</td>\n",
       "      <td>1</td>\n",
       "      <td>11</td>\n",
       "      <td>1</td>\n",
       "      <td>1</td>\n",
       "      <td>1</td>\n",
       "      <td>1</td>\n",
       "      <td>1</td>\n",
       "      <td>-1</td>\n",
       "      <td>1</td>\n",
       "    </tr>\n",
       "    <tr>\n",
       "      <th>18443</th>\n",
       "      <td>2</td>\n",
       "      <td>6</td>\n",
       "      <td>6</td>\n",
       "      <td>6</td>\n",
       "      <td>6</td>\n",
       "      <td>4</td>\n",
       "      <td>2</td>\n",
       "      <td>5</td>\n",
       "      <td>13</td>\n",
       "      <td>5</td>\n",
       "      <td>...</td>\n",
       "      <td>1</td>\n",
       "      <td>1</td>\n",
       "      <td>2</td>\n",
       "      <td>1</td>\n",
       "      <td>1</td>\n",
       "      <td>-1</td>\n",
       "      <td>-1</td>\n",
       "      <td>-1</td>\n",
       "      <td>-1</td>\n",
       "      <td>-1</td>\n",
       "    </tr>\n",
       "    <tr>\n",
       "      <th>18447</th>\n",
       "      <td>2</td>\n",
       "      <td>2</td>\n",
       "      <td>2</td>\n",
       "      <td>2</td>\n",
       "      <td>2</td>\n",
       "      <td>4</td>\n",
       "      <td>1</td>\n",
       "      <td>4</td>\n",
       "      <td>14</td>\n",
       "      <td>4</td>\n",
       "      <td>...</td>\n",
       "      <td>1</td>\n",
       "      <td>1</td>\n",
       "      <td>3</td>\n",
       "      <td>1</td>\n",
       "      <td>1</td>\n",
       "      <td>-1</td>\n",
       "      <td>-1</td>\n",
       "      <td>-1</td>\n",
       "      <td>-1</td>\n",
       "      <td>-1</td>\n",
       "    </tr>\n",
       "    <tr>\n",
       "      <th>18465</th>\n",
       "      <td>2</td>\n",
       "      <td>4</td>\n",
       "      <td>4</td>\n",
       "      <td>4</td>\n",
       "      <td>4</td>\n",
       "      <td>4</td>\n",
       "      <td>1</td>\n",
       "      <td>4</td>\n",
       "      <td>13</td>\n",
       "      <td>5</td>\n",
       "      <td>...</td>\n",
       "      <td>3</td>\n",
       "      <td>1</td>\n",
       "      <td>3</td>\n",
       "      <td>1</td>\n",
       "      <td>1</td>\n",
       "      <td>1</td>\n",
       "      <td>1</td>\n",
       "      <td>1</td>\n",
       "      <td>1</td>\n",
       "      <td>1</td>\n",
       "    </tr>\n",
       "    <tr>\n",
       "      <th>18477</th>\n",
       "      <td>2</td>\n",
       "      <td>7</td>\n",
       "      <td>7</td>\n",
       "      <td>7</td>\n",
       "      <td>-1</td>\n",
       "      <td>4</td>\n",
       "      <td>1</td>\n",
       "      <td>4</td>\n",
       "      <td>1</td>\n",
       "      <td>4</td>\n",
       "      <td>...</td>\n",
       "      <td>-1</td>\n",
       "      <td>-1</td>\n",
       "      <td>-1</td>\n",
       "      <td>-1</td>\n",
       "      <td>-1</td>\n",
       "      <td>-1</td>\n",
       "      <td>-1</td>\n",
       "      <td>-1</td>\n",
       "      <td>-1</td>\n",
       "      <td>-1</td>\n",
       "    </tr>\n",
       "    <tr>\n",
       "      <th>18478</th>\n",
       "      <td>1</td>\n",
       "      <td>2</td>\n",
       "      <td>2</td>\n",
       "      <td>2</td>\n",
       "      <td>2</td>\n",
       "      <td>4</td>\n",
       "      <td>1</td>\n",
       "      <td>4</td>\n",
       "      <td>1</td>\n",
       "      <td>4</td>\n",
       "      <td>...</td>\n",
       "      <td>-1</td>\n",
       "      <td>-1</td>\n",
       "      <td>-1</td>\n",
       "      <td>-1</td>\n",
       "      <td>-1</td>\n",
       "      <td>-1</td>\n",
       "      <td>-1</td>\n",
       "      <td>-1</td>\n",
       "      <td>-1</td>\n",
       "      <td>-1</td>\n",
       "    </tr>\n",
       "    <tr>\n",
       "      <th>18535</th>\n",
       "      <td>1</td>\n",
       "      <td>2</td>\n",
       "      <td>2</td>\n",
       "      <td>2</td>\n",
       "      <td>2</td>\n",
       "      <td>4</td>\n",
       "      <td>3</td>\n",
       "      <td>6</td>\n",
       "      <td>-1</td>\n",
       "      <td>10</td>\n",
       "      <td>...</td>\n",
       "      <td>1</td>\n",
       "      <td>1</td>\n",
       "      <td>2</td>\n",
       "      <td>5</td>\n",
       "      <td>1</td>\n",
       "      <td>1</td>\n",
       "      <td>1</td>\n",
       "      <td>1</td>\n",
       "      <td>1</td>\n",
       "      <td>1</td>\n",
       "    </tr>\n",
       "    <tr>\n",
       "      <th>18553</th>\n",
       "      <td>1</td>\n",
       "      <td>-2</td>\n",
       "      <td>-1</td>\n",
       "      <td>7</td>\n",
       "      <td>7</td>\n",
       "      <td>-1</td>\n",
       "      <td>-1</td>\n",
       "      <td>-1</td>\n",
       "      <td>-1</td>\n",
       "      <td>-1</td>\n",
       "      <td>...</td>\n",
       "      <td>1</td>\n",
       "      <td>1</td>\n",
       "      <td>11</td>\n",
       "      <td>1</td>\n",
       "      <td>1</td>\n",
       "      <td>1</td>\n",
       "      <td>1</td>\n",
       "      <td>1</td>\n",
       "      <td>1</td>\n",
       "      <td>2</td>\n",
       "    </tr>\n",
       "  </tbody>\n",
       "</table>\n",
       "<p>1026 rows × 188 columns</p>\n",
       "</div>"
      ],
      "text/plain": [
       "       n622  n0region  n1region  n2region  n3region  n545  n490  n492  n524  \\\n",
       "7         1        10        -1        10        10     4     3     6    -1   \n",
       "25        1         2        10        10        10     4     5     3     1   \n",
       "34        1         9         8         8         8     4     4     4    -1   \n",
       "56        2         5         8        -1        -1     4     5     3    10   \n",
       "61        2         7         7         7         7     4     2     5     3   \n",
       "64        1         7         7         7         7     4     5     3     7   \n",
       "91        2         2         2         2         2     4     5     3     1   \n",
       "98        2        11        11        11        11     4     1     4     2   \n",
       "102       2         3         3         3         3     4     1     4     1   \n",
       "138       2         1         1         1         1     4     5     3     9   \n",
       "165       1        11        11        11        11     4     1     4    -1   \n",
       "173       1         3         3         3         3     4     1     4    12   \n",
       "174       2         7         7        -1        -1     4     7     4    -1   \n",
       "188       2         3         3        -1         3     4     6     3    14   \n",
       "203       2         3         3         3         3     4     1     4     2   \n",
       "205       2        11        11        11        -1     4     1     4     1   \n",
       "207       1         4         4         4         4     4     1     4    -1   \n",
       "280       2         7         7         7         7     4    10     4     1   \n",
       "292       2         3         3         3         3     4     1     4     3   \n",
       "303       2        11        11        11        11     4     3     6     2   \n",
       "312       1         4         4         4         4     4     1     4     1   \n",
       "341       1         7         7         7         7     4     1     4     5   \n",
       "360       1         7         7         7         7     4     2     5     2   \n",
       "393       2         1         1        -1        -1     4     1     4     1   \n",
       "413       1         7         7         7         7     4     3     6     1   \n",
       "426       1         5         5         5         5     5    14    12     2   \n",
       "491       1         7         7         7        -1     4     3     6    14   \n",
       "505       2         1         1         1         1     4     5     3     2   \n",
       "509       2         7         7         9         9     4     5     3     1   \n",
       "510       2         7         7         7         7     5    14    12     1   \n",
       "...     ...       ...       ...       ...       ...   ...   ...   ...   ...   \n",
       "17941     2         7         7         7         7     4     1     4    -1   \n",
       "17961     1         1         5         3         3     4     5     3     2   \n",
       "18002     1         2         2         2         2     4     1     4    12   \n",
       "18019     1         7         7         7         6     4     3     6     3   \n",
       "18025     2         7         7         7        -1     4     5     3     5   \n",
       "18071     1        10        10        10        10     4     2     5     1   \n",
       "18122     1         3         7         7         7     4     8     4    10   \n",
       "18132     2         7         2         2         2     4     8     4     1   \n",
       "18144     1         4         4         4         4     4     3     6     1   \n",
       "18160     1         2         2         2         2     4     1     4     5   \n",
       "18182     1         1         1         1         2     4    11     3    13   \n",
       "18194     2        10         2         2        -1     4    13     2     3   \n",
       "18218     1         1         1         1         1     4     2     5    -1   \n",
       "18228     1         7         7         7         7     4     1     4    12   \n",
       "18235     2         4         4         4         4     4     5     3    10   \n",
       "18251     2         1         1         1         1     4     7     4     3   \n",
       "18256     2        -2         8         8         8    -1    -1    -1    -1   \n",
       "18269     2         5         5         5         5     4    13     2     6   \n",
       "18289     2         7         7         7         7     4     1     4     1   \n",
       "18328     1         3         3         3         3     4    -1     9     1   \n",
       "18382     2         4         4         4         3     4     1     4     7   \n",
       "18389     1         7        -1         6         6     5    14    12     6   \n",
       "18428     2         4         4         4         4     4     5     3    12   \n",
       "18443     2         6         6         6         6     4     2     5    13   \n",
       "18447     2         2         2         2         2     4     1     4    14   \n",
       "18465     2         4         4         4         4     4     1     4    13   \n",
       "18477     2         7         7         7        -1     4     1     4     1   \n",
       "18478     1         2         2         2         2     4     1     4     1   \n",
       "18535     1         2         2         2         2     4     3     6    -1   \n",
       "18553     1        -2        -1         7         7    -1    -1    -1    -1   \n",
       "\n",
       "       n526  ...    n2531  n2534  n2560  n2624  n2631  n2020  n2021  n2029  \\\n",
       "7        -1  ...        1      2      7      1      5      1      1      1   \n",
       "25        4  ...        2      1      7      1      1      1      1      1   \n",
       "34       10  ...        1      1     11      1      1      1      1      1   \n",
       "56        4  ...       -1     -1     -1     -1     -1     -1     -1     -1   \n",
       "61        6  ...       -1     -1     -1     -1     -1     -1     -1     -1   \n",
       "64        4  ...        1      1     11      1      1      1      1      1   \n",
       "91        4  ...       -1     -1     -1     -1     -1      1      1      1   \n",
       "98        5  ...        1      1      7      1      1      1      1      1   \n",
       "102       4  ...       -1     -1     -1     -1     -1     -1     -1     -1   \n",
       "138       4  ...        1      1     11      3      1      1      1      1   \n",
       "165      -1  ...        1      1     11      1      1      1      1      1   \n",
       "173       3  ...        1      1     11      1      1      1      1      1   \n",
       "174      10  ...       -1     -1     -1     -1     -1     -1     -1     -1   \n",
       "188       4  ...        3      1      7      1      1     -1     -1     -1   \n",
       "203       5  ...        3      1      3      1      5      1      4      1   \n",
       "205       4  ...       -1     -1     -1     -1     -1     -1     -1     -1   \n",
       "207      10  ...        1      1     11      1      1     -1     -1     -1   \n",
       "280       4  ...        2     -1      5      1      6      1      1      1   \n",
       "292       6  ...       -1     -1     -1     -1     -1     -1     -1     -1   \n",
       "303       5  ...        1      1     11      1      1     -1     -1     -1   \n",
       "312       4  ...        3      2      4      1      5      1      6      1   \n",
       "341       3  ...        1      2     11      1      1      1      1      1   \n",
       "360       5  ...        1      1      7      1      1      5      1      1   \n",
       "393       4  ...       -1     -1     -1     -1     -1     -1     -1     -1   \n",
       "413       4  ...        1      1     11      1      1      1      1      1   \n",
       "426       5  ...       -1     -1     -1     -1     -1     -1     -1     -1   \n",
       "491       4  ...       -1     -1     -1     -1     -1     -1     -1     -1   \n",
       "505       5  ...        2      1     11      1      1      2      2      2   \n",
       "509       4  ...        1      1      1      1      1      1      1      1   \n",
       "510       4  ...        3      1      3      1      1      1      1      1   \n",
       "...     ...  ...      ...    ...    ...    ...    ...    ...    ...    ...   \n",
       "17941    10  ...       -1     -1     -1     -1     -1      1      1      1   \n",
       "17961     5  ...        1      1     11      1      1      1      1      1   \n",
       "18002     3  ...        1      1      1      1      1     -1     -1     -1   \n",
       "18019     6  ...        1      1     11      1      1     -1     -1     -1   \n",
       "18025     3  ...       -1     -1     -1     -1     -1     -1     -1     -1   \n",
       "18071     4  ...        1      1     -1     -1      1     -1     -1     -1   \n",
       "18122     4  ...        1      2      4      1      1      1      1      1   \n",
       "18132     4  ...        3      1     11      1      4      1      1      1   \n",
       "18144     4  ...        1      1      7      1      1      1      1      1   \n",
       "18160     3  ...        1      1     11      1      1     -1     -1     -1   \n",
       "18182     5  ...        1      1      1      1      1      1      1      3   \n",
       "18194     6  ...       -1     -1     -1     -1     -1     -1     -1     -1   \n",
       "18218    -1  ...        2      1      7      1      1      1      1      1   \n",
       "18228     3  ...       -1     -1     -1     -1     -1     -1     -1     -1   \n",
       "18235     4  ...        1      1      1      1      1      1      1      1   \n",
       "18251     6  ...        2      1      3      1      1      1      1      1   \n",
       "18256    -1  ...        2      1     11      1      1      1      1      1   \n",
       "18269     3  ...        2      1      1      1      1      1      1      1   \n",
       "18289     4  ...        1      1      3      1      1      1      1      1   \n",
       "18328     4  ...        1      1     11      1      1     -1     -1     -1   \n",
       "18382     4  ...        1      2      3      1      1      1      1      1   \n",
       "18389     3  ...        2      1     11      1      1      5      1      1   \n",
       "18428     3  ...        2      1     11      1      1      1      1      1   \n",
       "18443     5  ...        1      1      2      1      1     -1     -1     -1   \n",
       "18447     4  ...        1      1      3      1      1     -1     -1     -1   \n",
       "18465     5  ...        3      1      3      1      1      1      1      1   \n",
       "18477     4  ...       -1     -1     -1     -1     -1     -1     -1     -1   \n",
       "18478     4  ...       -1     -1     -1     -1     -1     -1     -1     -1   \n",
       "18535    10  ...        1      1      2      5      1      1      1      1   \n",
       "18553    -1  ...        1      1     11      1      1      1      1      1   \n",
       "\n",
       "       n2030  n2034  \n",
       "7          1      1  \n",
       "25         1      1  \n",
       "34         2      1  \n",
       "56        -1     -1  \n",
       "61        -1     -1  \n",
       "64         1      1  \n",
       "91         1      1  \n",
       "98         1      1  \n",
       "102       -1     -1  \n",
       "138        1      1  \n",
       "165        1      1  \n",
       "173        1      1  \n",
       "174       -1     -1  \n",
       "188       -1     -1  \n",
       "203        1      1  \n",
       "205       -1     -1  \n",
       "207       -1     -1  \n",
       "280        1      1  \n",
       "292       -1     -1  \n",
       "303       -1     -1  \n",
       "312        1      1  \n",
       "341        2      1  \n",
       "360        1      1  \n",
       "393       -1     -1  \n",
       "413        1      1  \n",
       "426       -1     -1  \n",
       "491       -1     -1  \n",
       "505        2      2  \n",
       "509        1      1  \n",
       "510        1      1  \n",
       "...      ...    ...  \n",
       "17941      1      1  \n",
       "17961      1      1  \n",
       "18002     -1     -1  \n",
       "18019     -1     -1  \n",
       "18025     -1     -1  \n",
       "18071     -1     -1  \n",
       "18122      1      1  \n",
       "18132      1      1  \n",
       "18144      1      1  \n",
       "18160     -1     -1  \n",
       "18182      1      1  \n",
       "18194     -1     -1  \n",
       "18218      1      1  \n",
       "18228     -1     -1  \n",
       "18235      1      1  \n",
       "18251      2      1  \n",
       "18256      1      1  \n",
       "18269      2      1  \n",
       "18289      1      1  \n",
       "18328     -1     -1  \n",
       "18382      1      1  \n",
       "18389      1      1  \n",
       "18428     -1      1  \n",
       "18443     -1     -1  \n",
       "18447     -1     -1  \n",
       "18465      1      1  \n",
       "18477     -1     -1  \n",
       "18478     -1     -1  \n",
       "18535      1      1  \n",
       "18553      1      2  \n",
       "\n",
       "[1026 rows x 188 columns]"
      ]
     },
     "execution_count": 48,
     "metadata": {},
     "output_type": "execute_result"
    }
   ],
   "source": [
    "calculate_vif_(data)"
   ]
  },
  {
   "cell_type": "code",
   "execution_count": 19,
   "metadata": {
    "collapsed": false
   },
   "outputs": [],
   "source": [
    "data_update = data[[u'n622', u'n0region', u'n3region', u'n490', u'n492', u'n524', u'n526',\n",
    "       u'n496', u'n500', u'n502', u'n503', u'n504', u'n548', u'n518', u'n519',\n",
    "       u'n522', u'n527', u'n528', u'n529', u'n531', u'n534', u'n535', u'n556',\n",
    "       u'n646', u'n516', u'n660', u'n505', u'n507', u'n509', u'n121', u'n658',\n",
    "       u'n659', u'n183', u'n1811', u'n403', u'n434', u'n436', u'n438', u'n440',\n",
    "       u'n442', u'n444', u'n446', u'n448', u'n450', u'n452', u'n454', u'n1287',\n",
    "       u'n1396', u'n1397', u'n1447', u'n1448', u'n1449', u'n1452', u'n1453',\n",
    "       u'n1454', u'n1458', u'n1171', u'n1176', u'n1212', u'n1523', u'n1001',\n",
    "       u'n1005', u'n983', u'n992', u'n995', u'n989', u'n986', u'n1004',\n",
    "       u'n998', u'n974', u'n980', u'n977', u'n2385', u'n2400', u'n2401',\n",
    "       u'n2452', u'n2504', u'n2517', u'n2522', u'n2523', u'n2531', u'n2560',\n",
    "       u'n2624', u'n2631', u'n2020', u'n2021', u'n2029', u'n2030']]"
   ]
  },
  {
   "cell_type": "code",
   "execution_count": 20,
   "metadata": {
    "collapsed": false
   },
   "outputs": [
    {
     "data": {
      "image/png": "[encoded data removed]",
      "text/plain": [
       "<matplotlib.figure.Figure at 0x117878190>"
      ]
     },
     "metadata": {},
     "output_type": "display_data"
    }
   ],
   "source": [
    "corr_matrix_before = np.corrcoef(data.T)\n",
    "corr_matrix_after  = np.corrcoef(data_update.T)\n",
    "\n",
    "# Display heat map \n",
    "fig, ax = plt.subplots(1, 2, figsize=(12, 6))\n",
    "\n",
    "ax[0].pcolor(corr_matrix_before)\n",
    "ax[0].set_title('Heatmap of correlation matrix before')\n",
    "ax[1].pcolor(corr_matrix_after)\n",
    "ax[1].set_title('Heatmap of correlation matrix after')\n",
    "\n",
    "plt.show()"
   ]
  },
  {
   "cell_type": "code",
   "execution_count": 21,
   "metadata": {
    "collapsed": false
   },
   "outputs": [
    {
     "data": {
      "text/plain": [
       "(1026, 88)"
      ]
     },
     "execution_count": 21,
     "metadata": {},
     "output_type": "execute_result"
    }
   ],
   "source": [
    "data = data_update\n",
    "data.shape"
   ]
  },
  {
   "cell_type": "markdown",
   "metadata": {},
   "source": [
    "### 1.2.4 transform into dummy variable"
   ]
  },
  {
   "cell_type": "code",
   "execution_count": 22,
   "metadata": {
    "collapsed": false
   },
   "outputs": [
    {
     "data": {
      "text/plain": [
       "(1026, 768)"
      ]
     },
     "execution_count": 22,
     "metadata": {},
     "output_type": "execute_result"
    }
   ],
   "source": [
    "data_dummy=pd.DataFrame()\n",
    "\n",
    "for i in data.columns:\n",
    "    if len(np.unique(data[i]))<=20:\n",
    "        data_dummy=pd.concat([data_dummy, pd.get_dummies(data[i])], axis=1)\n",
    "    else:\n",
    "        data_dummy=pd.concat([data_dummy, data[i]], axis=1)\n",
    "\n",
    "data_dummy.shape"
   ]
  },
  {
   "cell_type": "markdown",
   "metadata": {},
   "source": [
    "# 2 Model building\n",
    "\n",
    "Predictors are in `data_dummy`, response is in `y`.   \n",
    "Given that the dataset is inbalanced, we adopt two strategies: 1) weighted model; 2) balanced sample  \n"
   ]
  },
  {
   "cell_type": "code",
   "execution_count": 23,
   "metadata": {
    "collapsed": true
   },
   "outputs": [],
   "source": [
    "#Function for computing the accuracy a given model on the entire test set, the accuracy on class 0 in the test set\n",
    "#and the accuracy on class 1\n",
    "score = lambda model, x_test, y_test: pd.Series([model.score(x_test, y_test), \n",
    "                                                 model.score(x_test[y_test==0], y_test[y_test==0]),\n",
    "                                                 model.score(x_test[y_test==1], y_test[y_test==1])],\n",
    "                                                index=['overall accuracy', 'accuracy on class 0', 'accuracy on class 1'])"
   ]
  },
  {
   "cell_type": "markdown",
   "metadata": {},
   "source": [
    "# 2.1 weighted model"
   ]
  },
  {
   "cell_type": "markdown",
   "metadata": {},
   "source": [
    "### 2.1.1 Cross-validation to select best hyperparameter"
   ]
  },
  {
   "cell_type": "code",
   "execution_count": 24,
   "metadata": {
    "collapsed": false
   },
   "outputs": [],
   "source": [
    "def cross_validation_weighted(x, y, param, method):\n",
    "    y_cv = y\n",
    "    x_cv = x\n",
    "    y_cv.index = range(len(y))\n",
    "    x_cv.index = range(len(y))\n",
    "    \n",
    "    n_param = len(param)\n",
    "    score_train = np.zeros([n_param,5])\n",
    "    score_test = np.zeros([n_param,5])\n",
    "    accuracy_0 = np.zeros([n_param,5])\n",
    "    accuracy_1 = np.zeros([n_param,5])\n",
    "    score_K = np.zeros([n_param,4])\n",
    "    kf = KFold(len(y_cv),5, shuffle=True)\n",
    "    \n",
    "    j=0 #index the jth fold\n",
    "\n",
    "    for train_idx, test_idx in kf:\n",
    "\n",
    "        # get training and testing sets \n",
    "        y_train, x_train = y_cv.ix[train_idx, ], x_cv.ix[train_idx, ]\n",
    "        y_test , x_test  = y_cv.ix[test_idx, ], x_cv.ix[test_idx, ]\n",
    "\n",
    "        # fit Lasso regression with varying lambda\n",
    "        for i in range(n_param):\n",
    "            if method == 'logreg':\n",
    "                model = LogisticRegression(C=10**param[i], class_weight='balanced', penalty='l1')\n",
    "            elif method == 'dt':\n",
    "                model = DecisionTree(max_depth=param[i], class_weight = \"balanced\")\n",
    "            elif method == 'rf':\n",
    "                model = RandomForest(max_depth=param[i], class_weight = 'balanced')\n",
    "            elif method =='linearsvc':\n",
    "                model = LinearSVC(C=10**param[i], penalty=\"l1\", dual=False, class_weight = 'balanced')\n",
    "          \n",
    "            model.fit(x_train, y_train)\n",
    "            score_train[i,j] = model.score(x_train, y_train)\n",
    "            score_test[i,j] = model.score(x_test, y_test)\n",
    "            accuracy_0[i,j] = model.score(x_test[y_test==0], y_test[y_test==0])\n",
    "            accuracy_1[i,j] = model.score(x_test[y_test==1], y_test[y_test==1])\n",
    "\n",
    "        # calculate r-squared mean across five fold for each lamda\n",
    "        for i in range(n_param):\n",
    "            score_K[i,0]=score_train[i,:].mean()\n",
    "            score_K[i,1]=score_test[i,:].mean()\n",
    "            score_K[i,2]=accuracy_0[i,:].mean()\n",
    "            score_K[i,3]=accuracy_1[i,:].mean()\n",
    "\n",
    "        j=j+1  \n",
    "        \n",
    "    plt.figure(figsize=(8,6))\n",
    "    plt.plot(param,score_K[:,0],'ro-', label ='train set')          \n",
    "    plt.plot(param,score_K[:,1],'bo-', label ='test set') \n",
    "    plt.plot(param,score_K[:,2],'rs-', label ='test set: Non-relapse') \n",
    "    plt.plot(param,score_K[:,3],'bs-', label ='test set: relapse')  \n",
    "    plt.legend(loc = 'best')         \n",
    "\n",
    "    plt.show()"
   ]
  },
  {
   "cell_type": "code",
   "execution_count": 25,
   "metadata": {
    "collapsed": true
   },
   "outputs": [],
   "source": [
    "x_train, x_test, y_train, y_test = train_test_split(data_dummy, y, test_size=0.6)"
   ]
  },
  {
   "cell_type": "code",
   "execution_count": 26,
   "metadata": {
    "collapsed": false,
    "scrolled": true
   },
   "outputs": [
    {
     "data": {
      "image/png": "[encoded data removed]",
      "text/plain": [
       "<matplotlib.figure.Figure at 0x11e510610>"
      ]
     },
     "metadata": {},
     "output_type": "display_data"
    }
   ],
   "source": [
    "cross_validation_weighted(x_train, y_train, range(1,50), 'dt')"
   ]
  },
  {
   "cell_type": "code",
   "execution_count": 27,
   "metadata": {
    "collapsed": false
   },
   "outputs": [
    {
     "data": {
      "image/png": "[encoded data removed]",
      "text/plain": [
       "<matplotlib.figure.Figure at 0x117eaa190>"
      ]
     },
     "metadata": {},
     "output_type": "display_data"
    }
   ],
   "source": [
    "cross_validation_weighted(x_train, y_train, range(1,50), 'rf')"
   ]
  },
  {
   "cell_type": "code",
   "execution_count": 28,
   "metadata": {
    "collapsed": false
   },
   "outputs": [
    {
     "data": {
      "image/png": "[encoded data removed]",
      "text/plain": [
       "<matplotlib.figure.Figure at 0x117ea1290>"
      ]
     },
     "metadata": {},
     "output_type": "display_data"
    }
   ],
   "source": [
    "cross_validation_weighted(x_train, y_train, range(-7,8), 'logreg')"
   ]
  },
  {
   "cell_type": "code",
   "execution_count": 32,
   "metadata": {
    "collapsed": false
   },
   "outputs": [
    {
     "data": {
      "image/png": "[encoded data removed]",
      "text/plain": [
       "<matplotlib.figure.Figure at 0x11f99d2d0>"
      ]
     },
     "metadata": {},
     "output_type": "display_data"
    }
   ],
   "source": [
    "cross_validation_weighted(x_train, y_train, range(-7,8), 'linearsvc')"
   ]
  },
  {
   "cell_type": "markdown",
   "metadata": {},
   "source": [
    "### 2.1.2 Compare different models"
   ]
  },
  {
   "cell_type": "code",
   "execution_count": 33,
   "metadata": {
    "collapsed": false
   },
   "outputs": [
    {
     "name": "stderr",
     "output_type": "stream",
     "text": [
      "/Users/Jessica/anaconda/lib/python2.7/site-packages/sklearn/discriminant_analysis.py:387: UserWarning: Variables are collinear.\n",
      "  warnings.warn(\"Variables are collinear.\")\n",
      "/Users/Jessica/anaconda/lib/python2.7/site-packages/sklearn/discriminant_analysis.py:688: UserWarning: Variables are collinear\n",
      "  warnings.warn(\"Variables are collinear\")\n"
     ]
    }
   ],
   "source": [
    "weighted={}\n",
    "for i in range(100):\n",
    "    x_train, x_test, y_train, y_test = train_test_split(data_dummy, y, test_size=0.6)\n",
    "    #Weighted logistic regression\n",
    "    weighted_logistic = LogisticRegression(class_weight='balanced', penalty = 'l1', C = 0.1)\n",
    "    weighted_logistic.fit(x_train, y_train)\n",
    "    weighted_log_scores = score(weighted_logistic, x_test, y_test)\n",
    "\n",
    "    #LDA\n",
    "    weighted_lda = LDA(priors = [0.5,0.5])\n",
    "    weighted_lda.fit(x_train, y_train)\n",
    "    weighted_lda_scores = score(weighted_lda, x_test, y_test)\n",
    "\n",
    "\n",
    "    #QDA\n",
    "    weighted_qda = QDA(priors = [0.5,0.5])\n",
    "    weighted_qda.fit(x_train, y_train)\n",
    "    weighted_qda_scores = score(weighted_qda, x_test, y_test)\n",
    "\n",
    "\n",
    "    #Decision Tree\n",
    "    weighted_tree = DecisionTree(class_weight = \"balanced\")\n",
    "    weighted_tree.fit(x_train, y_train)\n",
    "    weighted_tree_scores = score(weighted_tree, x_test, y_test)\n",
    "\n",
    "\n",
    "    #Random Forest\n",
    "    weighted_rf = RandomForest(class_weight = 'balanced')\n",
    "    weighted_rf.fit(x_train, y_train)\n",
    "    weighted_rf_scores = score(weighted_rf, x_test, y_test)\n",
    "\n",
    "\n",
    "\n",
    "    # linearsvm\n",
    "    weighted_linearsvm= LinearSVC(class_weight = 'balanced', C=0.01, penalty=\"l1\", dual=False)\n",
    "    weighted_linearsvm.fit(x_train, y_train)\n",
    "    weighted_linearsvm_scores = score(weighted_linearsvm, x_test, y_test)\n",
    "\n",
    "\n",
    "    weighted_score_df = pd.DataFrame({'weighted logistic': weighted_log_scores,\n",
    "                             'weighted lda': weighted_lda_scores,\n",
    "                             'weighted qda': weighted_qda_scores,\n",
    "                             'weighted tree': weighted_tree_scores,\n",
    "                             'weighted rf': weighted_rf_scores,\n",
    "                            'weighted linear svm': weighted_linearsvm_scores})\n",
    "    weighted[i] = weighted_score_df"
   ]
  },
  {
   "cell_type": "code",
   "execution_count": 34,
   "metadata": {
    "collapsed": false
   },
   "outputs": [],
   "source": [
    "weighted_1 = np.zeros((100,6))\n",
    "names = ['weighted logistic', 'weighted lda', 'weighted qda', 'weighted tree', \n",
    "         'weighted rf', 'weighted linear svm']\n",
    "weighted_1 = pd.DataFrame(weighted_1, columns = names)\n",
    "for i in range(100):\n",
    "    for j in names:\n",
    "        weighted_1[j][i]=weighted[i][j][2]\n",
    "        \n",
    "weighted_0 = np.zeros((100,6))\n",
    "names = ['weighted logistic', 'weighted lda', 'weighted qda', 'weighted tree', \n",
    "         'weighted rf', 'weighted linear svm']\n",
    "weighted_0 = pd.DataFrame(weighted_0, columns = names)\n",
    "for i in range(100):\n",
    "    for j in names:\n",
    "        weighted_0[j][i]=weighted[i][j][1]\n",
    "        \n",
    "weighted_all = np.zeros((100,6))\n",
    "names = ['weighted logistic', 'weighted lda', 'weighted qda', 'weighted tree', \n",
    "         'weighted rf', 'weighted linear svm']\n",
    "weighted_all = pd.DataFrame(weighted_all, columns = names)\n",
    "for i in range(100):\n",
    "    for j in names:\n",
    "        weighted_all[j][i]=weighted[i][j][0]\n"
   ]
  },
  {
   "cell_type": "code",
   "execution_count": 35,
   "metadata": {
    "collapsed": false
   },
   "outputs": [
    {
     "data": {
      "image/png": "[encoded data removed]",
      "text/plain": [
       "<matplotlib.figure.Figure at 0x11eb95e10>"
      ]
     },
     "metadata": {},
     "output_type": "display_data"
    }
   ],
   "source": [
    "# plot accuracy for each model\n",
    "fig, ax = plt.subplots(3, 6, figsize=(21, 9))  \n",
    "for i in range(6): \n",
    "    model = names[i]\n",
    "    \n",
    "    ax[0][i].hist(weighted_all[model], bins = np.linspace(0, 1, 15), alpha = 0.5)\n",
    "    ax[0][i].axvline(x = np.median(weighted_all[model]) , linewidth=3, color = 'red')\n",
    "    ax[0][i].set_title(model+' overall')\n",
    "    ax[0][i].set_ylim(0,100)\n",
    "    \n",
    "    ax[1][i].hist(weighted_0[model], bins = np.linspace(0, 1, 15), alpha = 0.5)\n",
    "    ax[1][i].axvline(x = np.median(weighted_0[model]) , linewidth=3, color = 'red')\n",
    "    ax[1][i].set_title(model+' class 0')\n",
    "    ax[1][i].set_ylim(0,100)\n",
    "    \n",
    "    ax[2][i].hist(weighted_1[model], bins = np.linspace(0, 1, 15), alpha = 0.5)\n",
    "    ax[2][i].axvline(x = np.median(weighted_1[model]) , linewidth=3, color = 'red')\n",
    "    ax[2][i].set_title(model+' class 1')\n",
    "    ax[2][i].set_ylim(0,100) "
   ]
  },
  {
   "cell_type": "markdown",
   "metadata": {},
   "source": [
    "## 2.2 Balanced Sample"
   ]
  },
  {
   "cell_type": "markdown",
   "metadata": {},
   "source": [
    "### 2.1.1 Cross-validation to select best hyperparameter"
   ]
  },
  {
   "cell_type": "code",
   "execution_count": 36,
   "metadata": {
    "collapsed": true
   },
   "outputs": [],
   "source": [
    "def cross_validation_balanced(x, y, param, method):\n",
    "    y_cv = y\n",
    "    x_cv = x\n",
    "    y_cv.index = range(len(y))\n",
    "    x_cv.index = range(len(y))\n",
    "    \n",
    "    n_param = len(param)\n",
    "    score_train = np.zeros([n_param,5])\n",
    "    score_test = np.zeros([n_param,5])\n",
    "    accuracy_0 = np.zeros([n_param,5])\n",
    "    accuracy_1 = np.zeros([n_param,5])\n",
    "    score_K = np.zeros([n_param,4])\n",
    "    kf = KFold(len(y_cv),5, shuffle=True)\n",
    "    \n",
    "    j=0 #index the jth fold\n",
    "\n",
    "    for train_idx, test_idx in kf:\n",
    "        \n",
    "\n",
    "        # get training and testing sets \n",
    "        y_train, x_train = y_cv.ix[train_idx, ], x_cv.ix[train_idx, ]\n",
    "        y_test , x_test  = y_cv.ix[test_idx, ], x_cv.ix[test_idx, ]\n",
    "        ind0 = np.random.choice(y_train[y_train==0].index, 300, replace=True)\n",
    "        ind1 = np.random.choice(y_train[y_train==1].index, 300, replace=True)\n",
    "        x_frames = [x_train.ix[ind0,], x_train.ix[ind1, ]]\n",
    "        x_train_sub = pd.concat(x_frames, axis = 0)\n",
    "        y_frames = [y_train[ind0], y_train[ind1]]\n",
    "        y_train_sub = pd.concat(y_frames, axis = 0)\n",
    "\n",
    "        # fit Lasso regression with varying lambda\n",
    "        for i in range(n_param):\n",
    "            if method == 'logreg':\n",
    "                model = LogisticRegression(C=10**param[i], penalty='l1')\n",
    "            elif method == 'dt':\n",
    "                model = DecisionTree(max_depth=param[i])\n",
    "            elif method == 'rf':\n",
    "                model = RandomForest(max_depth=param[i])\n",
    "            elif method =='linearsvc':\n",
    "                model = LinearSVC(C=10**param[i], penalty=\"l1\", dual=False)\n",
    "          \n",
    "            model.fit(x_train_sub, y_train_sub)\n",
    "            score_train[i,j] = model.score(x_train_sub, y_train_sub)\n",
    "            score_test[i,j] = model.score(x_test, y_test)\n",
    "            accuracy_0[i,j] = model.score(x_test[y_test==0], y_test[y_test==0])\n",
    "            accuracy_1[i,j] = model.score(x_test[y_test==1], y_test[y_test==1])\n",
    "\n",
    "        # calculate r-squared mean across five fold for each lamda\n",
    "        for i in range(n_param):\n",
    "            score_K[i,0]=score_train[i,:].mean()\n",
    "            score_K[i,1]=score_test[i,:].mean()\n",
    "            score_K[i,2]=accuracy_0[i,:].mean()\n",
    "            score_K[i,3]=accuracy_1[i,:].mean()\n",
    "\n",
    "        j=j+1  \n",
    "        \n",
    "    plt.figure(figsize=(8,6))\n",
    "    plt.plot(param,score_K[:,0],'ro-', label ='train set')          \n",
    "    plt.plot(param,score_K[:,1],'bo-', label ='test set') \n",
    "    plt.plot(param,score_K[:,2],'rs-', label ='test set: Non-relapse') \n",
    "    plt.plot(param,score_K[:,3],'bs-', label ='test set: relapse')  \n",
    "    plt.legend(loc = 'best')         \n",
    "\n",
    "    plt.show()"
   ]
  },
  {
   "cell_type": "code",
   "execution_count": 37,
   "metadata": {
    "collapsed": false
   },
   "outputs": [
    {
     "data": {
      "image/png": "[encoded data removed]",
      "text/plain": [
       "<matplotlib.figure.Figure at 0x11fe8c350>"
      ]
     },
     "metadata": {},
     "output_type": "display_data"
    }
   ],
   "source": [
    "cross_validation_balanced(x_train, y_train, range(1,50), 'dt')"
   ]
  },
  {
   "cell_type": "code",
   "execution_count": 38,
   "metadata": {
    "collapsed": false
   },
   "outputs": [
    {
     "data": {
      "image/png": "[encoded data removed]",
      "text/plain": [
       "<matplotlib.figure.Figure at 0x11f98e650>"
      ]
     },
     "metadata": {},
     "output_type": "display_data"
    }
   ],
   "source": [
    "cross_validation_balanced(x_train, y_train, range(1,50), 'rf')"
   ]
  },
  {
   "cell_type": "code",
   "execution_count": 39,
   "metadata": {
    "collapsed": false
   },
   "outputs": [
    {
     "data": {
      "image/png": "[encoded data removed]",
      "text/plain": [
       "<matplotlib.figure.Figure at 0x1209e9550>"
      ]
     },
     "metadata": {},
     "output_type": "display_data"
    }
   ],
   "source": [
    "cross_validation_balanced(x_train, y_train, range(-7,8), 'logreg')"
   ]
  },
  {
   "cell_type": "code",
   "execution_count": 40,
   "metadata": {
    "collapsed": false
   },
   "outputs": [
    {
     "data": {
      "image/png": "[encoded data removed]",
      "text/plain": [
       "<matplotlib.figure.Figure at 0x12433c950>"
      ]
     },
     "metadata": {},
     "output_type": "display_data"
    }
   ],
   "source": [
    "cross_validation_balanced(x_train, y_train, range(-7,8), 'linearsvc')"
   ]
  },
  {
   "cell_type": "markdown",
   "metadata": {},
   "source": [
    "### 2.2.2 Compare different models"
   ]
  },
  {
   "cell_type": "code",
   "execution_count": 181,
   "metadata": {
    "collapsed": false
   },
   "outputs": [
    {
     "name": "stdout",
     "output_type": "stream",
     "text": [
      "0\n",
      "10\n",
      "20\n",
      "30\n",
      "40\n",
      "50\n",
      "60\n",
      "70\n",
      "80\n",
      "90\n"
     ]
    }
   ],
   "source": [
    "balanced={}\n",
    "for i in range(100):\n",
    "    x_train, x_test, y_train, y_test = train_test_split(data_dummy, y, test_size=0.6)\n",
    "    \n",
    "    n=500\n",
    "    ind0 = np.random.choice(y_train[y_train==0].index, n, replace=True)\n",
    "    ind1 = np.random.choice(y_train[y_train==1].index, n, replace=True)\n",
    "    x_frames = [x_train.ix[ind0,], x_train.ix[ind1, ]]\n",
    "    x_train_sub = pd.concat(x_frames, axis = 0)\n",
    "    y_frames = [y_train[ind0], y_train[ind1]]\n",
    "    y_train_sub = pd.concat(y_frames, axis = 0)\n",
    "    \n",
    "    #balanced logistic regression\n",
    "    balanced_logistic = LogisticRegression(penalty = 'l1', C = 0.1)\n",
    "    balanced_logistic.fit(x_train_sub, y_train_sub)\n",
    "    balanced_log_scores = score(balanced_logistic, x_test, y_test)\n",
    "\n",
    "    #LDA\n",
    "    balanced_lda = LDA()\n",
    "    balanced_lda.fit(x_train_sub, y_train_sub)\n",
    "    balanced_lda_scores = score(balanced_lda, x_test, y_test)\n",
    "\n",
    "\n",
    "    #QDA\n",
    "    balanced_qda = QDA()\n",
    "    balanced_qda.fit(x_train_sub, y_train_sub)\n",
    "    balanced_qda_scores = score(balanced_qda, x_test, y_test)\n",
    "\n",
    "\n",
    "    #Decision Tree\n",
    "    balanced_tree = DecisionTree()\n",
    "    balanced_tree.fit(x_train_sub, y_train_sub)\n",
    "    balanced_tree_scores = score(balanced_tree, x_test, y_test)\n",
    "\n",
    "\n",
    "    #Random Forest\n",
    "    balanced_rf = RandomForest()\n",
    "    balanced_rf.fit(x_train_sub, y_train_sub)\n",
    "    balanced_rf_scores = score(balanced_rf, x_test, y_test)\n",
    "\n",
    "\n",
    "\n",
    "    # linearsvm\n",
    "    balanced_linearsvm= LinearSVC(C=0.01, penalty=\"l1\", dual=False)\n",
    "    balanced_linearsvm.fit(x_train_sub, y_train_sub)\n",
    "    balanced_linearsvm_scores = score(balanced_linearsvm, x_test, y_test)\n",
    "\n",
    "\n",
    "    balanced_score_df = pd.DataFrame({'balanced logistic': balanced_log_scores,\n",
    "                             'balanced lda': balanced_lda_scores,\n",
    "                             'balanced qda': balanced_qda_scores,\n",
    "                             'balanced tree': balanced_tree_scores,\n",
    "                             'balanced rf': balanced_rf_scores,\n",
    "                            'balanced linear svm': balanced_linearsvm_scores})\n",
    "    balanced[i] = balanced_score_df\n",
    "    if i%10==0: print(i)"
   ]
  },
  {
   "cell_type": "code",
   "execution_count": 42,
   "metadata": {
    "collapsed": false
   },
   "outputs": [],
   "source": [
    "balanced_1 = np.zeros((100,6))\n",
    "names = ['balanced logistic', 'balanced lda', 'balanced qda', 'balanced tree', \n",
    "         'balanced rf', 'balanced linear svm']\n",
    "balanced_1 = pd.DataFrame(balanced_1, columns = names)\n",
    "for i in range(100):\n",
    "    for j in names:\n",
    "        balanced_1[j][i]=balanced[i][j][2]\n",
    "        \n",
    "balanced_0 = np.zeros((100,6))\n",
    "names = ['balanced logistic', 'balanced lda', 'balanced qda', 'balanced tree', \n",
    "         'balanced rf', 'balanced linear svm']\n",
    "balanced_0 = pd.DataFrame(balanced_0, columns = names)\n",
    "for i in range(100):\n",
    "    for j in names:\n",
    "        balanced_0[j][i]=balanced[i][j][1]\n",
    "        \n",
    "balanced_all = np.zeros((100,6))\n",
    "names = ['balanced logistic', 'balanced lda', 'balanced qda', 'balanced tree', \n",
    "         'balanced rf', 'balanced linear svm']\n",
    "balanced_all = pd.DataFrame(balanced_all, columns = names)\n",
    "for i in range(100):\n",
    "    for j in names:\n",
    "        balanced_all[j][i]=balanced[i][j][0]"
   ]
  },
  {
   "cell_type": "code",
   "execution_count": 43,
   "metadata": {
    "collapsed": false
   },
   "outputs": [
    {
     "data": {
      "image/png": "[encoded data removed]",
      "text/plain": [
       "<matplotlib.figure.Figure at 0x1242b9250>"
      ]
     },
     "metadata": {},
     "output_type": "display_data"
    }
   ],
   "source": [
    "# plot accuracy for each model\n",
    "fig, ax = plt.subplots(3, 6, figsize=(21, 9))  \n",
    "for i in range(6): \n",
    "    model = names[i]\n",
    "    \n",
    "    ax[0][i].hist(balanced_all[model], bins = np.linspace(0, 1, 15), alpha = 0.5)\n",
    "    ax[0][i].axvline(x = np.median(balanced_all[model]) , linewidth=3, color = 'red')\n",
    "    ax[0][i].set_title(model+' overall')\n",
    "    ax[0][i].set_ylim(0,100)\n",
    "    \n",
    "    ax[1][i].hist(balanced_0[model], bins = np.linspace(0, 1, 15), alpha = 0.5)\n",
    "    ax[1][i].axvline(x = np.median(balanced_0[model]) , linewidth=3, color = 'red')\n",
    "    ax[1][i].set_title(model+' class 0')\n",
    "    ax[1][i].set_ylim(0,100)\n",
    "    \n",
    "    ax[2][i].hist(balanced_1[model], bins = np.linspace(0, 1, 15), alpha = 0.5)\n",
    "    ax[2][i].axvline(x = np.median(balanced_1[model]) , linewidth=3, color = 'red')\n",
    "    ax[2][i].set_title(model+' class 1')\n",
    "    ax[2][i].set_ylim(0,100) "
   ]
  },
  {
   "cell_type": "markdown",
   "metadata": {},
   "source": [
    "## 2.3 Model Comparison"
   ]
  },
  {
   "cell_type": "markdown",
   "metadata": {},
   "source": [
    "# 3 Final Model"
   ]
  },
  {
   "cell_type": "code",
   "execution_count": 44,
   "metadata": {
    "collapsed": true
   },
   "outputs": [],
   "source": [
    "x_train, x_test, y_train, y_test = train_test_split(data_dummy, y, test_size=0.6)"
   ]
  },
  {
   "cell_type": "code",
   "execution_count": 45,
   "metadata": {
    "collapsed": false
   },
   "outputs": [
    {
     "data": {
      "text/plain": [
       "overall accuracy       0.534091\n",
       "accuracy on class 0    0.389610\n",
       "accuracy on class 1    0.967532\n",
       "dtype: float64"
      ]
     },
     "execution_count": 45,
     "metadata": {},
     "output_type": "execute_result"
    }
   ],
   "source": [
    "weighted_linearsvm= LinearSVC(class_weight = 'balanced', C=0.01, penalty=\"l1\", dual=False)\n",
    "weighted_linearsvm.fit(x_train, y_train)\n",
    "weighted_linearsvm_scores = score(weighted_linearsvm, x_test, y_test)\n",
    "weighted_linearsvm_scores"
   ]
  },
  {
   "cell_type": "code",
   "execution_count": 46,
   "metadata": {
    "collapsed": false
   },
   "outputs": [
    {
     "data": {
      "text/plain": [
       "overall accuracy       0.535714\n",
       "accuracy on class 0    0.391775\n",
       "accuracy on class 1    0.967532\n",
       "dtype: float64"
      ]
     },
     "execution_count": 46,
     "metadata": {},
     "output_type": "execute_result"
    }
   ],
   "source": [
    "weighted_logistic = LogisticRegression(class_weight='balanced', penalty = 'l1', C = 0.1)\n",
    "weighted_logistic.fit(x_train, y_train)\n",
    "weighted_log_scores = score(weighted_logistic, x_test, y_test)\n",
    "weighted_log_scores"
   ]
  },
  {
   "cell_type": "markdown",
   "metadata": {},
   "source": [
    "# 4 Plot"
   ]
  },
  {
   "cell_type": "code",
   "execution_count": 47,
   "metadata": {
    "collapsed": true
   },
   "outputs": [],
   "source": [
    "# A function to find feature name\n",
    "def find_feature(position, index, features):\n",
    "    n = len(features)\n",
    "    for i in range(n-1):\n",
    "        if position in range(index[i],index[i+1]):\n",
    "            break\n",
    "    return features[i]\n",
    "    "
   ]
  },
  {
   "cell_type": "code",
   "execution_count": 48,
   "metadata": {
    "collapsed": false
   },
   "outputs": [
    {
     "data": {
      "text/plain": [
       "'n0region'"
      ]
     },
     "execution_count": 48,
     "metadata": {},
     "output_type": "execute_result"
    }
   ],
   "source": [
    "index = [0]\n",
    "i = 0\n",
    "for col in data.columns:\n",
    "    x = np.unique(data[col])\n",
    "    if len(x)<=20:\n",
    "        i = i+len(x)\n",
    "    else:\n",
    "        i = i+1\n",
    "    index = index + [i]\n",
    "    \n",
    "features = list(data.columns)\n",
    "\n",
    "find_feature(3, index, features)"
   ]
  },
  {
   "cell_type": "markdown",
   "metadata": {},
   "source": [
    "Non-relapse and relapse accuracies are based on the *whole* dataset -- It is basically a misclassification rate. To calculate the prediction we use a majority vote based on `n_iter = 10`, just like we did in previous homework. For the case of decision tree and random forest, we also calculate the optimal depth."
   ]
  },
  {
   "cell_type": "markdown",
   "metadata": {},
   "source": [
    "## optimize decision tree method"
   ]
  },
  {
   "cell_type": "code",
   "execution_count": 146,
   "metadata": {
    "collapsed": true
   },
   "outputs": [],
   "source": [
    "x_train, x_test, y_train, y_test = train_test_split(data_dummy, y, train_size=0.7)\n",
    "\n",
    "n=500\n",
    "ind0 = np.random.choice(y_train[y_train==0].index, n, replace=True)\n",
    "ind1 = np.random.choice(y_train[y_train==1].index, n, replace=True)\n",
    "x_frames = [x_train.ix[ind0,], x_train.ix[ind1, ]]\n",
    "x_train_sub = pd.concat(x_frames, axis = 0)\n",
    "y_frames = [y_train[ind0], y_train[ind1]]\n",
    "y_train_sub = pd.concat(y_frames, axis = 0)"
   ]
  },
  {
   "cell_type": "code",
   "execution_count": 147,
   "metadata": {
    "collapsed": false
   },
   "outputs": [],
   "source": [
    "from sklearn.feature_selection import SelectFromModel\n",
    "from sklearn.svm import LinearSVC\n",
    "\n",
    "pred_matrix = np.zeros((len(y_test),100))\n",
    "importance_matrix = np.zeros((768, 100))\n",
    "for i in range(100):\n",
    "    weighted_logistic.fit(x_train, y_train)\n",
    "    model = SelectFromModel(weighted_logistic, prefit=True)\n",
    "    #x_train_sub_new = model.transform(x_train_sub)\n",
    "    #print x_train_sub_new.shape\n",
    "    \n",
    "    pred_matrix[:,i] = weighted_logistic.predict(x_test)\n",
    "    importance_matrix[:,i] = abs(weighted_logistic.coef_)\n",
    "    #print importance_matrix[:, i]"
   ]
  },
  {
   "cell_type": "code",
   "execution_count": 148,
   "metadata": {
    "collapsed": false
   },
   "outputs": [],
   "source": [
    "# pred_matrix = np.zeros((len(y_test),100))\n",
    "# importance_matrix = np.zeros((768, 100))\n",
    "# for i in range(100):\n",
    "#     weighted_tree.fit(x_train_sub, y_train_sub)\n",
    "#     pred_matrix[:,i] = weighted_tree.predict(x_test)\n",
    "#     importance_matrix[:,i] = weighted_tree.feature_importances_\n",
    "#     #importance_matrix[:,i] = dt.transform(x_test)\n",
    "#     print importance_matrix[:, i]"
   ]
  },
  {
   "cell_type": "code",
   "execution_count": 149,
   "metadata": {
    "collapsed": false
   },
   "outputs": [
    {
     "name": "stdout",
     "output_type": "stream",
     "text": [
      "accuracy of non-relapse:\n",
      "0.437768240343\n",
      "accuracy of relapse:\n",
      "0.92\n"
     ]
    }
   ],
   "source": [
    "results = pred_matrix.mean(axis =1)\n",
    "results[results > 0.5 ]=1\n",
    "results[results < 0.5 ]=0\n",
    "results[results ==0.5] = np.random.choice([0,1])\n",
    "print('accuracy of non-relapse:')\n",
    "print np.mean((results == y_test)[y_test ==0])\n",
    "print('accuracy of relapse:')\n",
    "print np.mean((results == y_test)[y_test ==1])"
   ]
  },
  {
   "cell_type": "markdown",
   "metadata": {},
   "source": [
    "## get important features"
   ]
  },
  {
   "cell_type": "code",
   "execution_count": 150,
   "metadata": {
    "collapsed": false
   },
   "outputs": [
    {
     "name": "stdout",
     "output_type": "stream",
     "text": [
      "['n2531', 'n2631', 'n2522', 'n2624', 'n2522', 'n450', 'n504', 'n2631', 'n183', 'n2452', 'n522', 'n509', 'n1004', 'n1454', 'n2504', 'n519', 'n526', 'n1212', 'n2560', 'n646']\n",
      "[  1.43509062e+00   4.36880277e-01   3.79764857e-01   2.63331684e-01\n",
      "   2.14603640e-01   1.96258201e-01   1.38974277e-01   1.11488386e-01\n",
      "   7.55569295e-02   6.96739666e-02   6.51936268e-02   3.65268801e-02\n",
      "   3.17228708e-02   3.06427369e-02   3.00051271e-02   2.99178217e-02\n",
      "   2.63020692e-02   4.91999257e-03   4.63253087e-03   1.13910180e-03]\n"
     ]
    }
   ],
   "source": [
    "importance = importance_matrix.mean(axis =1)\n",
    "indices = np.argsort(importance)[::-1][0:20]\n",
    "\n",
    "namelist = []\n",
    "for ind in indices:\n",
    "    name = find_feature(ind, index, features)\n",
    "    namelist.append(name)\n",
    "print namelist\n",
    "print importance[indices]"
   ]
  },
  {
   "cell_type": "code",
   "execution_count": 151,
   "metadata": {
    "collapsed": false
   },
   "outputs": [],
   "source": [
    "# import plotly.plotly as py\n",
    "# import plotly.graph_objs as go\n",
    "\n",
    "# # non-relapse accuracy\n",
    "# trace0 = go.Bar(\n",
    "#     x=['LogReg', 'LDA', 'QDA', 'DT', 'RF', 'SVC linear','SVC quadratic'],\n",
    "#     y=[float(logreg_cm[0, 0]) / logreg_cm[0].sum(), float(lda_cm[0, 0]) / lda_cm[0].sum(),\n",
    "#       float(qda_cm[0, 0]) / qda_cm[0].sum(), float(dt_cm[0, 0]) / dt_cm[0].sum(),\n",
    "#       float(rf_cm[0, 0]) / rf_cm[0].sum(), float(svc_linear_cm[0, 0]) / svc_linear_cm[0].sum(),\n",
    "#       float(svc_quad_cm[0, 0]) / svc_quad_cm[0].sum()],\n",
    "#     name='Non-replase Accuracies',\n",
    "#     marker=dict(\n",
    "#         color='rgb(49,130,189)'\n",
    "#     )\n",
    "# )\n",
    "# # replase accuracy\n",
    "# trace1 = go.Bar(\n",
    "#     x=['LogReg', 'LDA', 'QDA', 'DT', 'RF', 'SVC linear','SVC quadratic'],\n",
    "#     y=[float(logreg_cm[1, 1]) / logreg_cm[1].sum(), float(lda_cm[1, 1]) / lda_cm[1].sum(),\n",
    "#       float(qda_cm[1, 1]) / qda_cm[1].sum(), float(dt_cm[1, 1]) / dt_cm[1].sum(),\n",
    "#       float(rf_cm[1, 1]) / rf_cm[1].sum(), float(svc_linear_cm[1, 1]) / svc_linear_cm[1].sum(),\n",
    "#       float(svc_quad_cm[1, 1]) / svc_quad_cm[1].sum()],\n",
    "#     name='Replase Accuracies',\n",
    "#     marker=dict(\n",
    "#         color='rgb(204,204,204)',\n",
    "#     )\n",
    "# )\n",
    "\n",
    "# data1 = [trace0, trace1]\n",
    "# layout = go.Layout(\n",
    "#     xaxis=dict(tickangle=-45),\n",
    "#     barmode='group',\n",
    "# )\n",
    "\n",
    "# fig = go.Figure(data=data1, layout=layout)\n",
    "# py.iplot(fig, filename='angled-text-bar')"
   ]
  },
  {
   "cell_type": "code",
   "execution_count": 152,
   "metadata": {
    "collapsed": false
   },
   "outputs": [
    {
     "name": "stdout",
     "output_type": "stream",
     "text": [
      "Feature ranking:\n",
      "1. feature 710 (1.435091)\n",
      "2. feature 734 (0.436880)\n",
      "3. feature 702 (0.379765)\n",
      "4. feature 726 (0.263332)\n",
      "5. feature 704 (0.214604)\n",
      "6. feature 410 (0.196258)\n",
      "7. feature 118 (0.138974)\n",
      "8. feature 733 (0.111488)\n",
      "9. feature 312 (0.075557)\n",
      "10. feature 683 (0.069674)\n",
      "11. feature 163 (0.065194)\n",
      "12. feature 280 (0.036527)\n",
      "13. feature 601 (0.031723)\n",
      "14. feature 485 (0.030643)\n",
      "15. feature 695 (0.030005)\n",
      "16. feature 161 (0.029918)\n",
      "17. feature 68 (0.026302)\n",
      "18. feature 511 (0.004920)\n",
      "19. feature 715 (0.004633)\n",
      "20. feature 248 (0.001139)\n"
     ]
    },
    {
     "data": {
      "image/png": "[encoded data removed]",
      "text/plain": [
       "<matplotlib.figure.Figure at 0x12b07d6d0>"
      ]
     },
     "metadata": {},
     "output_type": "display_data"
    }
   ],
   "source": [
    "# Compute the feature importances for decision tree\n",
    "# Print the feature ranking\n",
    "print(\"Feature ranking:\")\n",
    "\n",
    "#for f in range(x_train.shape[1]):\n",
    "for f in range(20):\n",
    "    print(\"%d. feature %d (%f)\" % (f + 1, indices[f], importance[indices[f]]))\n",
    "\n",
    "# Plot the feature importances of the forest\n",
    "plt.figure(figsize = (10,5))\n",
    "plt.title(\"Feature importances\")\n",
    "\n",
    "#Bar plot of the frequencies of the top words\n",
    "plt.bar(range(20), importance[indices], color='red', alpha=0.5)\n",
    "\n",
    "#Label the bars with the top words\n",
    "plt.xticks(range(20), indices)\n",
    "plt.show()"
   ]
  },
  {
   "cell_type": "code",
   "execution_count": null,
   "metadata": {
    "collapsed": false
   },
   "outputs": [],
   "source": [
    "import plotly\n",
    "plotly.tools.set_credentials_file(username='xinruicao', api_key='GBPqjuPjh3Gwc6Q3L9Te')"
   ]
  },
  {
   "cell_type": "code",
   "execution_count": 177,
   "metadata": {
    "collapsed": false
   },
   "outputs": [
    {
     "name": "stdout",
     "output_type": "stream",
     "text": [
      "High five! You successfuly sent some data to your account on plotly. View your plot in your browser at https://plot.ly/~xinruicao/0 or inside your plot.ly account where it is named 'bar plot'\n"
     ]
    },
    {
     "data": {
      "text/html": [
       "<iframe id=\"igraph\" scrolling=\"no\" style=\"border:none;\" seamless=\"seamless\" src=\"https://plot.ly/~xinruicao/0.embed\" height=\"525px\" width=\"100%\"></iframe>"
      ],
      "text/plain": [
       "<plotly.tools.PlotlyDisplay object>"
      ]
     },
     "execution_count": 177,
     "metadata": {},
     "output_type": "execute_result"
    }
   ],
   "source": [
    "import plotly.plotly as py\n",
    "import plotly.graph_objs as go\n",
    "\n",
    "#  'n2531', 3P Fearful of new situations or things\n",
    "#  'n2631', 3P Seen specialist-emotional prob-MC 1:4\n",
    "#  'n2522', 3P Often worries about things\n",
    "#  'n2624', 3P Any migraine,headaches in past year\n",
    "#  'n2522', 3P Often worries about things\n",
    "#  'n450', 1S BSAG- Inconsequential behaviour\n",
    "#  'n504', Parity\n",
    "#  'n2631', 3P Seen specialist-emotional prob-MC 1:4\n",
    "#  'n183', Illness noted in PMS-MC 1:3\n",
    "#  'n2452', 3P Source of income past year-MC 1:10\n",
    "#  'n522', Abnormality during pregnancy\n",
    "#  'n509', Past complications of pregnancy, etc\n",
    "#  'n1004', 2S Tot score-BSAG Miscellaneous Symptoms\n",
    "#  'n1454', 2P Is child irritable,quick tempered\n",
    "#  'n2504', 3P Temper tantrums in past 12m\n",
    "#  'n519', Mums min. haemoglobin while pregnant\n",
    "#  'n526', Mothers fathers social class (GRO 1951)\n",
    "#  'n1212', 2P Has mum had paid work since 1965\n",
    "#  'n2560', 3P Illnesses in past 12 mths-MC 1:6\n",
    "#  'n646', Birthweight (ounces) or estimate\n",
    "\n",
    "y_short = ['Fearful of new','emotional prob1', 'Often worried1',\n",
    "    'headache past yr', 'Often worried2', 'Inconsequential behave',\n",
    "    'Parity', 'emotional prob2', 'Illness',\n",
    "    'Source income', 'Abnormal pregnancy', 'complication pregnancy', 'Miscellaneous symptom',\n",
    "    'Irritable', 'Temper past yr',  \n",
    "    'Min haemoglobin pregnancy', 'Parents social class', 'Mom work',\n",
    "    'Illnesses past yr', 'Birthweight']\n",
    "\n",
    "trace0 = go.Bar(\n",
    "    y= y_short,\n",
    "    x= list(importance[indices]),\n",
    "    text=list(namelist),\n",
    "    marker=dict(\n",
    "        color='rgb(400,202,225)',\n",
    "        line=dict(\n",
    "            color='rgb(8,48,107)',\n",
    "            width=1.0,\n",
    "        )\n",
    "    ),\n",
    "    orientation = 'h',\n",
    "    hoverinfo ='x+y',\n",
    "    opacity=0.8\n",
    ")\n",
    "\n",
    "data1 = [trace0]\n",
    "layout = go.Layout(\n",
    "    title='Feature importances',\n",
    "    yaxis=dict(\n",
    "        showgrid=True,\n",
    "        gridcolor='#bdbdbd',\n",
    "        gridwidth=2,     \n",
    "        showticklabels=True,\n",
    "        tickangle=45,\n",
    "        tickfont=dict(\n",
    "            family='Old Standard TT, serif',\n",
    "            size=10,\n",
    "            color='black'\n",
    "        )\n",
    "    )\n",
    ")\n",
    "\n",
    "fig = go.Figure(data=data1, layout=layout)\n",
    "py.iplot(fig, filename='bar plot')"
   ]
  },
  {
   "cell_type": "code",
   "execution_count": 156,
   "metadata": {
    "collapsed": false
   },
   "outputs": [],
   "source": [
    "# # Pie chart on varialbe 'n2030'\n",
    "# haematological = list(data['n2030'])\n",
    "# print len(haematological)\n",
    "# print len(y)\n",
    "\n",
    "# d = {'Haematological': haematological, 'y': y}\n",
    "# demo_haematological = pd.DataFrame(data=d)\n",
    "# demo_haematological.head()"
   ]
  },
  {
   "cell_type": "code",
   "execution_count": 157,
   "metadata": {
    "collapsed": false
   },
   "outputs": [],
   "source": [
    "# demo_haematological0 = demo_haematological.query('y == 0')\n",
    "# demo_haematological1 = demo_haematological.query('y == 1')\n",
    "# total_y0 = len(demo_haematological0)\n",
    "# total_y1 = len(demo_haematological1)\n",
    "# print total_y0, total_y1"
   ]
  },
  {
   "cell_type": "code",
   "execution_count": 158,
   "metadata": {
    "collapsed": true
   },
   "outputs": [],
   "source": [
    "# y0 = np.zeros(shape = (8,1))\n",
    "# y1 = np.zeros(shape = (8,1))\n",
    "\n",
    "# for i in range(1,8):\n",
    "#     y0[i-1] = float(sum(demo_haematological0['Haematological']==i)/float(total_y0))\n",
    "#     y1[i-1] = float(sum(demo_haematological1['Haematological']==i)/float(total_y1))\n",
    "    \n",
    "# y0[7] = float(sum(demo_haematological0['Haematological']==-1)/float(total_y0))\n",
    "# y1[7] = float(sum(demo_haematological1['Haematological']==-1)/float(total_y1))"
   ]
  },
  {
   "cell_type": "code",
   "execution_count": 159,
   "metadata": {
    "collapsed": false
   },
   "outputs": [],
   "source": [
    "# # Pie chart variable 'n2030', Variable label = 3M Haematological abnormality\n",
    "# fig = {\n",
    "#     'data': [\n",
    "#         {\n",
    "#             'labels': ['No abnormality', 'Cond uncertain', 'Cond,no handcp', 'Slight handicap',\n",
    "#                         'Moderate handicp', 'Severe handicap', 'Cond,DK degree', 'NA'],\n",
    "#             'values': y0,\n",
    "#             'type': 'pie',\n",
    "#             'name': 'no relapse',\n",
    "#              'domain': {'x': [0, .48],\n",
    "#                        'y': [0, .49]},\n",
    "#             'hoverinfo':'label+percent+name'\n",
    "#         },\n",
    "#         {\n",
    "#             'labels': ['No abnormality', 'Cond uncertain', 'Cond,no handcp', 'Slight handicap',\n",
    "#                         'Moderate handicp', 'Severe handicap', 'Cond,DK degree', 'NA'],\n",
    "#             'values': y1,\n",
    "#             'type': 'pie',\n",
    "#             'name':'relapse',\n",
    "#             'domain': {'x': [.52, 1],\n",
    "#                        'y': [0, .49]},\n",
    "#             'hoverinfo':'label+percent+name'\n",
    "#         }],\n",
    "#     'layout': {'title': 'Category proportions of Haematological abnormality by relapse status'}\n",
    "#      }\n",
    "\n",
    "# py.iplot(fig)"
   ]
  },
  {
   "cell_type": "code",
   "execution_count": 172,
   "metadata": {
    "collapsed": false
   },
   "outputs": [
    {
     "name": "stdout",
     "output_type": "stream",
     "text": [
      "1026\n",
      "1026\n"
     ]
    },
    {
     "data": {
      "text/html": [
       "<div>\n",
       "<table border=\"1\" class=\"dataframe\">\n",
       "  <thead>\n",
       "    <tr style=\"text-align: right;\">\n",
       "      <th></th>\n",
       "      <th>fearful</th>\n",
       "      <th>y</th>\n",
       "    </tr>\n",
       "  </thead>\n",
       "  <tbody>\n",
       "    <tr>\n",
       "      <th>7</th>\n",
       "      <td>1</td>\n",
       "      <td>0</td>\n",
       "    </tr>\n",
       "    <tr>\n",
       "      <th>25</th>\n",
       "      <td>2</td>\n",
       "      <td>0</td>\n",
       "    </tr>\n",
       "    <tr>\n",
       "      <th>34</th>\n",
       "      <td>1</td>\n",
       "      <td>0</td>\n",
       "    </tr>\n",
       "    <tr>\n",
       "      <th>56</th>\n",
       "      <td>-1</td>\n",
       "      <td>0</td>\n",
       "    </tr>\n",
       "    <tr>\n",
       "      <th>61</th>\n",
       "      <td>-1</td>\n",
       "      <td>0</td>\n",
       "    </tr>\n",
       "  </tbody>\n",
       "</table>\n",
       "</div>"
      ],
      "text/plain": [
       "    fearful  y\n",
       "7         1  0\n",
       "25        2  0\n",
       "34        1  0\n",
       "56       -1  0\n",
       "61       -1  0"
      ]
     },
     "execution_count": 172,
     "metadata": {},
     "output_type": "execute_result"
    }
   ],
   "source": [
    "# Pie chart on varialbe 'n2030'\n",
    "fearful = list(data['n2531'])\n",
    "print len(fearful)\n",
    "y = np.zeros(len(UKDA16))\n",
    "y = pd.DataFrame(y, index = UKDA16.index)\n",
    "y[s1s2&s3] = 1\n",
    "y = y[s1s2]\n",
    "y = y.astype(int)\n",
    "y = y[0]\n",
    "print len(y)\n",
    "\n",
    "d = {'fearful': fearful, 'y': y}\n",
    "demo_fearful = pd.DataFrame(data=d)\n",
    "demo_fearful.head()"
   ]
  },
  {
   "cell_type": "code",
   "execution_count": 173,
   "metadata": {
    "collapsed": false
   },
   "outputs": [
    {
     "name": "stdout",
     "output_type": "stream",
     "text": [
      "776 250\n"
     ]
    }
   ],
   "source": [
    "demo_fearful0 = demo_fearful.query('y == 0')\n",
    "demo_fearful1 = demo_fearful.query('y == 1')\n",
    "total_y0 = len(demo_fearful0)\n",
    "total_y1 = len(demo_fearful1)\n",
    "print total_y0, total_y1\n"
   ]
  },
  {
   "cell_type": "code",
   "execution_count": 174,
   "metadata": {
    "collapsed": true
   },
   "outputs": [],
   "source": [
    "y0 = np.zeros(shape = (4,1))\n",
    "y1 = np.zeros(shape = (4,1))\n",
    "\n",
    "for i in range(1,4):\n",
    "    y0[i-1] = float(sum(demo_fearful0['fearful']==i)/float(total_y0))\n",
    "    y1[i-1] = float(sum(demo_fearful1['fearful']==i)/float(total_y1))\n",
    "    \n",
    "y0[3] = float(sum(demo_fearful0['fearful']==-1)/float(total_y0))\n",
    "y1[3] = float(sum(demo_fearful1['fearful']==-1)/float(total_y1))"
   ]
  },
  {
   "cell_type": "code",
   "execution_count": 175,
   "metadata": {
    "collapsed": false
   },
   "outputs": [
    {
     "data": {
      "text/html": [
       "<iframe id=\"igraph\" scrolling=\"no\" style=\"border:none;\" seamless=\"seamless\" src=\"https://plot.ly/~xinruicao/28.embed\" height=\"525px\" width=\"100%\"></iframe>"
      ],
      "text/plain": [
       "<plotly.tools.PlotlyDisplay object>"
      ]
     },
     "execution_count": 175,
     "metadata": {},
     "output_type": "execute_result"
    }
   ],
   "source": [
    "# Pie chart variable 'n2513', Variable label = 3P Fearful of new situations or things\n",
    "fig = {\n",
    "    'data': [\n",
    "        {\n",
    "            'labels': ['Does not apply', 'Applies somewhat', 'Certainly applies', 'NA'],\n",
    "            'values': y0,\n",
    "            'type': 'pie',\n",
    "            'name': 'no relapse',\n",
    "             'domain': {'x': [0, .48],\n",
    "                       'y': [0, .49]},\n",
    "            'hoverinfo':'label+percent+name'\n",
    "        },\n",
    "        {\n",
    "            'labels': ['Does not apply', 'Applies somewhat', 'Certainly applies', 'NA'],\n",
    "            'values': y1,\n",
    "            'type': 'pie',\n",
    "            'name':'relapse',\n",
    "            'domain': {'x': [.52, 1],\n",
    "                       'y': [0, .49]},\n",
    "            'hoverinfo':'label+percent+name'\n",
    "        }],\n",
    "    'layout': {'title': 'Category proportions of \"Fearful of new situations abnormality\" by relapse status'}\n",
    "     }\n",
    "\n",
    "py.iplot(fig)"
   ]
  },
  {
   "cell_type": "code",
   "execution_count": 176,
   "metadata": {
    "collapsed": false
   },
   "outputs": [
    {
     "data": {
      "text/html": [
       "<iframe id=\"igraph\" scrolling=\"no\" style=\"border:none;\" seamless=\"seamless\" src=\"https://plot.ly/~xinruicao/30.embed\" height=\"525px\" width=\"100%\"></iframe>"
      ],
      "text/plain": [
       "<plotly.tools.PlotlyDisplay object>"
      ]
     },
     "execution_count": 176,
     "metadata": {},
     "output_type": "execute_result"
    }
   ],
   "source": [
    "# donut\n",
    "fig = {\n",
    "  \"data\": [\n",
    "    {\n",
    "      \"values\": y0,\n",
    "      \"labels\": ['Does not apply', 'Applies somewhat', 'Certainly applies', 'NA'],\n",
    "      \"domain\": {\"x\": [0, .48]},\n",
    "      \"name\": \"No relapse\",\n",
    "      \"hoverinfo\":\"label+percent+name\",\n",
    "      \"hole\": .4,\n",
    "      \"type\": \"pie\"\n",
    "    },     \n",
    "    {\n",
    "      \"values\": y1,\n",
    "      'labels': ['Does not apply', 'Applies somewhat', 'Certainly applies', 'NA'],\n",
    "      \"textposition\":\"inside\",\n",
    "      \"domain\": {\"x\": [.52, 1]},\n",
    "      \"name\": \"Relapse\",\n",
    "      \"hoverinfo\":\"label+percent+name\",\n",
    "      \"hole\": .4,\n",
    "      \"type\": \"pie\"\n",
    "    }],\n",
    "  \"layout\": {\n",
    "        \"title\": 'Category proportions of \"Fearful of new situations abnormality\" by relapse status',\n",
    "        \"annotations\": [\n",
    "            {\n",
    "                \"font\": {\n",
    "                    \"size\": 20\n",
    "                },\n",
    "                \"showarrow\": False,\n",
    "                \"text\": \"No Relapse\",\n",
    "                \"x\": 0.17,\n",
    "                \"y\": 0.5\n",
    "            },\n",
    "            {\n",
    "                \"font\": {\n",
    "                    \"size\": 20\n",
    "                },\n",
    "                \"showarrow\": False,\n",
    "                \"text\": \"Relapse\",\n",
    "                \"x\": 0.82,\n",
    "                \"y\": 0.5\n",
    "            }\n",
    "        ]\n",
    "    }\n",
    "}\n",
    "py.iplot(fig)"
   ]
  },
  {
   "cell_type": "code",
   "execution_count": null,
   "metadata": {
    "collapsed": true
   },
   "outputs": [],
   "source": [
    "#  Doughnut pie chart 'n2631', 3P Seen specialist-emotional prob-MC 1:4\n",
    "emotional_prob = list(data['n2631'])\n",
    "print len(emotional_prob)\n",
    "\n",
    "d = {'emotional_prob': emotional_prob, 'y': y}\n",
    "demo_emotional_prob = pd.DataFrame(data=d)\n",
    "demo_emotional_prob.head()"
   ]
  },
  {
   "cell_type": "code",
   "execution_count": null,
   "metadata": {
    "collapsed": true
   },
   "outputs": [],
   "source": [
    "demo_emotional_prob0 = demo_emotional_prob.query('y == 0')\n",
    "demo_emotional_prob1 = demo_emotional_prob.query('y == 1')\n",
    "total_y0 = len(demo_emotional_prob0)\n",
    "total_y1 = len(demo_emotional_prob1)\n",
    "print total_y0, total_y1"
   ]
  },
  {
   "cell_type": "code",
   "execution_count": null,
   "metadata": {
    "collapsed": true
   },
   "outputs": [],
   "source": [
    "y0 = np.zeros(shape = (8,1))\n",
    "y1 = np.zeros(shape = (8,1))\n",
    "\n",
    "for i in range(1,8):\n",
    "    y0[i-1] = float(sum(demo_emotional_prob0['emotional_prob']==i)/float(total_y0))\n",
    "    y1[i-1] = float(sum(demo_emotional_prob1['emotional_prob']==i)/float(total_y1))\n",
    "    \n",
    "y0[7] = float(sum(demo_emotional_prob0['emotional_prob']==-1)/float(total_y0))\n",
    "y1[7] = float(sum(demo_emotional_prob1['emotional_prob']==-1)/float(total_y1))"
   ]
  },
  {
   "cell_type": "code",
   "execution_count": 179,
   "metadata": {
    "collapsed": false
   },
   "outputs": [
    {
     "data": {
      "text/html": [
       "<iframe id=\"igraph\" scrolling=\"no\" style=\"border:none;\" seamless=\"seamless\" src=\"https://plot.ly/~xinruicao/32.embed\" height=\"525px\" width=\"100%\"></iframe>"
      ],
      "text/plain": [
       "<plotly.tools.PlotlyDisplay object>"
      ]
     },
     "execution_count": 179,
     "metadata": {},
     "output_type": "execute_result"
    }
   ],
   "source": [
    "# donut\n",
    "fig = {\n",
    "  \"data\": [\n",
    "    {\n",
    "      \"values\": y0,\n",
    "      \"labels\": ['No', 'Do not know', 'As an inpatient', 'As an outpatient', 'Child guidance', 'Yes', \n",
    "                 'Diagnosis given', 'NA'],\n",
    "      \"domain\": {\"x\": [0, .48]},\n",
    "      \"name\": \"No relapse\",\n",
    "      \"hoverinfo\":\"label+percent+name\",\n",
    "      \"hole\": .4,\n",
    "      \"type\": \"pie\"\n",
    "    },     \n",
    "    {\n",
    "      \"values\": y1,\n",
    "      \"labels\": ['No', 'Do not know', 'As an inpatient', 'As an outpatient', 'Child guidance', 'Yes', \n",
    "                 'Diagnosis given', 'NA'],\n",
    "      \"domain\": {\"x\": [.52, 1]},\n",
    "      \"name\": \"Relapse\",\n",
    "      \"hoverinfo\":\"label+percent+name\",\n",
    "      \"hole\": .4,\n",
    "      \"type\": \"pie\"\n",
    "    }],\n",
    "  \"layout\": {\n",
    "        \"title\": 'Category proportions of \"Seen specialist for emotional prob\" by relapse status',\n",
    "        \"annotations\": [\n",
    "            {\n",
    "                \"font\": {\n",
    "                    \"size\": 20\n",
    "                },\n",
    "                \"showarrow\": False,\n",
    "                \"text\": \"No Relapse\",\n",
    "                \"x\": 0.17,\n",
    "                \"y\": 0.5\n",
    "            },\n",
    "            {\n",
    "                \"font\": {\n",
    "                    \"size\": 20\n",
    "                },\n",
    "                \"showarrow\": False,\n",
    "                \"text\": \"Relapse\",\n",
    "                \"x\": 0.82,\n",
    "                \"y\": 0.5\n",
    "            }\n",
    "        ]\n",
    "    }\n",
    "}\n",
    "py.iplot(fig)"
   ]
  },
  {
   "cell_type": "code",
   "execution_count": 164,
   "metadata": {
    "collapsed": false
   },
   "outputs": [
    {
     "name": "stdout",
     "output_type": "stream",
     "text": [
      "1026\n"
     ]
    },
    {
     "data": {
      "text/html": [
       "<div>\n",
       "<table border=\"1\" class=\"dataframe\">\n",
       "  <thead>\n",
       "    <tr style=\"text-align: right;\">\n",
       "      <th></th>\n",
       "      <th>irritable</th>\n",
       "      <th>y</th>\n",
       "    </tr>\n",
       "  </thead>\n",
       "  <tbody>\n",
       "    <tr>\n",
       "      <th>7</th>\n",
       "      <td>3</td>\n",
       "      <td>0</td>\n",
       "    </tr>\n",
       "    <tr>\n",
       "      <th>25</th>\n",
       "      <td>1</td>\n",
       "      <td>0</td>\n",
       "    </tr>\n",
       "    <tr>\n",
       "      <th>34</th>\n",
       "      <td>1</td>\n",
       "      <td>0</td>\n",
       "    </tr>\n",
       "    <tr>\n",
       "      <th>56</th>\n",
       "      <td>-1</td>\n",
       "      <td>0</td>\n",
       "    </tr>\n",
       "    <tr>\n",
       "      <th>61</th>\n",
       "      <td>1</td>\n",
       "      <td>0</td>\n",
       "    </tr>\n",
       "  </tbody>\n",
       "</table>\n",
       "</div>"
      ],
      "text/plain": [
       "    irritable  y\n",
       "7           3  0\n",
       "25          1  0\n",
       "34          1  0\n",
       "56         -1  0\n",
       "61          1  0"
      ]
     },
     "execution_count": 164,
     "metadata": {},
     "output_type": "execute_result"
    }
   ],
   "source": [
    "# Pie chart variable 'n1454', Variable label = Is child irritable, quick tempered\n",
    "irritable = list(data['n1454'])\n",
    "print len(irritable)\n",
    "\n",
    "d = {'irritable': irritable, 'y': y}\n",
    "demo_irritable = pd.DataFrame(data=d)\n",
    "demo_irritable.head()"
   ]
  },
  {
   "cell_type": "code",
   "execution_count": 165,
   "metadata": {
    "collapsed": false
   },
   "outputs": [
    {
     "name": "stdout",
     "output_type": "stream",
     "text": [
      "776 250\n"
     ]
    }
   ],
   "source": [
    "demo_irritable0 = demo_irritable.query('y == 0')\n",
    "demo_irritable1 = demo_irritable.query('y == 1')\n",
    "total_y0 = len(demo_irritable0)\n",
    "total_y1 = len(demo_irritable1)\n",
    "print total_y0, total_y1"
   ]
  },
  {
   "cell_type": "code",
   "execution_count": 166,
   "metadata": {
    "collapsed": true
   },
   "outputs": [],
   "source": [
    "y0 = np.zeros(shape = (6,1))\n",
    "y1 = np.zeros(shape = (6,1))\n",
    "\n",
    "for i in range(1,5):\n",
    "    y0[i-1] = float(sum(demo_irritable0['irritable']==i)/float(total_y0))\n",
    "    y1[i-1] = float(sum(demo_irritable1['irritable']==i)/float(total_y1))\n",
    "    \n",
    "y0[4] = float(sum(demo_irritable0['irritable']==9)/float(total_y0))\n",
    "y1[4] = float(sum(demo_irritable1['irritable']==9)/float(total_y1))\n",
    "\n",
    "y0[5] = float(sum(demo_irritable0['irritable']==-1)/float(total_y0))\n",
    "y1[5] = float(sum(demo_irritable1['irritable']==-1)/float(total_y1))"
   ]
  },
  {
   "cell_type": "code",
   "execution_count": 167,
   "metadata": {
    "collapsed": false
   },
   "outputs": [
    {
     "data": {
      "text/html": [
       "<iframe id=\"igraph\" scrolling=\"no\" style=\"border:none;\" seamless=\"seamless\" src=\"https://plot.ly/~xinruicao/24.embed\" height=\"525px\" width=\"100%\"></iframe>"
      ],
      "text/plain": [
       "<plotly.tools.PlotlyDisplay object>"
      ]
     },
     "execution_count": 167,
     "metadata": {},
     "output_type": "execute_result"
    }
   ],
   "source": [
    "fig = {\n",
    "    'data': [\n",
    "        {\n",
    "            'labels': ['No, never', 'Yes, sometimes', 'Yes, frequently', 'Do not know', \n",
    "                       'Inapplicable', 'Not applicable'],\n",
    "            'values': y0,\n",
    "            'type': 'pie',\n",
    "            'name': 'no relapse',\n",
    "             'domain': {'x': [0, .48],\n",
    "                       'y': [0, .49]},\n",
    "            'hoverinfo':'label+percent+name'\n",
    "        },\n",
    "        {\n",
    "            'labels': ['No, never', 'Yes, sometimes', 'Yes, frequently', 'Do not know', \n",
    "                       'Inapplicable', 'Not applicable'],\n",
    "            'values': y1,\n",
    "            'type': 'pie',\n",
    "            'name':'relapse',\n",
    "            'domain': {'x': [.52, 1],\n",
    "                       'y': [0, .49]},\n",
    "            'hoverinfo':'label+percent+name'\n",
    "        }],\n",
    "    'layout': {'title': 'Category proportions of \"Fearful of new situations abnormality\" by relapse status'}\n",
    "     }\n",
    "\n",
    "py.iplot(fig)"
   ]
  }
 ],
 "metadata": {
  "anaconda-cloud": {},
  "kernelspec": {
   "display_name": "Python 2",
   "language": "python",
   "name": "python2"
  },
  "language_info": {
   "codemirror_mode": {
    "name": "ipython",
    "version": 2
   },
   "file_extension": ".py",
   "mimetype": "text/x-python",
   "name": "python",
   "nbconvert_exporter": "python",
   "pygments_lexer": "ipython2",
   "version": "2.7.11"
  }
 },
 "nbformat": 4,
 "nbformat_minor": 0
}
