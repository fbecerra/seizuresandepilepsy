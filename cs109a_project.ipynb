{
 "cells": [
  {
   "cell_type": "markdown",
   "metadata": {},
   "source": [
    "# CS 109A Data Science: Project\n",
    "**Harvard University**<br>\n",
    "**Fall 2016**<br>\n",
    "**Team member:** Becerra, Fernando; Mayo, Andrew Wayne; Ding, Yi; Cao, Xinrui<br>\n",
    "**Project topic:** Predicting Seizures and Epilepsy"
   ]
  },
  {
   "cell_type": "code",
   "execution_count": 1,
   "metadata": {
    "collapsed": true
   },
   "outputs": [],
   "source": [
    "import numpy as np\n",
    "import pandas as pd\n",
    "import scipy as sp\n",
    "import time\n",
    "from scipy.stats import mode\n",
    "from sklearn import linear_model\n",
    "import sklearn.linear_model as sk\n",
    "import matplotlib\n",
    "import matplotlib.pyplot as plt\n",
    "from sklearn import discriminant_analysis\n",
    "import sklearn.discriminant_analysis as da\n",
    "from sklearn.decomposition import PCA\n",
    "from sklearn.neighbors import KNeighborsClassifier as KNN\n",
    "from sklearn import preprocessing\n",
    "from sklearn.preprocessing import PolynomialFeatures\n",
    "%matplotlib inline"
   ]
  },
  {
   "cell_type": "code",
   "execution_count": 104,
   "metadata": {
    "collapsed": false
   },
   "outputs": [
    {
     "data": {
      "text/html": [
       "<div>\n",
       "<table border=\"1\" class=\"dataframe\">\n",
       "  <thead>\n",
       "    <tr style=\"text-align: right;\">\n",
       "      <th></th>\n",
       "      <th>Unnamed: 0</th>\n",
       "      <th>y</th>\n",
       "      <th>trt</th>\n",
       "      <th>base</th>\n",
       "      <th>age</th>\n",
       "      <th>V4</th>\n",
       "      <th>subject</th>\n",
       "      <th>period</th>\n",
       "      <th>lbase</th>\n",
       "      <th>lage</th>\n",
       "    </tr>\n",
       "  </thead>\n",
       "  <tbody>\n",
       "    <tr>\n",
       "      <th>0</th>\n",
       "      <td>1</td>\n",
       "      <td>5</td>\n",
       "      <td>placebo</td>\n",
       "      <td>11</td>\n",
       "      <td>31</td>\n",
       "      <td>0</td>\n",
       "      <td>1</td>\n",
       "      <td>1</td>\n",
       "      <td>-0.756354</td>\n",
       "      <td>0.114204</td>\n",
       "    </tr>\n",
       "    <tr>\n",
       "      <th>1</th>\n",
       "      <td>2</td>\n",
       "      <td>3</td>\n",
       "      <td>placebo</td>\n",
       "      <td>11</td>\n",
       "      <td>31</td>\n",
       "      <td>0</td>\n",
       "      <td>1</td>\n",
       "      <td>2</td>\n",
       "      <td>-0.756354</td>\n",
       "      <td>0.114204</td>\n",
       "    </tr>\n",
       "    <tr>\n",
       "      <th>2</th>\n",
       "      <td>3</td>\n",
       "      <td>3</td>\n",
       "      <td>placebo</td>\n",
       "      <td>11</td>\n",
       "      <td>31</td>\n",
       "      <td>0</td>\n",
       "      <td>1</td>\n",
       "      <td>3</td>\n",
       "      <td>-0.756354</td>\n",
       "      <td>0.114204</td>\n",
       "    </tr>\n",
       "    <tr>\n",
       "      <th>3</th>\n",
       "      <td>4</td>\n",
       "      <td>3</td>\n",
       "      <td>placebo</td>\n",
       "      <td>11</td>\n",
       "      <td>31</td>\n",
       "      <td>1</td>\n",
       "      <td>1</td>\n",
       "      <td>4</td>\n",
       "      <td>-0.756354</td>\n",
       "      <td>0.114204</td>\n",
       "    </tr>\n",
       "    <tr>\n",
       "      <th>4</th>\n",
       "      <td>5</td>\n",
       "      <td>3</td>\n",
       "      <td>placebo</td>\n",
       "      <td>11</td>\n",
       "      <td>30</td>\n",
       "      <td>0</td>\n",
       "      <td>2</td>\n",
       "      <td>1</td>\n",
       "      <td>-0.756354</td>\n",
       "      <td>0.081414</td>\n",
       "    </tr>\n",
       "  </tbody>\n",
       "</table>\n",
       "</div>"
      ],
      "text/plain": [
       "   Unnamed: 0  y      trt  base  age  V4  subject  period     lbase      lage\n",
       "0           1  5  placebo    11   31   0        1       1 -0.756354  0.114204\n",
       "1           2  3  placebo    11   31   0        1       2 -0.756354  0.114204\n",
       "2           3  3  placebo    11   31   0        1       3 -0.756354  0.114204\n",
       "3           4  3  placebo    11   31   1        1       4 -0.756354  0.114204\n",
       "4           5  3  placebo    11   30   0        2       1 -0.756354  0.081414"
      ]
     },
     "execution_count": 104,
     "metadata": {},
     "output_type": "execute_result"
    }
   ],
   "source": [
    "# Read in the data set\n",
    "epil = pd.read_csv('Data/Updated seizure csv/epil.csv', delimiter=',')\n",
    "epil.head()"
   ]
  },
  {
   "cell_type": "code",
   "execution_count": null,
   "metadata": {
    "collapsed": true
   },
   "outputs": [],
   "source": []
  },
  {
   "cell_type": "code",
   "execution_count": 105,
   "metadata": {
    "collapsed": false
   },
   "outputs": [
    {
     "name": "stderr",
     "output_type": "stream",
     "text": [
      "/Users/Jessica/anaconda/lib/python2.7/site-packages/ipykernel/__main__.py:5: SettingWithCopyWarning: \n",
      "A value is trying to be set on a copy of a slice from a DataFrame\n",
      "\n",
      "See the caveats in the documentation: http://pandas.pydata.org/pandas-docs/stable/indexing.html#indexing-view-versus-copy\n",
      "/Users/Jessica/anaconda/lib/python2.7/site-packages/ipykernel/__main__.py:8: SettingWithCopyWarning: \n",
      "A value is trying to be set on a copy of a slice from a DataFrame\n",
      "\n",
      "See the caveats in the documentation: http://pandas.pydata.org/pandas-docs/stable/indexing.html#indexing-view-versus-copy\n"
     ]
    }
   ],
   "source": [
    "# Change objects into numerics\n",
    "list1 = np.where(epil['trt']=='progabide')\n",
    "list2 = np.where(epil['trt']!='progabide')\n",
    "for ind in list1:\n",
    "    epil['trt'][ind] = 1\n",
    "\n",
    "for ind in list2:\n",
    "    epil['trt'][ind] = 0\n",
    "sum(epil['trt'])\n",
    "\n",
    "epil.head()\n",
    "x = epil.iloc[:, 2:9]   # 7 covariates\n",
    "y = epil.iloc[:, -9]    # count of seizure for a 2-week period."
   ]
  },
  {
   "cell_type": "code",
   "execution_count": 106,
   "metadata": {
    "collapsed": false
   },
   "outputs": [
    {
     "name": "stdout",
     "output_type": "stream",
     "text": [
      "Accuracy of LDA: 0.317796610169\n"
     ]
    }
   ],
   "source": [
    "# Fit a Linear Discriminant Analysis (LDA)\n",
    "LDA = da.LinearDiscriminantAnalysis()\n",
    "model_LDA = LDA.fit(x, y.astype(int))\n",
    "print 'Accuracy of LDA:', LDA.score(x,y.astype(int))"
   ]
  },
  {
   "cell_type": "code",
   "execution_count": 107,
   "metadata": {
    "collapsed": false
   },
   "outputs": [
    {
     "name": "stdout",
     "output_type": "stream",
     "text": [
      "Accuracy of multinomial logistic regression: 0.338983050847\n"
     ]
    }
   ],
   "source": [
    "# Fit a multinomial logistic regression model\n",
    "logitm = sk.LogisticRegression(C = 1000000, penalty=\"l1\")\n",
    "logitm.fit(x, y)\n",
    "\n",
    "print 'Accuracy of multinomial logistic regression:', logitm.score(x,y.astype(int))"
   ]
  },
  {
   "cell_type": "markdown",
   "metadata": {},
   "source": [
    "- **Each subject is observed in 4 period, should we combine them into 1 longer period and build model on top of that?** "
   ]
  },
  {
   "cell_type": "code",
   "execution_count": 164,
   "metadata": {
    "collapsed": false
   },
   "outputs": [],
   "source": [
    "# Read in data set UKDA-2024-tab\n",
    "UKDA_2024_tab = pd.read_table('Data/1958 NCDS/UKDA-2024-tab/tab/warnock.tab')\n",
    "UKDA_4992_tab = pd.read_table('Data/1958 NCDS/UKDA-4992-tab/tab/ncds37yearsurveydata.tab')\n",
    "UKDA_5567_tab1 = pd.read_table('Data/1958 NCDS/UKDA-5567-tab/tab/ncds5cmi.tab')\n",
    "UKDA_5567_tab2 = pd.read_table('Data/1958 NCDS/UKDA-5567-tab/tab/ncds5mc.tab')\n",
    "UKDA_5578_tab = pd.read_table('Data/1958 NCDS/UKDA-5578-tab/tab/ncds6.tab')\n",
    "UKDA_6137_tab = pd.read_table('Data/1958 NCDS/UKDA-6137-tab/tab/ncds_2008_followup.tab')\n"
   ]
  },
  {
   "cell_type": "code",
   "execution_count": 102,
   "metadata": {
    "collapsed": false
   },
   "outputs": [
    {
     "name": "stdout",
     "output_type": "stream",
     "text": [
      "(array([  3,  94, 163, 295, 381]),) (array([382]),)\n"
     ]
    }
   ],
   "source": [
    "list_epil = np.where(UKDA_2024_tab['NW0284'] == 2)    # Health problem Epilepsy  \n",
    "list_epil2 = np.where(UKDA_2024_tab['NW0285'] == 2)    # Health problem Epilepsy \n",
    "print list_epil, list_epil2"
   ]
  },
  {
   "cell_type": "code",
   "execution_count": 125,
   "metadata": {
    "collapsed": false
   },
   "outputs": [
    {
     "data": {
      "text/plain": [
       "(array([  61,  495,  592,  862,  983, 1688]),)"
      ]
     },
     "execution_count": 125,
     "metadata": {},
     "output_type": "execute_result"
    }
   ],
   "source": [
    "np.where(UKDA_4992_tab['nss2127'] ==\"6\")    ## long-term problem: Epilepsy"
   ]
  },
  {
   "cell_type": "code",
   "execution_count": 134,
   "metadata": {
    "collapsed": false
   },
   "outputs": [
    {
     "name": "stdout",
     "output_type": "stream",
     "text": [
      "(array([   20,    53,    90,    92,    95,   350,   505,   561,   581,\n",
      "         786,   842,   872,   906,   930,  1005,  1101,  1103,  1104,\n",
      "        1167,  1310,  1386,  1411,  1422,  1555,  1562,  1831,  2061,\n",
      "        2062,  2063,  2082,  2128,  2225,  2332,  2346,  2409,  2542,\n",
      "        2549,  2582,  2588,  2663,  2753,  3077,  3209,  3253,  3259,\n",
      "        3289,  3306,  3318,  3383,  3560,  3610,  3826,  3900,  3931,\n",
      "        4139,  4292,  4511,  4523,  4678,  4780,  4813,  4885,  4924,\n",
      "        5056,  5058,  5216,  5287,  5584,  5643,  5702,  5940,  5944,\n",
      "        5995,  6017,  6147,  6232,  6297,  6362,  6371,  6573,  6599,\n",
      "        6603,  6645,  6689,  6807,  6835,  6939,  6941,  7028,  7043,\n",
      "        7063,  7190,  7266,  7354,  7475,  7575,  7709,  7717,  7754,\n",
      "        7846,  7966,  7997,  8254,  8273,  8359,  8472,  8510,  8681,\n",
      "        8799,  8803,  8885,  8977,  8982,  9191,  9280,  9293,  9375,\n",
      "        9423,  9458,  9506,  9615,  9824,  9831,  9868,  9915, 10049,\n",
      "       10076, 10129, 10599, 10674, 10712, 10837, 10997, 11045, 11058,\n",
      "       11101, 11253, 11294]),)\n",
      "(array([  319,   590,  1611,  1774,  1996,  2554,  3269,  3643,  4668,\n",
      "        5196,  6766,  7339,  8475,  8534,  9001,  9370,  9610, 10005,\n",
      "       10040, 10077, 10949, 10989]),)\n",
      "(array([   90,   684,   930,  1005,  1103,  1310,  1562,  2063,  2128,\n",
      "        2542,  2582,  2753,  2942,  3033,  3209,  3289,  3306,  3318,\n",
      "        3610,  3826,  3900,  5216,  5287,  5940,  5944,  6297,  6362,\n",
      "        6573,  6645,  6835,  6939,  7028,  7063,  7190,  7475,  7575,\n",
      "        7709,  7717,  8254,  8273,  8510,  8803,  8885,  8977,  8982,\n",
      "        9280,  9293,  9831,  9915, 10076, 10712, 10837, 11058, 11294]),)\n",
      "(array([  684,   872,   930,  1005,  1310,  1562,  2063,  2128,  2542,\n",
      "        2582,  2753,  2942,  3033,  3289,  3318,  3610,  3826,  3900,\n",
      "        5216,  5287,  5940,  5944,  6297,  6362,  6573,  6835,  6939,\n",
      "        7028,  7063,  7190,  7475,  7709,  7717,  8254,  8273,  8510,\n",
      "        8803,  8977,  9280,  9293,  9831,  9915, 10076, 10712, 10837,\n",
      "       11058, 11294]),)\n"
     ]
    }
   ],
   "source": [
    "ever_suffer = np.where(UKDA_5567_tab1['n503930'] ==\"1\")\n",
    "only_pregnant = np.where(UKDA_5567_tab1['n503930'] ==\"2\")\n",
    "suffer_last_12_month = np.where(UKDA_5567_tab1['n503931']=='1')\n",
    "seen_doctor_last_12_month = np.where(UKDA_5567_tab1['n503932']=='1')\n",
    "print ever_suffer  # Ever suffered yes\n",
    "print only_pregnant   # Only when pregnant\n",
    "print suffer_last_12_month   # subject having seizure during the last 12 month\n",
    "print seen_doctor_last_12_month   # subject went to the doctor's during the last 12 month"
   ]
  },
  {
   "cell_type": "code",
   "execution_count": 152,
   "metadata": {
    "collapsed": false
   },
   "outputs": [
    {
     "name": "stdout",
     "output_type": "stream",
     "text": [
      "(array([ 371, 1363, 1438, 1565, 1793, 1925, 2360, 3295, 3629, 3780, 3977,\n",
      "       4234]),)\n",
      "(array([ 371, 1363, 1438, 1565, 1793, 1925, 3780, 3977, 4234]),)\n",
      "(array([ 371, 1363, 1438, 1565, 1793, 1925, 2360, 3295, 3629, 3780, 3977]),)\n"
     ]
    }
   ],
   "source": [
    "mother_epil_ever = np.where(UKDA_5567_tab2['n516623'] == 1)   # mother who had epil before\n",
    "print mother_epil_ever\n",
    "\n",
    "age_first_attack = np.where(UKDA_5567_tab2['n516624'] != 0)    # age first attacked by epil\n",
    "print age_first_attack\n",
    "\n",
    "age_last_attack = np.where(UKDA_5567_tab2['n516626'] != 0)    # age last attacked by epil\n",
    "print age_last_attack"
   ]
  },
  {
   "cell_type": "code",
   "execution_count": 167,
   "metadata": {
    "collapsed": false
   },
   "outputs": [
    {
     "name": "stdout",
     "output_type": "stream",
     "text": [
      "(array([  303,   355,   421,   436,   764,   765,  1049,  1101,  1102,\n",
      "        1103,  1165,  1202,  1263,  1276,  1560,  1568,  1725,  1729,\n",
      "        1836,  1845,  1891,  1956,  2005,  3390,  3401,  3429,  3840,\n",
      "        3885,  3916,  4016,  4046,  4090,  4408,  4416,  4424,  4494,\n",
      "        4528,  4547,  4564,  4577,  4872,  4913,  5021,  5041,  5387,\n",
      "        5427,  5494,  5617,  5624,  5675,  5745,  5788,  5811,  5813,\n",
      "        5826,  6403,  6543,  6545,  6552,  6571,  6576,  6618,  7229,\n",
      "        7266,  7275,  7329,  7358,  7410,  7599,  7673,  7679,  7706,\n",
      "        7717,  7719,  7751,  7769,  7809,  7836,  7918,  8201,  8204,\n",
      "        8219,  8255,  8301,  8419,  8432,  8459,  8494,  8523,  8612,\n",
      "        8656,  9755,  9794,  9830,  9876,  9878,  9908,  9931, 10772,\n",
      "       10809, 10857, 10879, 10882, 10884, 10915, 10922, 10966, 10992,\n",
      "       11004, 11014, 11027, 11069, 11129, 11212, 11246, 11251, 11252,\n",
      "       11320, 11338]),)\n"
     ]
    },
    {
     "data": {
      "text/plain": [
       "11419"
      ]
     },
     "execution_count": 167,
     "metadata": {},
     "output_type": "execute_result"
    }
   ],
   "source": [
    "seizure_ever = np.where(UKDA_5578_tab['fit'] == 1)   # CM ever had fits,convulsions,epilepsy\n",
    "print seizure_ever\n",
    "len(UKDA_5578_tab)"
   ]
  },
  {
   "cell_type": "code",
   "execution_count": 168,
   "metadata": {
    "collapsed": false
   },
   "outputs": [
    {
     "name": "stdout",
     "output_type": "stream",
     "text": [
      "(array([ 685,  794,  855,  936,  937, 1012, 1330, 1335, 1575, 1776, 2191,\n",
      "       2409, 2454, 2473, 2486, 2522, 2874, 2926, 3185, 3253, 3276, 3402,\n",
      "       3493, 3553, 3755, 3761, 3869, 3892, 4335, 4430, 4455, 4579, 4722,\n",
      "       4761, 5290, 5359, 5408, 5414, 5438, 5669, 5685, 5898, 5995, 6071,\n",
      "       6294, 6416, 6582, 6616, 6795, 6865, 7025, 7038, 7071, 7142, 7453,\n",
      "       7470, 7475, 7564, 7645, 7667, 7687, 7716, 7719, 7773, 7823, 7888,\n",
      "       8000, 8051, 8108, 8465, 8570, 8596, 8602, 8651, 8790, 8837, 9167,\n",
      "       9247, 9367, 9380, 9630]),)\n",
      "(array([ 794,  936,  937, 1012, 1330, 1335, 1575, 1776, 2191, 2409, 2473,\n",
      "       2486, 2522, 2874, 2926, 3185, 3253, 3276, 3402, 3493, 3553, 3761,\n",
      "       3869, 3892, 4335, 4430, 4455, 4579, 4722, 4761, 5359, 5414, 5438,\n",
      "       5669, 5685, 5898, 5995, 6071, 6294, 6416, 6582, 6616, 7025, 7038,\n",
      "       7142, 7453, 7470, 7475, 7564, 7645, 7667, 7687, 7716, 7719, 7773,\n",
      "       7888, 8000, 8051, 8465, 8570, 8596, 8602, 8790, 8837, 9167, 9247,\n",
      "       9367, 9380, 9630]),)\n",
      "(array([2224, 5070, 5916, 7046, 7923, 9098]),)\n",
      "(array([2224, 5070, 5916, 7046, 7923, 9098]),)\n"
     ]
    },
    {
     "data": {
      "text/plain": [
       "9790"
      ]
     },
     "execution_count": 168,
     "metadata": {},
     "output_type": "execute_result"
    }
   ],
   "source": [
    "seizure_ever1 = np.where(UKDA_6137_tab['N8KHPB04'] == 1)   # \"KHLPRB4\" CM ever had fits,convulsions,epilepsy\n",
    "print seizure_ever1\n",
    "\n",
    "medicat1 = np.where(UKDA_6137_tab['N8FITSMD'] == 1) # \"fitsmed\" reg medicat for convulsion/fits/epileptic seizures\n",
    "print medicat1\n",
    "\n",
    "seizure_ever2 = np.where(UKDA_6137_tab['N8XKHP04'] == 1) # \"Proxy\" CM ever had fits,convulsions,epilepsy\n",
    "print seizure_ever2\n",
    "\n",
    "medicat2 = np.where(UKDA_6137_tab['N8XFITMD'] == 1) # \"proxy\" reg medicat for convulsion/fits/epileptic seizures\n",
    "print medicat2\n",
    "\n",
    "len(UKDA_6137_tab)"
   ]
  },
  {
   "cell_type": "code",
   "execution_count": null,
   "metadata": {
    "collapsed": true
   },
   "outputs": [],
   "source": []
  }
 ],
 "metadata": {
  "anaconda-cloud": {},
  "kernelspec": {
   "display_name": "Python 2",
   "language": "python",
   "name": "python2"
  },
  "language_info": {
   "codemirror_mode": {
    "name": "ipython",
    "version": 2
   },
   "file_extension": ".py",
   "mimetype": "text/x-python",
   "name": "python",
   "nbconvert_exporter": "python",
   "pygments_lexer": "ipython2",
   "version": "2.7.11"
  }
 },
 "nbformat": 4,
 "nbformat_minor": 0
}
