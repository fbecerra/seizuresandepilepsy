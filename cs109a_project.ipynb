{
 "cells": [
  {
   "cell_type": "markdown",
   "metadata": {},
   "source": [
    "# CS 109A Data Science: Project\n",
    "**Harvard University**<br>\n",
    "**Fall 2016**<br>\n",
    "**Team member:** Becerra, Fernando; Mayo, Andrew Wayne; Ding, Yi; Cao, Xinrui<br>\n",
    "**Project topic:** Predicting Seizures and Epilepsy"
   ]
  },
  {
   "cell_type": "code",
   "execution_count": 103,
   "metadata": {
    "collapsed": true
   },
   "outputs": [],
   "source": [
    "import numpy as np\n",
    "import pandas as pd\n",
    "import scipy as sp\n",
    "import time\n",
    "from scipy.stats import mode\n",
    "from sklearn import linear_model\n",
    "import sklearn.linear_model as sk\n",
    "import matplotlib\n",
    "import matplotlib.pyplot as plt\n",
    "from sklearn import discriminant_analysis\n",
    "import sklearn.discriminant_analysis as da\n",
    "from sklearn.decomposition import PCA\n",
    "from sklearn.neighbors import KNeighborsClassifier as KNN\n",
    "from sklearn import preprocessing\n",
    "from sklearn.preprocessing import PolynomialFeatures\n",
    "%matplotlib inline"
   ]
  },
  {
   "cell_type": "code",
   "execution_count": 104,
   "metadata": {
    "collapsed": false
   },
   "outputs": [
    {
     "data": {
      "text/html": [
       "<div>\n",
       "<table border=\"1\" class=\"dataframe\">\n",
       "  <thead>\n",
       "    <tr style=\"text-align: right;\">\n",
       "      <th></th>\n",
       "      <th>Unnamed: 0</th>\n",
       "      <th>y</th>\n",
       "      <th>trt</th>\n",
       "      <th>base</th>\n",
       "      <th>age</th>\n",
       "      <th>V4</th>\n",
       "      <th>subject</th>\n",
       "      <th>period</th>\n",
       "      <th>lbase</th>\n",
       "      <th>lage</th>\n",
       "    </tr>\n",
       "  </thead>\n",
       "  <tbody>\n",
       "    <tr>\n",
       "      <th>0</th>\n",
       "      <td>1</td>\n",
       "      <td>5</td>\n",
       "      <td>placebo</td>\n",
       "      <td>11</td>\n",
       "      <td>31</td>\n",
       "      <td>0</td>\n",
       "      <td>1</td>\n",
       "      <td>1</td>\n",
       "      <td>-0.756354</td>\n",
       "      <td>0.114204</td>\n",
       "    </tr>\n",
       "    <tr>\n",
       "      <th>1</th>\n",
       "      <td>2</td>\n",
       "      <td>3</td>\n",
       "      <td>placebo</td>\n",
       "      <td>11</td>\n",
       "      <td>31</td>\n",
       "      <td>0</td>\n",
       "      <td>1</td>\n",
       "      <td>2</td>\n",
       "      <td>-0.756354</td>\n",
       "      <td>0.114204</td>\n",
       "    </tr>\n",
       "    <tr>\n",
       "      <th>2</th>\n",
       "      <td>3</td>\n",
       "      <td>3</td>\n",
       "      <td>placebo</td>\n",
       "      <td>11</td>\n",
       "      <td>31</td>\n",
       "      <td>0</td>\n",
       "      <td>1</td>\n",
       "      <td>3</td>\n",
       "      <td>-0.756354</td>\n",
       "      <td>0.114204</td>\n",
       "    </tr>\n",
       "    <tr>\n",
       "      <th>3</th>\n",
       "      <td>4</td>\n",
       "      <td>3</td>\n",
       "      <td>placebo</td>\n",
       "      <td>11</td>\n",
       "      <td>31</td>\n",
       "      <td>1</td>\n",
       "      <td>1</td>\n",
       "      <td>4</td>\n",
       "      <td>-0.756354</td>\n",
       "      <td>0.114204</td>\n",
       "    </tr>\n",
       "    <tr>\n",
       "      <th>4</th>\n",
       "      <td>5</td>\n",
       "      <td>3</td>\n",
       "      <td>placebo</td>\n",
       "      <td>11</td>\n",
       "      <td>30</td>\n",
       "      <td>0</td>\n",
       "      <td>2</td>\n",
       "      <td>1</td>\n",
       "      <td>-0.756354</td>\n",
       "      <td>0.081414</td>\n",
       "    </tr>\n",
       "  </tbody>\n",
       "</table>\n",
       "</div>"
      ],
      "text/plain": [
       "   Unnamed: 0  y      trt  base  age  V4  subject  period     lbase      lage\n",
       "0           1  5  placebo    11   31   0        1       1 -0.756354  0.114204\n",
       "1           2  3  placebo    11   31   0        1       2 -0.756354  0.114204\n",
       "2           3  3  placebo    11   31   0        1       3 -0.756354  0.114204\n",
       "3           4  3  placebo    11   31   1        1       4 -0.756354  0.114204\n",
       "4           5  3  placebo    11   30   0        2       1 -0.756354  0.081414"
      ]
     },
     "execution_count": 104,
     "metadata": {},
     "output_type": "execute_result"
    }
   ],
   "source": [
    "# Read in the data set\n",
    "epil = pd.read_csv('Data/Updated seizure csv/epil.csv', delimiter=',')\n",
    "epil.head()"
   ]
  },
  {
   "cell_type": "code",
   "execution_count": null,
   "metadata": {
    "collapsed": true
   },
   "outputs": [],
   "source": []
  },
  {
   "cell_type": "code",
   "execution_count": 105,
   "metadata": {
    "collapsed": false
   },
   "outputs": [
    {
     "name": "stderr",
     "output_type": "stream",
     "text": [
      "/Users/Jessica/anaconda/lib/python2.7/site-packages/ipykernel/__main__.py:5: SettingWithCopyWarning: \n",
      "A value is trying to be set on a copy of a slice from a DataFrame\n",
      "\n",
      "See the caveats in the documentation: http://pandas.pydata.org/pandas-docs/stable/indexing.html#indexing-view-versus-copy\n",
      "/Users/Jessica/anaconda/lib/python2.7/site-packages/ipykernel/__main__.py:8: SettingWithCopyWarning: \n",
      "A value is trying to be set on a copy of a slice from a DataFrame\n",
      "\n",
      "See the caveats in the documentation: http://pandas.pydata.org/pandas-docs/stable/indexing.html#indexing-view-versus-copy\n"
     ]
    }
   ],
   "source": [
    "# Change objects into numerics\n",
    "list1 = np.where(epil['trt']=='progabide')\n",
    "list2 = np.where(epil['trt']!='progabide')\n",
    "for ind in list1:\n",
    "    epil['trt'][ind] = 1\n",
    "\n",
    "for ind in list2:\n",
    "    epil['trt'][ind] = 0\n",
    "sum(epil['trt'])\n",
    "\n",
    "epil.head()\n",
    "x = epil.iloc[:, 2:9]   # 7 covariates\n",
    "y = epil.iloc[:, -9]    # count of seizure for a 2-week period."
   ]
  },
  {
   "cell_type": "code",
   "execution_count": 106,
   "metadata": {
    "collapsed": false
   },
   "outputs": [
    {
     "name": "stdout",
     "output_type": "stream",
     "text": [
      "Accuracy of LDA: 0.317796610169\n"
     ]
    }
   ],
   "source": [
    "# Fit a Linear Discriminant Analysis (LDA)\n",
    "LDA = da.LinearDiscriminantAnalysis()\n",
    "model_LDA = LDA.fit(x, y.astype(int))\n",
    "print 'Accuracy of LDA:', LDA.score(x,y.astype(int))"
   ]
  },
  {
   "cell_type": "code",
   "execution_count": 107,
   "metadata": {
    "collapsed": false
   },
   "outputs": [
    {
     "name": "stdout",
     "output_type": "stream",
     "text": [
      "Accuracy of multinomial logistic regression: 0.338983050847\n"
     ]
    }
   ],
   "source": [
    "# Fit a multinomial logistic regression model\n",
    "logitm = sk.LogisticRegression(C = 1000000, penalty=\"l1\")\n",
    "logitm.fit(x, y)\n",
    "\n",
    "print 'Accuracy of multinomial logistic regression:', logitm.score(x,y.astype(int))"
   ]
  },
  {
   "cell_type": "markdown",
   "metadata": {},
   "source": [
    "- **Each subject is observed in 4 period, should we combine them into 1 longer period and build model on top of that?** "
   ]
  },
  {
   "cell_type": "code",
   "execution_count": 170,
   "metadata": {
    "collapsed": false
   },
   "outputs": [],
   "source": [
    "# Read in data set UKDA-2024-tab\n",
    "UKDA_2024_tab = pd.read_table('Data/1958 NCDS/UKDA-2024-tab/tab/warnock.tab.txt')\n",
    "UKDA_4992_tab = pd.read_table('Data/1958 NCDS/UKDA-4992-tab/tab/ncds37yearsurveydata.tab.txt')\n",
    "UKDA_5567_tab1 = pd.read_table('Data/1958 NCDS/UKDA-5567-tab/tab/ncds5cmi.tab.txt')\n",
    "UKDA_5567_tab2 = pd.read_table('Data/1958 NCDS/UKDA-5567-tab/tab/ncds5mc.tab.txt')\n",
    "UKDA_5578_tab = pd.read_table('Data/1958 NCDS/UKDA-5578-tab/tab/ncds6.tab.txt')\n",
    "UKDA_6137_tab = pd.read_table('Data/1958 NCDS/UKDA-6137-tab/tab/ncds_2008_followup.tab.txt')\n"
   ]
  },
  {
   "cell_type": "code",
   "execution_count": 215,
   "metadata": {
    "collapsed": false
   },
   "outputs": [
    {
     "name": "stdout",
     "output_type": "stream",
     "text": [
      "(array([  3,  94, 163, 295, 381]),) (array([382]),)\n"
     ]
    }
   ],
   "source": [
    "# 1976, age = 18\n",
    "list_epil = np.where(UKDA_2024_tab['NW0284'] == 2)    # Health problem Epilepsy  \n",
    "list_epil2 = np.where(UKDA_2024_tab['NW0285'] == 2)    # Health problem Epilepsy \n",
    "print list_epil, list_epil2\n",
    "\n",
    "diseased_size = 6\n",
    "sample_size = len(UKDA_2024_tab)\n",
    "y18 = float(diseased_size)/float(sample_size)"
   ]
  },
  {
   "cell_type": "code",
   "execution_count": 216,
   "metadata": {
    "collapsed": false
   },
   "outputs": [
    {
     "name": "stdout",
     "output_type": "stream",
     "text": [
      "(array([   20,    53,    90,    92,    95,   350,   505,   561,   581,\n",
      "         786,   842,   872,   906,   930,  1005,  1101,  1103,  1104,\n",
      "        1167,  1310,  1386,  1411,  1422,  1555,  1562,  1831,  2061,\n",
      "        2062,  2063,  2082,  2128,  2225,  2332,  2346,  2409,  2542,\n",
      "        2549,  2582,  2588,  2663,  2753,  3077,  3209,  3253,  3259,\n",
      "        3289,  3306,  3318,  3383,  3560,  3610,  3826,  3900,  3931,\n",
      "        4139,  4292,  4511,  4523,  4678,  4780,  4813,  4885,  4924,\n",
      "        5056,  5058,  5216,  5287,  5584,  5643,  5702,  5940,  5944,\n",
      "        5995,  6017,  6147,  6232,  6297,  6362,  6371,  6573,  6599,\n",
      "        6603,  6645,  6689,  6807,  6835,  6939,  6941,  7028,  7043,\n",
      "        7063,  7190,  7266,  7354,  7475,  7575,  7709,  7717,  7754,\n",
      "        7846,  7966,  7997,  8254,  8273,  8359,  8472,  8510,  8681,\n",
      "        8799,  8803,  8885,  8977,  8982,  9191,  9280,  9293,  9375,\n",
      "        9423,  9458,  9506,  9615,  9824,  9831,  9868,  9915, 10049,\n",
      "       10076, 10129, 10599, 10674, 10712, 10837, 10997, 11045, 11058,\n",
      "       11101, 11253, 11294]),)\n",
      "(array([  319,   590,  1611,  1774,  1996,  2554,  3269,  3643,  4668,\n",
      "        5196,  6766,  7339,  8475,  8534,  9001,  9370,  9610, 10005,\n",
      "       10040, 10077, 10949, 10989]),)\n",
      "(array([   90,   684,   930,  1005,  1103,  1310,  1562,  2063,  2128,\n",
      "        2542,  2582,  2753,  2942,  3033,  3209,  3289,  3306,  3318,\n",
      "        3610,  3826,  3900,  5216,  5287,  5940,  5944,  6297,  6362,\n",
      "        6573,  6645,  6835,  6939,  7028,  7063,  7190,  7475,  7575,\n",
      "        7709,  7717,  8254,  8273,  8510,  8803,  8885,  8977,  8982,\n",
      "        9280,  9293,  9831,  9915, 10076, 10712, 10837, 11058, 11294]),)\n",
      "(array([  684,   872,   930,  1005,  1310,  1562,  2063,  2128,  2542,\n",
      "        2582,  2753,  2942,  3033,  3289,  3318,  3610,  3826,  3900,\n",
      "        5216,  5287,  5940,  5944,  6297,  6362,  6573,  6835,  6939,\n",
      "        7028,  7063,  7190,  7475,  7709,  7717,  8254,  8273,  8510,\n",
      "        8803,  8977,  9280,  9293,  9831,  9915, 10076, 10712, 10837,\n",
      "       11058, 11294]),)\n"
     ]
    }
   ],
   "source": [
    "# 1991, age = 33\n",
    "ever_suffer = np.where(UKDA_5567_tab1['n503930'] ==\"1\")\n",
    "only_pregnant = np.where(UKDA_5567_tab1['n503930'] ==\"2\")\n",
    "suffer_last_12_month = np.where(UKDA_5567_tab1['n503931']=='1')\n",
    "seen_doctor_last_12_month = np.where(UKDA_5567_tab1['n503932']=='1')\n",
    "print ever_suffer  # Ever suffered yes\n",
    "print only_pregnant   # Only when pregnant\n",
    "print suffer_last_12_month   # subject having seizure during the last 12 month\n",
    "print seen_doctor_last_12_month   # subject went to the doctor's during the last 12 month\n",
    "\n",
    "#for ind in ever_suffer:\n",
    "#    diseased_individual = UKDA_5567_tab1.iloc[ind]\n",
    "#print diseased_individual.shape\n",
    "\n",
    "diseased_size = 138 + 22\n",
    "sample_size = len(UKDA_5567_tab1)\n",
    "y33_1 = float(diseased_size)/float(sample_size)"
   ]
  },
  {
   "cell_type": "code",
   "execution_count": 217,
   "metadata": {
    "collapsed": false
   },
   "outputs": [
    {
     "name": "stdout",
     "output_type": "stream",
     "text": [
      "(array([ 371, 1363, 1438, 1565, 1793, 1925, 2360, 3295, 3629, 3780, 3977,\n",
      "       4234]),)\n",
      "(array([ 371, 1363, 1438, 1565, 1793, 1925, 3780, 3977, 4234]),)\n",
      "(array([ 371, 1363, 1438, 1565, 1793, 1925, 2360, 3295, 3629, 3780, 3977]),)\n"
     ]
    }
   ],
   "source": [
    "# 1991, AGE = 33\n",
    "mother_epil_ever = np.where(UKDA_5567_tab2['n516623'] == 1)   # mother who had epil before\n",
    "print mother_epil_ever\n",
    "\n",
    "age_first_attack = np.where(UKDA_5567_tab2['n516624'] != 0)    # age first attacked by epil\n",
    "print age_first_attack\n",
    "\n",
    "age_last_attack = np.where(UKDA_5567_tab2['n516626'] != 0)    # age last attacked by epil\n",
    "print age_last_attack\n",
    "    \n",
    "diseased_size = 13\n",
    "sample_size = len(UKDA_5567_tab2)\n",
    "y33_2 = float(diseased_size)/float(sample_size)\n",
    "y33 = float(138 + 22+13) / (len(UKDA_5567_tab1) + len(UKDA_5567_tab2))\n"
   ]
  },
  {
   "cell_type": "code",
   "execution_count": 218,
   "metadata": {
    "collapsed": false
   },
   "outputs": [],
   "source": [
    "# 1995, age = 37\n",
    "np.where(UKDA_4992_tab['nss2127'] ==\"6\")    ## long-term problem: Epilepsy\n",
    "\n",
    "diseased_size = 6\n",
    "sample_size = len(UKDA_4992_tab)\n",
    "y37 = float(diseased_size)/float(sample_size)"
   ]
  },
  {
   "cell_type": "code",
   "execution_count": 219,
   "metadata": {
    "collapsed": false
   },
   "outputs": [],
   "source": [
    "# 1999-2000, AGE 42\n",
    "seizure_ever = np.where(UKDA_5578_tab['fit'] == 1)   # CM ever had fits,convulsions,epilepsy\n",
    "#print seizure_ever\n",
    "len(UKDA_5578_tab)\n",
    "#len(seizure_ever)\n",
    "for ind in seizure_ever:\n",
    "    diseased_individual = UKDA_5578_tab.iloc[ind]\n",
    "diseased_individual.shape\n",
    "\n",
    "#UKDA_5578_tab[['fit','sexp','age', 'sex']].describe() \n",
    "\n",
    "diseased_size = 119\n",
    "sample_size = len(UKDA_5578_tab)\n",
    "y42 = float(diseased_size)/float(sample_size)\n",
    "\n",
    "#diseased_individual[sexp]\n",
    "#diseased_individual[age]\n",
    "#print UKDA_5578_tab.columns.values"
   ]
  },
  {
   "cell_type": "code",
   "execution_count": 220,
   "metadata": {
    "collapsed": false
   },
   "outputs": [],
   "source": [
    "# 2008-2009, AGE 50\n",
    "seizure_ever1 = np.where(UKDA_6137_tab['N8KHPB04'] == 1)   # \"KHLPRB4\" CM ever had fits,convulsions,epilepsy\n",
    "#print seizure_ever1\n",
    "\n",
    "medicat1 = np.where(UKDA_6137_tab['N8FITSMD'] == 1) # \"fitsmed\" reg medicat for convulsion/fits/epileptic seizures\n",
    "#print medicat1\n",
    "\n",
    "seizure_ever2 = np.where(UKDA_6137_tab['N8XKHP04'] == 1) # \"Proxy\" CM ever had fits,convulsions,epilepsy\n",
    "#print seizure_ever2\n",
    "\n",
    "medicat2 = np.where(UKDA_6137_tab['N8XFITMD'] == 1) # \"proxy\" reg medicat for convulsion/fits/epileptic seizures\n",
    "#print medicat2\n",
    "\n",
    "#UKDA_6137_tab[['age', 'sex']].describe()\n",
    "\n",
    "for ind in seizure_ever1:\n",
    "    diseased_size = UKDA_6137_tab.iloc[ind]\n",
    "diseased_size.shape\n",
    "\n",
    "#diseased_size = len(seizure_ever1) + len(seizure_ever2)\n",
    "diseased_size = 81\n",
    "sample_size = len(UKDA_6137_tab)\n",
    "y50 = float(diseased_size)/float(sample_size)\n"
   ]
  },
  {
   "cell_type": "code",
   "execution_count": 225,
   "metadata": {
    "collapsed": false
   },
   "outputs": [
    {
     "data": {
      "image/png": "[encoded data removed]",
      "text/plain": [
       "<matplotlib.figure.Figure at 0x126230350>"
      ]
     },
     "metadata": {},
     "output_type": "display_data"
    }
   ],
   "source": [
    "list_proportion = [y18, y33, y37, y42, y50]\n",
    "list_age = [18, 33, 37, 42, 50]\n",
    "plt.figure(figsize=(8,5))\n",
    "plt.plot(list_age, list_proportion,'ro-')\n",
    "plt.xlabel('Age'); plt.ylabel('Proportion had seizure before')\n",
    "plt.title('Longitudinal seizure proportion comparison')\n",
    "plt.show()"
   ]
  },
  {
   "cell_type": "code",
   "execution_count": null,
   "metadata": {
    "collapsed": true
   },
   "outputs": [],
   "source": []
  },
  {
   "cell_type": "code",
   "execution_count": null,
   "metadata": {
    "collapsed": true
   },
   "outputs": [],
   "source": []
  },
  {
   "cell_type": "code",
   "execution_count": null,
   "metadata": {
    "collapsed": true
   },
   "outputs": [],
   "source": []
  },
  {
   "cell_type": "code",
   "execution_count": null,
   "metadata": {
    "collapsed": true
   },
   "outputs": [],
   "source": []
  }
 ],
 "metadata": {
  "anaconda-cloud": {},
  "kernelspec": {
   "display_name": "Python 2",
   "language": "python",
   "name": "python2"
  },
  "language_info": {
   "codemirror_mode": {
    "name": "ipython",
    "version": 2
   },
   "file_extension": ".py",
   "mimetype": "text/x-python",
   "name": "python",
   "nbconvert_exporter": "python",
   "pygments_lexer": "ipython2",
   "version": "2.7.11"
  }
 },
 "nbformat": 4,
 "nbformat_minor": 0
}
